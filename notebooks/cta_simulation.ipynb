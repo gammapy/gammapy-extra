{
 "cells": [
  {
   "cell_type": "markdown",
   "metadata": {},
   "source": [
    "# CTA simulation tools\n",
    "\n",
    "## Introduction\n",
    "\n",
    "In this tutorial we will simulate the expected counts of a Fermi/LAT source in the CTA energy range.\n",
    "\n",
    "We will go through the following topics: \n",
    " - handling of Fermi/LAT 3FHL catalogue with [gammapy.catalog.SourceCatalog3FHL](http://docs.gammapy.org/en/latest/catalog/)\n",
    " - handling of EBL tables with [gammapy.spectrum.TableModel](http://docs.gammapy.org/en/latest/api/gammapy.spectrum.models.TableModel.html#gammapy.spectrum.models.TableModel)\n",
    " - handling of CTA responses with [gammapy.scripts.CTAPerf](http://docs.gammapy.org/en/latest/api/gammapy.scripts.CTAPerf.html?highlight=ctaperf)\n",
    " - simulation of an observation for a given set of parameters with [gammapy.scripts.CTAObservationSimulation](http://docs.gammapy.org/en/latest/api/gammapy.scripts.CTAObservationSimulation.html#gammapy.scripts.CTAObservationSimulation)\n",
    " - Illustration of Sherpa power to fit an observation with a user model (coming soon)\n",
    " \n",
    "## Setup\n",
    "\n",
    "In order to deal with plots we will begin with matplotlib import:  "
   ]
  },
  {
   "cell_type": "code",
   "execution_count": null,
   "metadata": {
    "collapsed": true
   },
   "outputs": [],
   "source": [
    "%matplotlib inline\n",
    "import matplotlib.pyplot as plt"
   ]
  },
  {
   "cell_type": "markdown",
   "metadata": {},
   "source": [
    "## PKS 2155-304 selection from the 3FHL Fermi/LAT catalogue\n",
    "We will start by selecting the source PKS 2155-304 in the 3FHL Fermi/LAT catalogue for further use."
   ]
  },
  {
   "cell_type": "code",
   "execution_count": null,
   "metadata": {
    "collapsed": true
   },
   "outputs": [],
   "source": [
    "from gammapy.catalog import SourceCatalog3FHL\n",
    "\n",
    "# load catalogs\n",
    "fermi_3fhl = SourceCatalog3FHL()\n",
    "name = 'PKS 2155-304'\n",
    "source = fermi_3fhl[name]"
   ]
  },
  {
   "cell_type": "markdown",
   "metadata": {},
   "source": [
    "We can then access the caracteristics of the source via the `data` attribut and select its spectral model for further use. "
   ]
  },
  {
   "cell_type": "code",
   "execution_count": null,
   "metadata": {
    "collapsed": true
   },
   "outputs": [],
   "source": [
    "redshift = source.data['Redshift']\n",
    "src_spectral_model = source.spectral_model"
   ]
  },
  {
   "cell_type": "markdown",
   "metadata": {},
   "source": [
    "Here is an example on how to plot the source spectra"
   ]
  },
  {
   "cell_type": "code",
   "execution_count": null,
   "metadata": {
    "collapsed": false
   },
   "outputs": [],
   "source": [
    "# plot the Fermi/LAT model\n",
    "import astropy.units as u\n",
    "src_spectral_model.plot(energy_range=[10 * u.GeV, 2 *u.TeV])"
   ]
  },
  {
   "cell_type": "markdown",
   "metadata": {},
   "source": [
    "## Select a model for EBL absorption\n",
    "We will need to modelise EBL (extragalactic background light) attenuation to have get a 'realistic' simulation. Different models are available in GammaPy. Here is an example on how to deal with the absorption coefficients. "
   ]
  },
  {
   "cell_type": "code",
   "execution_count": null,
   "metadata": {
    "collapsed": true
   },
   "outputs": [],
   "source": [
    "from gammapy.spectrum.models import Absorption\n",
    "\n",
    "# Load models for PKS 2155-304 redshift \n",
    "dominguez = Absorption.read_builtin('dominguez').table_model(redshift)\n",
    "franceschini = Absorption.read_builtin('franceschini').table_model(redshift)\n",
    "finke = Absorption.read_builtin('finke').table_model(redshift)"
   ]
  },
  {
   "cell_type": "markdown",
   "metadata": {},
   "source": [
    "From here you can have access to the absorption coefficient for a given energy."
   ]
  },
  {
   "cell_type": "code",
   "execution_count": null,
   "metadata": {
    "collapsed": false
   },
   "outputs": [],
   "source": [
    "energy = 1 * u.TeV\n",
    "abs_value = dominguez.evaluate(energy=energy, amplitude=1.)\n",
    "print('absorption({} {}) = {}'.format(energy.value, energy.unit, abs_value))"
   ]
  },
  {
   "cell_type": "markdown",
   "metadata": {},
   "source": [
    "Below is an example to plot EBL absorption for different models "
   ]
  },
  {
   "cell_type": "code",
   "execution_count": null,
   "metadata": {
    "collapsed": false
   },
   "outputs": [],
   "source": [
    "# start customised plot\n",
    "energy_range = [0.08, 3] * u.TeV\n",
    "ax = plt.gca()\n",
    "opts = dict(energy_range=energy_range, energy_unit='TeV', ax=ax)\n",
    "franceschini.plot(label='Franceschini 2008', **opts)\n",
    "finke.plot(label='Finke 2010', **opts)\n",
    "dominguez.plot(label='Dominguez 2011', **opts)\n",
    "\n",
    "# tune plot\n",
    "ax.set_ylabel(r'Absorption coefficient [$\\exp{(-        au(E))}$]')\n",
    "ax.set_xlim(energy_range.value)  # we get ride of units\n",
    "ax.set_ylim([1.e-1, 2.])\n",
    "ax.set_yscale('log')\n",
    "ax.set_title('EBL models (z=' + str(redshift) + ')')\n",
    "plt.grid(which='both')\n",
    "plt.legend(loc='best') # legend\n",
    "\n",
    "# show plot\n",
    "plt.show()\n"
   ]
  },
  {
   "cell_type": "markdown",
   "metadata": {},
   "source": [
    "## CTA instrument response functions\n",
    "Here we are going to deal with CTA point-like instrument response functions (public version, production 2). Data format for point-like IRF is still missing. For now, a lot of efforts is made to define full-containment IRFs (https://gamma-astro-data-formats.readthedocs.io/en/latest/irfs/index.html). In the meantime a temporary format is used in gammapy. It will evolved.\n",
    "\n",
    "To simulate one observation we need the following IRFs: \n",
    " - effective area as a function of true energy (energy-dependent theta square cute)\n",
    " - background rate as a function of reconstructed energy (energy-dependent theta square cute)\n",
    " - migration matrix, e_reco/e_true as a function of true energy\n",
    " \n",
    "To handle CTA's responses we will use the `CTAPerf` class"
   ]
  },
  {
   "cell_type": "code",
   "execution_count": null,
   "metadata": {
    "collapsed": false
   },
   "outputs": [],
   "source": [
    "from gammapy.scripts import CTAPerf\n",
    "# South array optimisation for faint source \n",
    "filename = '$GAMMAPY_EXTRA/datasets/cta/perf_prod2/point_like_non_smoothed/South_50h.fits.gz'\n",
    "cta_perf = CTAPerf.read(filename)\n",
    "cta_perf.peek()"
   ]
  },
  {
   "cell_type": "markdown",
   "metadata": {},
   "source": [
    "Different optimisations are available for different type of source (bright, 0.5h; medium, 5h; faint, 50h). Here is an example to have a quick look to the different optimisation"
   ]
  },
  {
   "cell_type": "code",
   "execution_count": null,
   "metadata": {
    "collapsed": false
   },
   "outputs": [],
   "source": [
    "prod_dir = '$GAMMAPY_EXTRA/datasets/cta/perf_prod2/point_like_non_smoothed/'\n",
    "opti = ['0.5h', '5h', '50h']\n",
    "site = ['South', 'North']\n",
    "cta_perf_list = []  # will be filled with different performance\n",
    "labels = []  # will be filled with different performance labels for the legend\n",
    "for isite in site: \n",
    "    for iopti in opti:\n",
    "        filename = prod_dir + '/' + isite + '_' + iopti + '.fits.gz'\n",
    "        cta_perf = CTAPerf.read(filename)\n",
    "        cta_perf_list.append(cta_perf)\n",
    "        labels.append(isite + ' (' + iopti + ')')\n",
    "\n",
    "CTAPerf.superpose_perf(cta_perf_list, labels)"
   ]
  },
  {
   "cell_type": "markdown",
   "metadata": {},
   "source": [
    "## CTA simulation of an observation\n",
    "Now we are going to simulate the expected counts in the CTA energy range. To do so we will need to specify a target (caracteristics of the source) and the parameters of the observation (such as time, ON/OFF normalisation, etc.)"
   ]
  },
  {
   "cell_type": "markdown",
   "metadata": {},
   "source": [
    "### Target definition"
   ]
  },
  {
   "cell_type": "code",
   "execution_count": null,
   "metadata": {
    "collapsed": true
   },
   "outputs": [],
   "source": [
    "# define target spectral model absorbed by EBL\n",
    "from gammapy.spectrum.models import Absorption, AbsorbedSpectralModel\n",
    "\n",
    "absorption = Absorption.read_builtin('dominguez')\n",
    "spectral_model = AbsorbedSpectralModel(spectral_model=src_spectral_model,\n",
    "                                       absorption=absorption,\n",
    "                                       parameter=redshift)\n",
    "# define target\n",
    "from gammapy.scripts.cta_utils import Target\n",
    "target = Target(\n",
    "    name=source.data['Source_Name'],  # from the 3FGL catalogue source class\n",
    "    model=source.spectral_model,  # defined above\n",
    ")"
   ]
  },
  {
   "cell_type": "code",
   "execution_count": null,
   "metadata": {
    "collapsed": false
   },
   "outputs": [],
   "source": [
    "print(target)"
   ]
  },
  {
   "cell_type": "markdown",
   "metadata": {},
   "source": [
    "### Observation definition"
   ]
  },
  {
   "cell_type": "code",
   "execution_count": null,
   "metadata": {
    "collapsed": true
   },
   "outputs": [],
   "source": [
    "from gammapy.scripts.cta_utils import ObservationParameters\n",
    "alpha = 0.2 * u.Unit('')  # normalisation between ON and OFF regions\n",
    "livetime = 5. * u.h\n",
    "# energy range used for statistics (excess, significance, etc.)\n",
    "emin, emax = 0.05 * u.TeV, 5 * u.TeV\n",
    "params = ObservationParameters(\n",
    "    alpha=alpha, livetime=livetime,\n",
    "    emin=emin, emax=emax,\n",
    ")"
   ]
  },
  {
   "cell_type": "code",
   "execution_count": null,
   "metadata": {
    "collapsed": false
   },
   "outputs": [],
   "source": [
    "print(params)"
   ]
  },
  {
   "cell_type": "markdown",
   "metadata": {},
   "source": [
    "### Performance"
   ]
  },
  {
   "cell_type": "code",
   "execution_count": null,
   "metadata": {
    "collapsed": true
   },
   "outputs": [],
   "source": [
    "from gammapy.scripts import CTAPerf\n",
    "# PKS 2155-304 is 10 % of Crab at 1 TeV ==> intermediate source\n",
    "filename = '$GAMMAPY_EXTRA/datasets/cta/perf_prod2/point_like_non_smoothed/South_5h.fits.gz'\n",
    "perf = CTAPerf.read(filename)"
   ]
  },
  {
   "cell_type": "markdown",
   "metadata": {},
   "source": [
    "### Simulation"
   ]
  },
  {
   "cell_type": "markdown",
   "metadata": {},
   "source": [
    "Here we are going to simulate what we expect to see with CTA and measure the duration of the simulation"
   ]
  },
  {
   "cell_type": "code",
   "execution_count": null,
   "metadata": {
    "collapsed": false
   },
   "outputs": [],
   "source": [
    "from gammapy.scripts.cta_utils import CTAObservationSimulation\n",
    "\n",
    "simu = CTAObservationSimulation.simulate_obs(\n",
    "    perf=perf, target=target, obs_param=params)\n",
    "\n",
    "# print simulation results\n",
    "print(simu)"
   ]
  },
  {
   "cell_type": "markdown",
   "metadata": {},
   "source": [
    "Now we can take a look at the excess, ON and OFF distributions"
   ]
  },
  {
   "cell_type": "code",
   "execution_count": null,
   "metadata": {
    "collapsed": false
   },
   "outputs": [],
   "source": [
    "CTAObservationSimulation.plot_simu(simu, target)"
   ]
  },
  {
   "cell_type": "markdown",
   "metadata": {},
   "source": [
    "We can access simulation parameters via the [gammapy.spectrum.SpectrumStats](http://docs.gammapy.org/en/latest/api/gammapy.spectrum.SpectrumStats.html#gammapy.spectrum.SpectrumStats) attribute of the [gammapy.spectrum.SpectrumObservation](http://docs.gammapy.org/en/latest/api/gammapy.spectrum.SpectrumObservation.html#gammapy.spectrum.SpectrumObservation) class:"
   ]
  },
  {
   "cell_type": "code",
   "execution_count": null,
   "metadata": {
    "collapsed": false
   },
   "outputs": [],
   "source": [
    "stats = simu.total_stats_safe_range\n",
    "stats_dict = stats.to_dict()\n",
    "print('excess: {}'.format(stats_dict['excess']))\n",
    "print('sigma: {:.1f}'.format(stats_dict['sigma']))"
   ]
  },
  {
   "cell_type": "markdown",
   "metadata": {},
   "source": [
    "Finally, you can get statistics for every reconstructed energy bin with: "
   ]
  },
  {
   "cell_type": "code",
   "execution_count": null,
   "metadata": {
    "collapsed": false
   },
   "outputs": [],
   "source": [
    "table = simu.stats_table()\n",
    "# Here we only print part of the data from the table\n",
    "table[['energy_min', 'energy_max', 'excess', 'background', 'sigma']][:10]"
   ]
  },
  {
   "cell_type": "markdown",
   "metadata": {},
   "source": [
    "## Excercises\n",
    " - do the same thing for the source 1ES 2322-40.9 (faint BL Lac object)\n",
    " - repeat the procedure 10 times and average detection results (excess and significance)\n",
    " - estimate the time needed to have a 5-sigma detection for Cen A (core)"
   ]
  },
  {
   "cell_type": "code",
   "execution_count": null,
   "metadata": {
    "collapsed": true
   },
   "outputs": [],
   "source": []
  }
 ],
 "metadata": {
  "kernelspec": {
   "display_name": "Python 2",
   "language": "python",
   "name": "python2"
  },
  "language_info": {
   "codemirror_mode": {
    "name": "ipython",
    "version": 2
   },
   "file_extension": ".py",
   "mimetype": "text/x-python",
   "name": "python",
   "nbconvert_exporter": "python",
   "pygments_lexer": "ipython2",
   "version": "2.7.12"
  }
 },
 "nbformat": 4,
 "nbformat_minor": 2
}
