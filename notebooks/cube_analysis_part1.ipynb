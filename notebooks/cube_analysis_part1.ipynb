{
 "cells": [
  {
   "cell_type": "markdown",
   "metadata": {},
   "source": [
    "# Cube analysis with Gammapy (part 1)\n",
    "\n",
    "## Introduction \n",
    "\n",
    "In order to run a cube likelihood analysis (combined spectrum and morphology fitting), we first have to prepare the dataset and compute the following inputs by stacking data from observation runs:\n",
    "* counts, background and exposure cube\n",
    "* mean PSF\n",
    "* mean RMF\n",
    "\n",
    "These are the inputs to the likelihood fitting step, where you assume a parameterised gamma-ray emission model and fit it to the stacked data.\n",
    "\n",
    "This notebook is part 1 of 2 of a tutorial how to use [gammapy.cube](http://docs.gammapy.org/en/latest/cube/index.html) to do cube analysis of IACT data. Part 1 is about these pre-computations, part 2 will be about the likelihood fitting.\n",
    "\n",
    "We will be using the following classes:\n",
    "* [gammapy.data.DataStore](http://docs.gammapy.org/en/latest/api/gammapy.data.DataStore.html) to load the data to stack in the cube\n",
    "* [gammapy.image.SkyImage](http://docs.gammapy.org/en/latest/api/gammapy.image.SkyImage.html) to work with sky images\n",
    "* [gammapy.cube.SkyCube](http://docs.gammapy.org/en/latest/api/gammapy.cube.SkyCube.html) and [gammapy.cube.StackedObsCubeMaker](http://docs.gammapy.org/en/latest/api/gammapy.cube.StackedObsCubeMaker.html) to stack the data in the Cube\n",
    "* [gammapy.data.ObservationList](http://docs.gammapy.org/en/latest/api/gammapy.data.ObservationList.html) to make the computation of the mean PSF and mean RMF from a set of runs.\n",
    "\n",
    "The data used in this tutorial is 4 Crab runs from H.E.S.S.."
   ]
  },
  {
   "cell_type": "markdown",
   "metadata": {
    "collapsed": true
   },
   "source": [
    "## Setup\n",
    "\n",
    "As always, we start with some setup for the notebook, and with imports."
   ]
  },
  {
   "cell_type": "code",
   "execution_count": 1,
   "metadata": {},
   "outputs": [],
   "source": [
    "%matplotlib inline\n",
    "import matplotlib.pyplot as plt"
   ]
  },
  {
   "cell_type": "code",
   "execution_count": 2,
   "metadata": {
    "collapsed": true
   },
   "outputs": [],
   "source": [
    "import logging\n",
    "logging.getLogger().setLevel(logging.ERROR)"
   ]
  },
  {
   "cell_type": "code",
   "execution_count": 3,
   "metadata": {},
   "outputs": [],
   "source": [
    "import numpy as np\n",
    "import astropy.units as u\n",
    "from astropy.coordinates import SkyCoord, Angle\n",
    "from astropy.visualization import simple_norm\n",
    "\n",
    "from gammapy.data import DataStore\n",
    "from gammapy.image import SkyImage\n",
    "from gammapy.cube import SkyCube, StackedObsCubeMaker"
   ]
  },
  {
   "cell_type": "markdown",
   "metadata": {},
   "source": [
    "## Data preparation\n",
    "\n",
    "Gammapy only supports binned likelihood fits, so we start by defining the spatial and energy grid of the data:"
   ]
  },
  {
   "cell_type": "code",
   "execution_count": 4,
   "metadata": {
    "collapsed": true
   },
   "outputs": [],
   "source": [
    "# define WCS specification\n",
    "WCS_SPEC = {'nxpix': 50,\n",
    "            'nypix': 50,\n",
    "            'binsz': 0.05,\n",
    "            'xref': 83.63,\n",
    "            'yref': 22.01,\n",
    "            'proj': 'TAN',\n",
    "            'coordsys': 'CEL'}\n",
    "\n",
    "# define reconstructed energy binning\n",
    "ENERGY_SPEC = {'mode': 'edges',\n",
    "               'enumbins': 5,\n",
    "               'emin': 0.5,\n",
    "               'emax': 40,\n",
    "               'eunit': 'TeV'}"
   ]
  },
  {
   "cell_type": "markdown",
   "metadata": {},
   "source": [
    "From this we create an empty `SkyCube` object, that we will use as reference for all other sky cube data:"
   ]
  },
  {
   "cell_type": "code",
   "execution_count": 5,
   "metadata": {},
   "outputs": [],
   "source": [
    "# instanciate reference cube\n",
    "REF_CUBE = SkyCube.empty(**WCS_SPEC, **ENERGY_SPEC)"
   ]
  },
  {
   "cell_type": "markdown",
   "metadata": {},
   "source": [
    "Next we create a `DataStore` object, which allows us to access and load DL3 level data. In this case we will use four Crab runs of simulated HESS data, which is bundled in gammapy-extra:  "
   ]
  },
  {
   "cell_type": "code",
   "execution_count": 6,
   "metadata": {},
   "outputs": [],
   "source": [
    "# setting up the data store\n",
    "data_store = DataStore.from_dir(\"$GAMMAPY_EXTRA/test_datasets/cube/data\")\n",
    "\n",
    "# temporary fix for load psftable for one of the run that is not implemented yet...\n",
    "data_store.hdu_table.remove_row(14)"
   ]
  },
  {
   "cell_type": "markdown",
   "metadata": {},
   "source": [
    "For the later background estimation we define an exclusion mask. The background image will normalized on the counts map outside the exclusion region (the so called FOV background method). For convenience we use and all-sky exclusin mask, which was created from the TeVCat catalog and reproject it to our analysis region:"
   ]
  },
  {
   "cell_type": "code",
   "execution_count": 7,
   "metadata": {},
   "outputs": [],
   "source": [
    "# read in TeVCat exclusion mask\n",
    "exclusion_mask = SkyImage.read('$GAMMAPY_EXTRA/datasets/exclusion_masks/tevcat_exclusion.fits')\n",
    "\n",
    "# reproject exclusion mask to reference cube\n",
    "exclusion_mask = exclusion_mask.reproject(reference=REF_CUBE.sky_image_ref, order='nearest-neighbor')"
   ]
  },
  {
   "cell_type": "markdown",
   "metadata": {},
   "source": [
    "That's what the exclusion mask looks like:"
   ]
  },
  {
   "cell_type": "code",
   "execution_count": 8,
   "metadata": {},
   "outputs": [
    {
     "data": {
      "image/png": "[encoded data removed]",
      "text/plain": [
       "<matplotlib.figure.Figure at 0x10d7d3dd8>"
      ]
     },
     "metadata": {},
     "output_type": "display_data"
    }
   ],
   "source": [
    "exclusion_mask.show()"
   ]
  },
  {
   "cell_type": "markdown",
   "metadata": {},
   "source": [
    "Now we can feed all the input to the `StackedObsCubeMaker` class. In addition we have to select a offset cut:"
   ]
  },
  {
   "cell_type": "code",
   "execution_count": 9,
   "metadata": {},
   "outputs": [],
   "source": [
    "#Select the offset band on which you want to select the events in the FOV of each observation\n",
    "offset_band = Angle([0, 2.49], 'deg')\n",
    "\n",
    "# instanciate StackedObsCubeMaker\n",
    "cube_maker = StackedObsCubeMaker(\n",
    "    empty_cube_images=REF_CUBE,\n",
    "    empty_exposure_cube=REF_CUBE,\n",
    "    offset_band=offset_band,\n",
    "    data_store=data_store,\n",
    "    obs_table=data_store.obs_table,\n",
    "    exclusion_mask=exclusion_mask,\n",
    "    save_bkg_scale=True,\n",
    ")"
   ]
  },
  {
   "cell_type": "markdown",
   "metadata": {},
   "source": [
    "We run the cube maker by calling `.make_cubes`. We pass an correlation radius of 4 pixels to compute the Li&Ma significance image:"
   ]
  },
  {
   "cell_type": "code",
   "execution_count": 10,
   "metadata": {},
   "outputs": [],
   "source": [
    "# run cube maker\n",
    "cube_maker.make_cubes(make_background_image=True, radius=4.)"
   ]
  },
  {
   "cell_type": "markdown",
   "metadata": {},
   "source": [
    "Let's take a look at the computed result cubes:"
   ]
  },
  {
   "cell_type": "code",
   "execution_count": 11,
   "metadata": {},
   "outputs": [
    {
     "name": "stdout",
     "output_type": "stream",
     "text": [
      "Bin edges of the count cubes: \n",
      "[  0.5          1.20112443   2.88539981   6.93144843  16.65106415  40.        ] TeV\n"
     ]
    }
   ],
   "source": [
    "# get counts cube\n",
    "counts = cube_maker.counts_cube\n",
    "\n",
    "energies = counts.energies(mode=\"edges\")\n",
    "print(\"Bin edges of the count cubes: \\n{0}\".format(energies))"
   ]
  },
  {
   "cell_type": "code",
   "execution_count": 12,
   "metadata": {},
   "outputs": [
    {
     "data": {
      "image/png": "[encoded data removed]",
      "text/plain": [
       "<matplotlib.figure.Figure at 0x10db152b0>"
      ]
     },
     "metadata": {},
     "output_type": "display_data"
    },
    {
     "name": "stdout",
     "output_type": "stream",
     "text": [
      "Energy range: 0.50 TeV to 1.20 TeV\n"
     ]
    }
   ],
   "source": [
    "# show counts image with idx = 0\n",
    "idx = 0\n",
    "counts.sky_image_idx(idx=idx).show()\n",
    "print('Energy range: {emin:.2f} to {emax:.2f}'.format(emin=energies[idx], emax=energies[idx + 1]))"
   ]
  },
  {
   "cell_type": "code",
   "execution_count": 13,
   "metadata": {},
   "outputs": [
    {
     "data": {
      "image/png": "[encoded data removed]",
      "text/plain": [
       "<matplotlib.figure.Figure at 0x10dc53a58>"
      ]
     },
     "metadata": {},
     "output_type": "display_data"
    },
    {
     "name": "stdout",
     "output_type": "stream",
     "text": [
      "Energy range: 6.93 TeV to 16.65 TeV\n"
     ]
    }
   ],
   "source": [
    "idx = 3\n",
    "counts.sky_image_idx(idx=idx).show()\n",
    "print('Energy range: {emin:.2f} to {emax:.2f}'.format(emin=energies[idx], emax=energies[idx + 1]))"
   ]
  },
  {
   "cell_type": "code",
   "execution_count": 14,
   "metadata": {},
   "outputs": [
    {
     "data": {
      "image/png": "[encoded data removed]",
      "text/plain": [
       "<matplotlib.figure.Figure at 0x10df47080>"
      ]
     },
     "metadata": {},
     "output_type": "display_data"
    },
    {
     "name": "stdout",
     "output_type": "stream",
     "text": [
      "Energy range: 0.50 TeV to 1.20 TeV\n"
     ]
    }
   ],
   "source": [
    "background = cube_maker.bkg_cube\n",
    "\n",
    "idx = 0\n",
    "background.sky_image_idx(idx=idx).show()\n",
    "print('Energy range: {emin:.2f} to {emax:.2f}'.format(emin=energies[idx], emax=energies[idx + 1]))"
   ]
  },
  {
   "cell_type": "code",
   "execution_count": 15,
   "metadata": {},
   "outputs": [
    {
     "data": {
      "image/png": "[encoded data removed]",
      "text/plain": [
       "<matplotlib.figure.Figure at 0x10dc50c18>"
      ]
     },
     "metadata": {},
     "output_type": "display_data"
    },
    {
     "name": "stdout",
     "output_type": "stream",
     "text": [
      "Energy range: 0.50 TeV to 1.20 TeV\n"
     ]
    }
   ],
   "source": [
    "excess = cube_maker.excess_cube\n",
    "\n",
    "idx = 0\n",
    "excess.sky_image_idx(idx=idx).show()\n",
    "print('Energy range: {emin:.2f} to {emax:.2f}'.format(emin=energies[idx], emax=energies[idx + 1]))"
   ]
  },
  {
   "cell_type": "code",
   "execution_count": 16,
   "metadata": {},
   "outputs": [
    {
     "data": {
      "image/png": "[encoded data removed]",
      "text/plain": [
       "<matplotlib.figure.Figure at 0x10df84b00>"
      ]
     },
     "metadata": {},
     "output_type": "display_data"
    },
    {
     "name": "stdout",
     "output_type": "stream",
     "text": [
      "Energy range: 0.50 TeV to 1.20 TeV\n"
     ]
    }
   ],
   "source": [
    "significance = cube_maker.significance_cube\n",
    "\n",
    "idx = 0\n",
    "significance.sky_image_idx(idx=idx).show()\n",
    "print('Energy range: {emin:.2f} to {emax:.2f}'.format(emin=energies[idx], emax=energies[idx + 1]))"
   ]
  },
  {
   "cell_type": "code",
   "execution_count": 17,
   "metadata": {},
   "outputs": [
    {
     "data": {
      "image/png": "[encoded data removed]",
      "text/plain": [
       "<matplotlib.figure.Figure at 0x10dc5bc50>"
      ]
     },
     "metadata": {},
     "output_type": "display_data"
    },
    {
     "name": "stdout",
     "output_type": "stream",
     "text": [
      "Energy range: 0.50 TeV to 1.20 TeV\n"
     ]
    }
   ],
   "source": [
    "exposure = cube_maker.exposure_cube\n",
    "\n",
    "idx = 0\n",
    "exposure.sky_image_idx(idx=idx).show()\n",
    "print('Energy range: {emin:.2f} to {emax:.2f}'.format(emin=energies[idx], emax=energies[idx + 1]))"
   ]
  },
  {
   "cell_type": "markdown",
   "metadata": {},
   "source": [
    "As a last step we'de like to compute a mean PSF across all observations in the list. For this purpose we use the `.make_mean_psf_cube()` method on the `StackedObsCubeMaker` object. We only have to specify a reference cube, which is used to evaluate the PSF model:"
   ]
  },
  {
   "cell_type": "code",
   "execution_count": 18,
   "metadata": {},
   "outputs": [],
   "source": [
    "with np.errstate(divide='ignore', invalid='ignore'):\n",
    "    mean_psf_cube = cube_maker.make_mean_psf_cube(REF_CUBE)"
   ]
  },
  {
   "cell_type": "markdown",
   "metadata": {},
   "source": [
    "Let's take a quick look a the resulting PSF:"
   ]
  },
  {
   "cell_type": "code",
   "execution_count": 19,
   "metadata": {},
   "outputs": [
    {
     "data": {
      "image/png": "[encoded data removed]",
      "text/plain": [
       "<matplotlib.figure.Figure at 0x10e0f45f8>"
      ]
     },
     "metadata": {},
     "output_type": "display_data"
    },
    {
     "name": "stdout",
     "output_type": "stream",
     "text": [
      "Energy range: 6.93 TeV to 16.65 TeV\n"
     ]
    }
   ],
   "source": [
    "idx = 3\n",
    "psf_image = mean_psf_cube.sky_image_idx(idx=idx)\n",
    "norm = simple_norm(psf_image.data, stretch='log')\n",
    "psf_image.show(norm=norm)\n",
    "print('Energy range: {emin:.2f} to {emax:.2f}'.format(emin=energies[idx], emax=energies[idx + 1]))"
   ]
  },
  {
   "cell_type": "markdown",
   "metadata": {},
   "source": [
    "Now we repeat the computation but assume a different energy binning for the \"true\" energy:"
   ]
  },
  {
   "cell_type": "code",
   "execution_count": 20,
   "metadata": {
    "collapsed": true
   },
   "outputs": [],
   "source": [
    "# define true energy binning\n",
    "ENERGY_TRUE_SPEC = {'mode': 'edges',\n",
    "                    'enumbins': 20,\n",
    "                    'emin': 0.1,\n",
    "                    'emax': 100,\n",
    "                    'eunit': 'TeV'}\n",
    "\n",
    "# init refereence cube\n",
    "REF_CUBE_TRUE = SkyCube.empty(**WCS_SPEC, **ENERGY_TRUE_SPEC)"
   ]
  },
  {
   "cell_type": "markdown",
   "metadata": {},
   "source": [
    "The reference cube is now passed to the `empty_exposure_cube` argument:"
   ]
  },
  {
   "cell_type": "code",
   "execution_count": 21,
   "metadata": {},
   "outputs": [],
   "source": [
    "cube_maker = StackedObsCubeMaker(\n",
    "    empty_cube_images=REF_CUBE,\n",
    "    empty_exposure_cube=REF_CUBE_TRUE,\n",
    "    offset_band=offset_band,\n",
    "    data_store=data_store,\n",
    "    obs_table=data_store.obs_table,\n",
    "    exclusion_mask=exclusion_mask,\n",
    "    save_bkg_scale=True,\n",
    ")\n",
    "cube_maker.make_cubes(make_background_image=True, radius=10.)"
   ]
  },
  {
   "cell_type": "markdown",
   "metadata": {},
   "source": [
    "The PSF can computed using the \"true\" energy reference cube as well: "
   ]
  },
  {
   "cell_type": "code",
   "execution_count": 22,
   "metadata": {},
   "outputs": [],
   "source": [
    "with np.errstate(divide='ignore', invalid='ignore'):\n",
    "    mean_psf_cube = cube_maker.make_mean_psf_cube(REF_CUBE_TRUE)"
   ]
  },
  {
   "cell_type": "code",
   "execution_count": 23,
   "metadata": {},
   "outputs": [
    {
     "name": "stdout",
     "output_type": "stream",
     "text": [
      "Energy bin edges of the count cube: \n",
      "[  0.5          1.20112443   2.88539981   6.93144843  16.65106415  40.        ] TeV\n",
      "\n",
      "Energy bin edges of the exposure cube: \n",
      "[  1.00000000e-01   1.41253754e-01   1.99526231e-01   2.81838293e-01\n",
      "   3.98107171e-01   5.62341325e-01   7.94328235e-01   1.12201845e+00\n",
      "   1.58489319e+00   2.23872114e+00   3.16227766e+00   4.46683592e+00\n",
      "   6.30957344e+00   8.91250938e+00   1.25892541e+01   1.77827941e+01\n",
      "   2.51188643e+01   3.54813389e+01   5.01187234e+01   7.07945784e+01\n",
      "   1.00000000e+02] TeV\n"
     ]
    }
   ],
   "source": [
    "e_reco = cube_maker.counts_cube.energies(mode=\"edges\")\n",
    "print(\"Energy bin edges of the count cube: \\n{}\\n\".format(e_reco))\n",
    "\n",
    "e_true = cube_maker.exposure_cube.energies(mode=\"edges\")\n",
    "print(\"Energy bin edges of the exposure cube: \\n{}\".format(e_true))"
   ]
  },
  {
   "cell_type": "markdown",
   "metadata": {},
   "source": [
    "Finally we compute the mean RMF (energy dispersion matrix) across multiple observations:"
   ]
  },
  {
   "cell_type": "code",
   "execution_count": 24,
   "metadata": {},
   "outputs": [],
   "source": [
    "# get reference energies\n",
    "obs_list = data_store.obs_list(data_store.obs_table['OBS_ID'])\n",
    "position = REF_CUBE.sky_image_ref.center\n",
    "e_true = REF_CUBE_TRUE.energies('edges')\n",
    "e_reco = REF_CUBE.energies('edges')\n",
    "\n",
    "with np.errstate(divide='ignore', invalid='ignore'):\n",
    "    mean_rmf = obs_list.make_mean_edisp(position=position, e_true=e_true, e_reco=e_reco)"
   ]
  },
  {
   "cell_type": "code",
   "execution_count": 25,
   "metadata": {},
   "outputs": [
    {
     "name": "stderr",
     "output_type": "stream",
     "text": [
      "/opt/local/Library/Frameworks/Python.framework/Versions/3.5/lib/python3.5/site-packages/matplotlib/colors.py:1152: UserWarning: Power-law scaling on negative values is ill-defined, clamping to 0.\n",
      "  warnings.warn(\"Power-law scaling on negative values is \"\n"
     ]
    },
    {
     "data": {
      "text/plain": [
       "<matplotlib.axes._subplots.AxesSubplot at 0x10e0ecef0>"
      ]
     },
     "execution_count": 25,
     "metadata": {},
     "output_type": "execute_result"
    },
    {
     "name": "stderr",
     "output_type": "stream",
     "text": [
      "/opt/local/Library/Frameworks/Python.framework/Versions/3.5/lib/python3.5/site-packages/matplotlib/colors.py:1113: RuntimeWarning: invalid value encountered in power\n",
      "  np.power(resdat, gamma, resdat)\n"
     ]
    },
    {
     "data": {
      "image/png": "[encoded data removed]",
      "text/plain": [
       "<matplotlib.figure.Figure at 0x10df7c390>"
      ]
     },
     "metadata": {},
     "output_type": "display_data"
    }
   ],
   "source": [
    "mean_rmf.plot_matrix()"
   ]
  },
  {
   "cell_type": "markdown",
   "metadata": {},
   "source": [
    "## Exercises\n",
    "- Take another dataset\n",
    "- Change the Cube binning"
   ]
  },
  {
   "cell_type": "markdown",
   "metadata": {
    "collapsed": true
   },
   "source": [
    "Now that we created some cubes for counts, background, exposure, psf from a set of runs we will learn in the future tutorials how to use it for a 3D analysis (morphological and spectral)"
   ]
  },
  {
   "cell_type": "code",
   "execution_count": null,
   "metadata": {
    "collapsed": true
   },
   "outputs": [],
   "source": []
  }
 ],
 "metadata": {
  "kernelspec": {
   "display_name": "Python 3",
   "language": "python",
   "name": "python3"
  },
  "language_info": {
   "codemirror_mode": {
    "name": "ipython",
    "version": 3
   },
   "file_extension": ".py",
   "mimetype": "text/x-python",
   "name": "python",
   "nbconvert_exporter": "python",
   "pygments_lexer": "ipython3",
   "version": "3.5.3"
  }
 },
 "nbformat": 4,
 "nbformat_minor": 2
}
