{
 "cells": [
  {
   "cell_type": "markdown",
   "metadata": {},
   "source": [
    "# Computation of the CTA sensitivity"
   ]
  },
  {
   "cell_type": "markdown",
   "metadata": {},
   "source": [
    "## Introduction\n",
    "\n",
    "This notebook explains how to derive the CTA sensitivity for a point-like IRF at a fixed zenith angle and fixed offset. The significativity is computed for the 1D analysis (On-OFF regions) and the LiMa formula.\n"
   ]
  },
  {
   "cell_type": "markdown",
   "metadata": {},
   "source": [
    "## Setup\n",
    "As usual, we'll start with some setup ..."
   ]
  },
  {
   "cell_type": "code",
   "execution_count": 1,
   "metadata": {
    "collapsed": false
   },
   "outputs": [],
   "source": [
    "import numpy as np\n",
    "from gammapy.scripts import cta_sensitivity\n",
    "from gammapy.scripts import CTAPerf"
   ]
  },
  {
   "cell_type": "markdown",
   "metadata": {},
   "source": [
    "## Load Data\n",
    "First import the IRFs and define the livetime"
   ]
  },
  {
   "cell_type": "code",
   "execution_count": 2,
   "metadata": {
    "collapsed": false
   },
   "outputs": [],
   "source": [
    "irffile = '$GAMMAPY_EXTRA/datasets/cta/perf_prod2/point_like_non_smoothed/South_5h.fits.gz'\n",
    "ctairf = CTAPerf.read(irffile)\n",
    "livetime = 5 # in hours"
   ]
  },
  {
   "cell_type": "markdown",
   "metadata": {},
   "source": [
    "## Creation of the class"
   ]
  },
  {
   "cell_type": "code",
   "execution_count": 3,
   "metadata": {
    "collapsed": true
   },
   "outputs": [],
   "source": [
    "sens = cta_sensitivity.SensiEstimator(irfobject=ctairf,livetime=livetime)"
   ]
  },
  {
   "cell_type": "markdown",
   "metadata": {},
   "source": [
    "## Compute the sensitivity"
   ]
  },
  {
   "cell_type": "code",
   "execution_count": 4,
   "metadata": {
    "collapsed": true
   },
   "outputs": [],
   "source": [
    "sens.run()"
   ]
  },
  {
   "cell_type": "markdown",
   "metadata": {},
   "source": [
    "## Plot and print the results"
   ]
  },
  {
   "cell_type": "code",
   "execution_count": 5,
   "metadata": {
    "collapsed": false
   },
   "outputs": [
    {
     "data": {
      "image/png": "[encoded data removed]",
      "text/plain": [
       "<matplotlib.figure.Figure at 0x7f74b3510f50>"
      ]
     },
     "metadata": {},
     "output_type": "display_data"
    }
   ],
   "source": [
    "sens.plot()"
   ]
  },
  {
   "cell_type": "code",
   "execution_count": 6,
   "metadata": {
    "collapsed": false
   },
   "outputs": [
    {
     "data": {
      "text/html": [
       "&lt;Table length=21&gt;\n",
       "<table id=\"table140139168935632\" class=\"table-striped table-bordered table-condensed\">\n",
       "<thead><tr><th>ENERGY</th><th>FLUX</th></tr></thead>\n",
       "<thead><tr><th>TeV</th><th>erg / (cm2 s)</th></tr></thead>\n",
       "<thead><tr><th>float64</th><th>float64</th></tr></thead>\n",
       "<tr><td>0.0158489327878</td><td>1.9603209762e-10</td></tr>\n",
       "<tr><td>0.0251188650727</td><td>3.85105864103e-11</td></tr>\n",
       "<tr><td>0.0398107171059</td><td>2.5494304136e-11</td></tr>\n",
       "<tr><td>0.0630957335234</td><td>6.83710034033e-12</td></tr>\n",
       "<tr><td>0.10000000149</td><td>4.8780984144e-12</td></tr>\n",
       "<tr><td>0.158489331603</td><td>2.48820740837e-12</td></tr>\n",
       "<tr><td>0.251188635826</td><td>1.7262333166e-12</td></tr>\n",
       "<tr><td>0.398107141256</td><td>1.25330619282e-12</td></tr>\n",
       "<tr><td>0.630957305431</td><td>9.51071030047e-13</td></tr>\n",
       "<tr><td>1.0</td><td>6.8452201495e-13</td></tr>\n",
       "<tr><td>1.58489322662</td><td>5.8295828489e-13</td></tr>\n",
       "<tr><td>2.51188635826</td><td>5.13383219431e-13</td></tr>\n",
       "<tr><td>3.98107147217</td><td>5.41495810352e-13</td></tr>\n",
       "<tr><td>6.30957317352</td><td>6.3303706001e-13</td></tr>\n",
       "<tr><td>10.0</td><td>9.08950411059e-13</td></tr>\n",
       "<tr><td>15.8489313126</td><td>1.34032974472e-12</td></tr>\n",
       "<tr><td>25.1188621521</td><td>2.03109961401e-12</td></tr>\n",
       "<tr><td>39.810710907</td><td>3.21867254204e-12</td></tr>\n",
       "<tr><td>63.0957260132</td><td>5.1950309005e-12</td></tr>\n",
       "<tr><td>99.9999923706</td><td>8.17478750757e-12</td></tr>\n",
       "<tr><td>158.489303589</td><td>1.44960527587e-11</td></tr>\n",
       "</table>"
      ],
      "text/plain": [
       "<Table length=21>\n",
       "     ENERGY            FLUX      \n",
       "      TeV         erg / (cm2 s)  \n",
       "    float64          float64     \n",
       "--------------- -----------------\n",
       "0.0158489327878  1.9603209762e-10\n",
       "0.0251188650727 3.85105864103e-11\n",
       "0.0398107171059  2.5494304136e-11\n",
       "0.0630957335234 6.83710034033e-12\n",
       "  0.10000000149  4.8780984144e-12\n",
       " 0.158489331603 2.48820740837e-12\n",
       " 0.251188635826  1.7262333166e-12\n",
       " 0.398107141256 1.25330619282e-12\n",
       " 0.630957305431 9.51071030047e-13\n",
       "            1.0  6.8452201495e-13\n",
       "  1.58489322662  5.8295828489e-13\n",
       "  2.51188635826 5.13383219431e-13\n",
       "  3.98107147217 5.41495810352e-13\n",
       "  6.30957317352  6.3303706001e-13\n",
       "           10.0 9.08950411059e-13\n",
       "  15.8489313126 1.34032974472e-12\n",
       "  25.1188621521 2.03109961401e-12\n",
       "   39.810710907 3.21867254204e-12\n",
       "  63.0957260132  5.1950309005e-12\n",
       "  99.9999923706 8.17478750757e-12\n",
       "  158.489303589 1.44960527587e-11"
      ]
     },
     "execution_count": 6,
     "metadata": {},
     "output_type": "execute_result"
    }
   ],
   "source": [
    "sens.print_results()"
   ]
  },
  {
   "cell_type": "code",
   "execution_count": null,
   "metadata": {
    "collapsed": true
   },
   "outputs": [],
   "source": []
  }
 ],
 "metadata": {
  "kernelspec": {
   "display_name": "Python 2",
   "language": "python",
   "name": "python2"
  },
  "language_info": {
   "codemirror_mode": {
    "name": "ipython",
    "version": 2
   },
   "file_extension": ".py",
   "mimetype": "text/x-python",
   "name": "python",
   "nbconvert_exporter": "python",
   "pygments_lexer": "ipython2",
   "version": "2.7.12"
  }
 },
 "nbformat": 4,
 "nbformat_minor": 1
}
