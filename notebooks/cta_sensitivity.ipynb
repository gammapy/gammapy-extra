{
 "cells": [
  {
   "cell_type": "markdown",
   "metadata": {},
   "source": [
    "# Computation of the CTA sensitivity"
   ]
  },
  {
   "cell_type": "markdown",
   "metadata": {},
   "source": [
    "## Introduction\n",
    "\n",
    "This notebook explains how to derive the CTA sensitivity for a point-like IRF at a fixed zenith angle and fixed offset. The significativity is computed for the 1D analysis (On-OFF regions) and the LiMa formula.\n",
    "\n",
    "We will be using the following Gammapy classes:\n",
    "\n",
    "* [gammapy.scripts.CTAIrf](http://docs.gammapy.org/en/latest/api/gammapy.scripts.CTAIrf.html)\n",
    "* [gammapy.scripts.SensitivityEstimator](http://docs.gammapy.org/en/latest/api/gammapy.scripts.SensitivityEstimator.html)"
   ]
  },
  {
   "cell_type": "markdown",
   "metadata": {},
   "source": [
    "## Setup\n",
    "As usual, we'll start with some setup ..."
   ]
  },
  {
   "cell_type": "code",
   "execution_count": 1,
   "metadata": {
    "collapsed": true
   },
   "outputs": [],
   "source": [
    "%matplotlib inline"
   ]
  },
  {
   "cell_type": "code",
   "execution_count": 2,
   "metadata": {},
   "outputs": [],
   "source": [
    "from gammapy.scripts import CTAPerf, SensitivityEstimator"
   ]
  },
  {
   "cell_type": "markdown",
   "metadata": {},
   "source": [
    "## Load IRFs\n",
    "\n",
    "First import the CTA IRFs"
   ]
  },
  {
   "cell_type": "code",
   "execution_count": 3,
   "metadata": {},
   "outputs": [],
   "source": [
    "filename = '$GAMMAPY_EXTRA/datasets/cta/perf_prod2/point_like_non_smoothed/South_5h.fits.gz'\n",
    "irf = CTAPerf.read(filename)"
   ]
  },
  {
   "cell_type": "markdown",
   "metadata": {},
   "source": [
    "## Compute sensitivity\n",
    "\n",
    "Choose a few parameters, then run the sentitivity computation."
   ]
  },
  {
   "cell_type": "code",
   "execution_count": 4,
   "metadata": {},
   "outputs": [],
   "source": [
    "sens = SensitivityEstimator(\n",
    "    irf=irf,\n",
    "    livetime='5h',\n",
    ")\n",
    "sens.run()"
   ]
  },
  {
   "cell_type": "markdown",
   "metadata": {},
   "source": [
    "## Print and plot the results"
   ]
  },
  {
   "cell_type": "code",
   "execution_count": 5,
   "metadata": {},
   "outputs": [
    {
     "name": "stderr",
     "output_type": "stream",
     "text": [
      "INFO:gammapy.scripts.cta_sensitivity:** Sensitivity **\n"
     ]
    },
    {
     "name": "stdout",
     "output_type": "stream",
     "text": [
      "  ENERGY         FLUX      \n",
      "   TeV      erg / (cm2 s)  \n",
      "--------- -----------------\n",
      "0.0158489 1.22353358828e-10\n",
      "0.0251189 2.40363677936e-11\n",
      "0.0398107 1.59122601854e-11\n",
      "0.0630957 4.26737356505e-12\n",
      "      0.1 3.04466326156e-12\n",
      " 0.158489 1.55301371261e-12\n",
      " 0.251189 1.07742785338e-12\n",
      " 0.398107 7.82250643556e-13\n",
      " 0.630957 5.93610676157e-13\n",
      "      1.0 4.27244154065e-13\n",
      "  1.58489 3.63853163606e-13\n",
      "  2.51189 3.20427969785e-13\n",
      "  3.98107 3.37974403708e-13\n",
      "  6.30957  3.9510983913e-13\n",
      "     10.0 5.18481585434e-13\n",
      "  15.8489 8.36566298046e-13\n",
      "  25.1189 1.26771004802e-12\n",
      "  39.8107  2.0089332373e-12\n",
      "  63.0957 3.24247655159e-12\n",
      "    100.0 5.10229012813e-12\n",
      "  158.489 9.04770579058e-12\n"
     ]
    }
   ],
   "source": [
    "sens.print_results()"
   ]
  },
  {
   "cell_type": "code",
   "execution_count": 6,
   "metadata": {},
   "outputs": [
    {
     "data": {
      "text/plain": [
       "<matplotlib.axes._subplots.AxesSubplot at 0x10db22ac8>"
      ]
     },
     "execution_count": 6,
     "metadata": {},
     "output_type": "execute_result"
    },
    {
     "data": {
      "image/png": "[encoded data removed]",
      "text/plain": [
       "<matplotlib.figure.Figure at 0x10daf2dd8>"
      ]
     },
     "metadata": {},
     "output_type": "display_data"
    }
   ],
   "source": [
    "sens.plot()"
   ]
  },
  {
   "cell_type": "code",
   "execution_count": 7,
   "metadata": {},
   "outputs": [
    {
     "data": {
      "text/html": [
       "&lt;Table length=21&gt;\n",
       "<table id=\"table4527514568\" class=\"table-striped table-bordered table-condensed\">\n",
       "<thead><tr><th>ENERGY</th><th>FLUX</th></tr></thead>\n",
       "<thead><tr><th>TeV</th><th>erg / (cm2 s)</th></tr></thead>\n",
       "<thead><tr><th>float32</th><th>float64</th></tr></thead>\n",
       "<tr><td>0.0158489</td><td>1.22353358828e-10</td></tr>\n",
       "<tr><td>0.0251189</td><td>2.40363677936e-11</td></tr>\n",
       "<tr><td>0.0398107</td><td>1.59122601854e-11</td></tr>\n",
       "<tr><td>0.0630957</td><td>4.26737356505e-12</td></tr>\n",
       "<tr><td>0.1</td><td>3.04466326156e-12</td></tr>\n",
       "<tr><td>0.158489</td><td>1.55301371261e-12</td></tr>\n",
       "<tr><td>0.251189</td><td>1.07742785338e-12</td></tr>\n",
       "<tr><td>0.398107</td><td>7.82250643556e-13</td></tr>\n",
       "<tr><td>0.630957</td><td>5.93610676157e-13</td></tr>\n",
       "<tr><td>1.0</td><td>4.27244154065e-13</td></tr>\n",
       "<tr><td>1.58489</td><td>3.63853163606e-13</td></tr>\n",
       "<tr><td>2.51189</td><td>3.20427969785e-13</td></tr>\n",
       "<tr><td>3.98107</td><td>3.37974403708e-13</td></tr>\n",
       "<tr><td>6.30957</td><td>3.9510983913e-13</td></tr>\n",
       "<tr><td>10.0</td><td>5.18481585434e-13</td></tr>\n",
       "<tr><td>15.8489</td><td>8.36566298046e-13</td></tr>\n",
       "<tr><td>25.1189</td><td>1.26771004802e-12</td></tr>\n",
       "<tr><td>39.8107</td><td>2.0089332373e-12</td></tr>\n",
       "<tr><td>63.0957</td><td>3.24247655159e-12</td></tr>\n",
       "<tr><td>100.0</td><td>5.10229012813e-12</td></tr>\n",
       "<tr><td>158.489</td><td>9.04770579058e-12</td></tr>\n",
       "</table>"
      ],
      "text/plain": [
       "<Table length=21>\n",
       "  ENERGY         FLUX      \n",
       "   TeV      erg / (cm2 s)  \n",
       " float32       float64     \n",
       "--------- -----------------\n",
       "0.0158489 1.22353358828e-10\n",
       "0.0251189 2.40363677936e-11\n",
       "0.0398107 1.59122601854e-11\n",
       "0.0630957 4.26737356505e-12\n",
       "      0.1 3.04466326156e-12\n",
       " 0.158489 1.55301371261e-12\n",
       " 0.251189 1.07742785338e-12\n",
       " 0.398107 7.82250643556e-13\n",
       " 0.630957 5.93610676157e-13\n",
       "      1.0 4.27244154065e-13\n",
       "  1.58489 3.63853163606e-13\n",
       "  2.51189 3.20427969785e-13\n",
       "  3.98107 3.37974403708e-13\n",
       "  6.30957  3.9510983913e-13\n",
       "     10.0 5.18481585434e-13\n",
       "  15.8489 8.36566298046e-13\n",
       "  25.1189 1.26771004802e-12\n",
       "  39.8107  2.0089332373e-12\n",
       "  63.0957 3.24247655159e-12\n",
       "    100.0 5.10229012813e-12\n",
       "  158.489 9.04770579058e-12"
      ]
     },
     "execution_count": 7,
     "metadata": {},
     "output_type": "execute_result"
    }
   ],
   "source": [
    "# This will give you the results as an Astropy table,\n",
    "# which you can save to FITS or CSV or use for further analysis\n",
    "sens.diff_sensi_table"
   ]
  },
  {
   "cell_type": "markdown",
   "metadata": {},
   "source": [
    "## Exercises\n",
    "\n",
    "* tbd"
   ]
  },
  {
   "cell_type": "code",
   "execution_count": null,
   "metadata": {
    "collapsed": true
   },
   "outputs": [],
   "source": []
  }
 ],
 "metadata": {
  "kernelspec": {
   "display_name": "Python 3",
   "language": "python",
   "name": "python3"
  },
  "language_info": {
   "codemirror_mode": {
    "name": "ipython",
    "version": 3
   },
   "file_extension": ".py",
   "mimetype": "text/x-python",
   "name": "python",
   "nbconvert_exporter": "python",
   "pygments_lexer": "ipython3",
   "version": "3.6.2"
  }
 },
 "nbformat": 4,
 "nbformat_minor": 1
}
