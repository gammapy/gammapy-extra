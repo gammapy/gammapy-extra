{
 "cells": [
  {
   "cell_type": "markdown",
   "metadata": {},
   "source": [
    "# Astrophysical source population modeling with Gammapy"
   ]
  },
  {
   "cell_type": "markdown",
   "metadata": {},
   "source": [
    "## Introduction\n",
    "\n",
    "The [gammapy.astro.population](http://docs.gammapy.org/en/latest/astro/population/index.html) package contains some simple Galactic source population models.\n",
    "\n",
    "Here we provide some Python code to compute observable parameter distributions for Galactic gamma-ray source populations.\n",
    "\n",
    "* Observables: Flux, GLON, GLAT\n",
    "* Source classes: Pulsar (PSR), Supernova remnant (SNR), pulsar wind nebula (PWN)\n",
    "\n",
    "References:\n",
    "\n",
    "* Section 6.2 in the Fermi-LAT collaboration paper [\"The First Fermi-LAT Catalog of Sources Above 10 GeV\"](http://adsabs.harvard.edu/abs/2013arXiv1306.6772T)\n",
    "* Axel Donath's bachelor thesis [\"Modelling Galactic gamma-ray source populations\"](http://pubman.mpdl.mpg.de/pubman/item/escidoc:912132:1/component/escidoc:912131/BScThesis_ddonath.pdf), specifically Chapter 4.\n",
    "* Casanova & Dingus (2008), [\"Constraints on the TeV source population and its contribution to the galactic diffuse TeV emission\"](http://adsabs.harvard.edu/abs/2008APh....29...63C)\n",
    "* Strong (2007), [\"Source population synthesis and the Galactic diffuse gamma-ray emission\"](http://adsabs.harvard.edu/abs/2007Ap%26SS.309...35S)"
   ]
  },
  {
   "cell_type": "markdown",
   "metadata": {},
   "source": [
    "## Setup"
   ]
  },
  {
   "cell_type": "code",
   "execution_count": 1,
   "metadata": {},
   "outputs": [],
   "source": [
    "%matplotlib inline\n",
    "import matplotlib.pyplot as plt"
   ]
  },
  {
   "cell_type": "code",
   "execution_count": 2,
   "metadata": {
    "collapsed": true
   },
   "outputs": [],
   "source": [
    "import numpy as np\n",
    "import astropy.units as u\n",
    "from gammapy.utils.random import sample_powerlaw\n",
    "from gammapy.astro import population"
   ]
  },
  {
   "cell_type": "markdown",
   "metadata": {},
   "source": [
    "## Simulate positions"
   ]
  },
  {
   "cell_type": "code",
   "execution_count": 3,
   "metadata": {},
   "outputs": [],
   "source": [
    "# Spatial distribution using Lorimer (2006) model\n",
    "n_sources = int(1e5)\n",
    "\n",
    "table = population.make_base_catalog_galactic(\n",
    "    n_sources=n_sources,\n",
    "    rad_dis='L06',\n",
    "    vel_dis='F06B',\n",
    "    max_age=1e6 * u.yr,\n",
    "    spiralarms=True,\n",
    ")"
   ]
  },
  {
   "cell_type": "markdown",
   "metadata": {},
   "source": [
    "## Simulate luminosities"
   ]
  },
  {
   "cell_type": "markdown",
   "metadata": {},
   "source": [
    "Several source population models, e.g. the 1FHL paper or Strong (2007), use power-law luminosity functions.\n",
    "\n",
    "Here we implement the \"reference model\" from the 1FHL catalog paper section 6.2."
   ]
  },
  {
   "cell_type": "code",
   "execution_count": 4,
   "metadata": {},
   "outputs": [],
   "source": [
    "# Source luminosity (ph s^-1)\n",
    "\n",
    "luminosity = sample_powerlaw(\n",
    "    x_min=1e34,\n",
    "    x_max=1e37,\n",
    "    gamma=1.5,\n",
    "    size=n_sources,\n",
    ")\n",
    "table['luminosity'] = luminosity"
   ]
  },
  {
   "cell_type": "markdown",
   "metadata": {},
   "source": [
    "## Compute observable parameters"
   ]
  },
  {
   "cell_type": "code",
   "execution_count": 5,
   "metadata": {},
   "outputs": [
    {
     "name": "stdout",
     "output_type": "stream",
     "text": [
      "<Table length=100000>\n",
      "   name     dtype     unit                description              \n",
      "---------- ------- --------- --------------------------------------\n",
      "       age float64        yr                      Age of the source\n",
      "     n_ISM float64   1 / cm3            Interstellar medium density\n",
      " spiralarm   str18                                 Which spiralarm?\n",
      "   x_birth float64       kpc   Galactocentric x coordinate at birth\n",
      "   y_birth float64       kpc   Galactocentric y coordinate at birth\n",
      "   z_birth float64       kpc   Galactocentric z coordinate at birth\n",
      "         x float64       kpc            Galactocentric x coordinate\n",
      "         y float64       kpc            Galactocentric y coordinate\n",
      "         z float64       kpc            Galactocentric z coordinate\n",
      "        vx float64    km / s Galactocentric velocity in x direction\n",
      "        vy float64    km / s Galactocentric velocity in y direction\n",
      "        vz float64    km / s Galactocentric velocity in z direction\n",
      "     v_abs float64    km / s     Galactocentric velocity (absolute)\n",
      "luminosity float64                                                 \n",
      "  distance float64        pc     Distance observer to source center\n",
      "      GLON float64       deg                     Galactic longitude\n",
      "      GLAT float64       deg                      Galactic latitude\n",
      "     VGLON float64 deg / Myr         Velocity in Galactic longitude\n",
      "     VGLAT float64 deg / Myr          Velocity in Galactic latitude\n",
      "        RA float64       deg                        Right ascension\n",
      "       DEC float64       deg                            Declination\n",
      "      flux float64  1 / kpc2                            Source flux\n"
     ]
    }
   ],
   "source": [
    "table = population.add_observed_parameters(table)\n",
    "table.info()"
   ]
  },
  {
   "cell_type": "markdown",
   "metadata": {},
   "source": [
    "## Check output"
   ]
  },
  {
   "cell_type": "markdown",
   "metadata": {},
   "source": [
    "The simulation is done, you could save the simulated catalog to a file.\n",
    "\n",
    "Here we just plot a few distributions to check if the results look OK."
   ]
  },
  {
   "cell_type": "code",
   "execution_count": 6,
   "metadata": {},
   "outputs": [
    {
     "data": {
      "image/png": "[encoded data removed]",
      "text/plain": [
       "<matplotlib.figure.Figure at 0x108a706d8>"
      ]
     },
     "metadata": {},
     "output_type": "display_data"
    }
   ],
   "source": [
    "plt.scatter(table['x'][:1000], table['y'][:1000]);"
   ]
  },
  {
   "cell_type": "code",
   "execution_count": 7,
   "metadata": {},
   "outputs": [
    {
     "data": {
      "image/png": "[encoded data removed]",
      "text/plain": [
       "<matplotlib.figure.Figure at 0x1038c22e8>"
      ]
     },
     "metadata": {},
     "output_type": "display_data"
    }
   ],
   "source": [
    "plt.hist(table['GLON'], bins=100);"
   ]
  },
  {
   "cell_type": "code",
   "execution_count": 8,
   "metadata": {},
   "outputs": [
    {
     "data": {
      "image/png": "[encoded data removed]",
      "text/plain": [
       "<matplotlib.figure.Figure at 0x104710198>"
      ]
     },
     "metadata": {},
     "output_type": "display_data"
    }
   ],
   "source": [
    "plt.hist(table['GLAT'], bins=100, log=True);"
   ]
  },
  {
   "cell_type": "code",
   "execution_count": 9,
   "metadata": {},
   "outputs": [
    {
     "data": {
      "image/png": "[encoded data removed]",
      "text/plain": [
       "<matplotlib.figure.Figure at 0x108c1a630>"
      ]
     },
     "metadata": {},
     "output_type": "display_data"
    }
   ],
   "source": [
    "plt.scatter(table['GLON'][:1000], table['GLAT'][:1000]);"
   ]
  },
  {
   "cell_type": "code",
   "execution_count": 10,
   "metadata": {},
   "outputs": [
    {
     "data": {
      "image/png": "[encoded data removed]",
      "text/plain": [
       "<matplotlib.figure.Figure at 0x108c96470>"
      ]
     },
     "metadata": {},
     "output_type": "display_data"
    }
   ],
   "source": [
    "plt.hist(table['distance'], bins=100, log=True);"
   ]
  },
  {
   "cell_type": "code",
   "execution_count": 11,
   "metadata": {},
   "outputs": [
    {
     "data": {
      "image/png": "[encoded data removed]",
      "text/plain": [
       "<matplotlib.figure.Figure at 0x109336668>"
      ]
     },
     "metadata": {},
     "output_type": "display_data"
    }
   ],
   "source": [
    "plt.hist(np.log10(table['luminosity']), bins=100, log=True);"
   ]
  },
  {
   "cell_type": "code",
   "execution_count": 12,
   "metadata": {},
   "outputs": [
    {
     "data": {
      "image/png": "[encoded data removed]",
      "text/plain": [
       "<matplotlib.figure.Figure at 0x109329f98>"
      ]
     },
     "metadata": {},
     "output_type": "display_data"
    }
   ],
   "source": [
    "plt.hist(np.log10(table['flux']), bins=100, log=True);"
   ]
  },
  {
   "cell_type": "code",
   "execution_count": 13,
   "metadata": {},
   "outputs": [],
   "source": [
    "# TODO: plot GLON, GLAT, FLUX distribution\n"
   ]
  },
  {
   "cell_type": "markdown",
   "metadata": {},
   "source": [
    "## Exercises\n",
    "\n",
    "TODO"
   ]
  },
  {
   "cell_type": "code",
   "execution_count": 14,
   "metadata": {
    "collapsed": true
   },
   "outputs": [],
   "source": [
    "# Start exercises here"
   ]
  },
  {
   "cell_type": "markdown",
   "metadata": {},
   "source": [
    "## What next?\n",
    "\n",
    "TODO: summarise what was done here briefly.\n",
    "\n",
    "TODO: add some pointers to other documentation."
   ]
  }
 ],
 "metadata": {
  "kernelspec": {
   "display_name": "Python 3",
   "language": "python",
   "name": "python3"
  },
  "language_info": {
   "codemirror_mode": {
    "name": "ipython",
    "version": 3
   },
   "file_extension": ".py",
   "mimetype": "text/x-python",
   "name": "python",
   "nbconvert_exporter": "python",
   "pygments_lexer": "ipython3",
   "version": "3.5.3"
  }
 },
 "nbformat": 4,
 "nbformat_minor": 1
}
