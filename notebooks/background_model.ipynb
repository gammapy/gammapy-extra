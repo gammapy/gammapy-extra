{
 "cells": [
  {
   "cell_type": "markdown",
   "metadata": {},
   "source": [
    "# Template background model production with Gammapy\n",
    "\n",
    "## Introduction \n",
    "\n",
    "In this tutorial, we will create a template background model in the `bkg_2d` format, i.e. with offset and energy axes (see [spec](http://gamma-astro-data-formats.readthedocs.io/en/latest/irfs/background/index.html#bkg-2d-format)).\n",
    "\n",
    "We will be working with only 4 H.E.S.S. runs on the Crab nebula here, just as an example.\n",
    "\n",
    "To build a coherent background model you normally use 100s of runs of AGN observations or intentional \"off\" runs that point at parts of the sky containing no known gamma-ray sources.\n",
    "\n",
    "We will mainly be using the following classes:\n",
    "        \n",
    "* [gammapy.data.DataStore](http://docs.gammapy.org/en/latest/api/gammapy.data.DataStore.html) to load the runs to use to build the bkg model.\n",
    "* [gammapy.data.ObservationGroupAxis](http://docs.gammapy.org/en/latest/api/gammapy.data.ObservationGroupAxis.html) and [gammapy.data.ObservationGroups](http://docs.gammapy.org/en/latest/api/gammapy.data.ObservationGroups.html) to group the runs\n",
    "* [gammapy.background.OffDataBackgroundMaker](http://docs.gammapy.org/en/latest/api/gammapy.background.OffDataBackgroundMaker.html) to compute the background model\n",
    "* [gammapy.background.EnergyOffsetBackgroundModel](http://docs.gammapy.org/en/latest/api/gammapy.background.EnergyOffsetBackgroundModel.html) to represent and write the background model\n",
    "\n"
   ]
  },
  {
   "cell_type": "markdown",
   "metadata": {},
   "source": [
    "## Setup\n",
    "\n",
    "As always, we start the notebook with some setup and imports."
   ]
  },
  {
   "cell_type": "code",
   "execution_count": 1,
   "metadata": {
    "collapsed": true
   },
   "outputs": [],
   "source": [
    "%matplotlib inline\n",
    "import matplotlib.pyplot as plt"
   ]
  },
  {
   "cell_type": "code",
   "execution_count": 2,
   "metadata": {
    "collapsed": true
   },
   "outputs": [],
   "source": [
    "import shutil\n",
    "import numpy as np\n",
    "import astropy.units as u\n",
    "from astropy.table import Table\n",
    "from astropy.coordinates import SkyCoord, Angle"
   ]
  },
  {
   "cell_type": "code",
   "execution_count": 3,
   "metadata": {},
   "outputs": [],
   "source": [
    "from gammapy.extern.pathlib import Path\n",
    "from gammapy.utils.energy import EnergyBounds\n",
    "from gammapy.utils.nddata import sqrt_space\n",
    "from gammapy.data import DataStore, ObservationGroupAxis, ObservationGroups\n",
    "from gammapy.background import EnergyOffsetBackgroundModel\n",
    "from gammapy.background import OffDataBackgroundMaker\n",
    "from gammapy.catalog import SourceCatalogGammaCat"
   ]
  },
  {
   "cell_type": "markdown",
   "metadata": {},
   "source": [
    "## Compute background model\n",
    "\n",
    "Computing a set of template background model has two major steps:\n",
    "1. Define group of runs for each background model\n",
    "2. Run the `OffDataBackgroundMaker`\n",
    "\n",
    "We also need a scratch directory, and a table of known gamma-ray sources to exclude.\n",
    "\n",
    "### Make a scratch directory\n",
    "\n",
    "Background model production is a little pipeline that needs a \"scratch\" directory to put some files while running. Let's make ourselves a fresh empty scratch sub-directory called `background` in the current working directory."
   ]
  },
  {
   "cell_type": "code",
   "execution_count": 4,
   "metadata": {
    "collapsed": true
   },
   "outputs": [],
   "source": [
    "def make_fresh_dir(path):\n",
    "    \"\"\"Make a fresh directory. Delete first if exists\"\"\"    \n",
    "    path = Path(path)\n",
    "    if path.is_dir():\n",
    "        shutil.rmtree(str(path))\n",
    "    path.mkdir()\n",
    "    return path"
   ]
  },
  {
   "cell_type": "code",
   "execution_count": 5,
   "metadata": {},
   "outputs": [
    {
     "data": {
      "text/plain": [
       "PosixPath('background')"
      ]
     },
     "execution_count": 5,
     "metadata": {},
     "output_type": "execute_result"
    }
   ],
   "source": [
    "scratch_dir = make_fresh_dir('background')\n",
    "scratch_dir"
   ]
  },
  {
   "cell_type": "markdown",
   "metadata": {},
   "source": [
    "### Make an observation table defining the run grouping\n",
    "\n",
    "Prepare a scheme to group observations with similar observing conditions and create a new ObservationTable with the grouping ID for each run"
   ]
  },
  {
   "cell_type": "code",
   "execution_count": 6,
   "metadata": {},
   "outputs": [],
   "source": [
    "# Create a background model from the 4 Crab runs for the counts ouside the exclusion region so here outside the Crab\n",
    "data_store = DataStore.from_dir(\"$GAMMAPY_EXTRA/datasets/hess-crab4-hd-hap-prod2\")\n",
    "\n",
    "# Define the grouping you want to use to group the obervations to make the acceptance curves\n",
    "# Here we use 2 Zenith angle bins only, you can also add efficiency bins for example etc...\n",
    "axes = [ObservationGroupAxis('ZEN_PNT', [0, 49, 90], fmt='edges')]\n",
    "\n",
    "# Create the ObservationGroups object\n",
    "obs_groups = ObservationGroups(axes)\n",
    "# write it to file\n",
    "filename = str(scratch_dir / 'group-def.fits')\n",
    "obs_groups.obs_groups_table.write(filename, overwrite=True)\n",
    "\n",
    "# Create a new ObservationTable with the column group_id\n",
    "# You give the runs list you want to use to produce the background model that are in your obs table. \n",
    "# Here very simple only the 4 Crab runs...\n",
    "list_ids = [23523, 23526, 23559, 23592]\n",
    "obs_table_with_group_id = obs_groups.apply(data_store.obs_table.select_obs_id(list_ids))"
   ]
  },
  {
   "cell_type": "markdown",
   "metadata": {},
   "source": [
    "### Make table of known gamma-ray sources to exclude\n",
    "\n",
    "We need a mask to remove known sources from the observation. We use TeVcat and exclude a circular region of at least 0.3° radius. Here since we use Crab runs, we will remove the Crab events from the FOV to select only the OFF events to build the acceptance curves. Of cource normally you use thousand of AGN runs to build coherent acceptance curves."
   ]
  },
  {
   "cell_type": "code",
   "execution_count": 7,
   "metadata": {},
   "outputs": [],
   "source": [
    "cat = SourceCatalogGammaCat()\n",
    "exclusion_table = cat.table.copy()\n",
    "exclusion_table.rename_column('ra', 'RA')\n",
    "exclusion_table.rename_column('dec', 'DEC')\n",
    "radius = exclusion_table['morph_sigma'].data\n",
    "radius[np.isnan(radius)] = 0.3\n",
    "exclusion_table['Radius'] = radius * u.deg\n",
    "exclusion_table = Table(exclusion_table)"
   ]
  },
  {
   "cell_type": "markdown",
   "metadata": {},
   "source": [
    "### Run the OffDataBackgroundMaker\n",
    "\n",
    "Make the acceptance curves in the different group of observation conditions you defined above using the obs_table containaing the group id for each observation used to compute the bkg model"
   ]
  },
  {
   "cell_type": "code",
   "execution_count": 8,
   "metadata": {},
   "outputs": [],
   "source": [
    "bgmaker = OffDataBackgroundMaker(\n",
    "    data_store=data_store,\n",
    "    outdir=str(scratch_dir),\n",
    "    run_list=None,\n",
    "    obs_table=obs_table_with_group_id,\n",
    "    ntot_group=obs_groups.n_groups,\n",
    "    excluded_sources=exclusion_table,\n",
    ")\n",
    "\n",
    "# Define the energy and offset binning to use\n",
    "ebounds = EnergyBounds.equal_log_spacing(0.1, 100, 15, 'TeV')\n",
    "offset = sqrt_space(start=0, stop=2.5, num=100) * u.deg\n",
    "\n",
    "# Make the model (i.e. stack counts and livetime)\n",
    "bgmaker.make_model(\"2D\", ebounds=ebounds, offset=offset)\n",
    "\n",
    "# Smooth the model\n",
    "bgmaker.smooth_models(\"2D\")\n",
    "\n",
    "# Write the model to disk\n",
    "bgmaker.save_models(\"2D\")\n",
    "bgmaker.save_models(modeltype=\"2D\", smooth=True)"
   ]
  },
  {
   "cell_type": "markdown",
   "metadata": {},
   "source": [
    "Congratulations, you have produced a background model.\n",
    "\n",
    "The following files were generated in our scratch directory:"
   ]
  },
  {
   "cell_type": "code",
   "execution_count": 9,
   "metadata": {},
   "outputs": [
    {
     "data": {
      "text/plain": [
       "['background_2D_group_000_table.fits.gz',\n",
       " 'background_2D_group_001_table.fits.gz',\n",
       " 'group-def.fits',\n",
       " 'smooth_background_2D_group_000_table.fits.gz',\n",
       " 'smooth_background_2D_group_001_table.fits.gz']"
      ]
     },
     "execution_count": 9,
     "metadata": {},
     "output_type": "execute_result"
    }
   ],
   "source": [
    "[path.name for path in scratch_dir.glob('*')]\n"
   ]
  },
  {
   "cell_type": "markdown",
   "metadata": {
    "collapsed": true
   },
   "source": [
    "## Inspect the background model\n",
    "\n",
    "Our template background model has two axes: offset and energy.\n",
    "\n",
    "Let's make a few plots to see what it looks like:\n",
    "1. Acceptance curve (background rate as a function of field of view offset for a given energy)\n",
    "1. Rate spectrum (background rate as a function of energy for a given offset)\n",
    "1. Rate image (background rate as a function of energy and offset)\n",
    "\n",
    "### Acceptance curve"
   ]
  },
  {
   "cell_type": "code",
   "execution_count": 10,
   "metadata": {
    "collapsed": true
   },
   "outputs": [],
   "source": [
    "# Read one of the background models from file\n",
    "filename = scratch_dir / 'smooth_background_2D_group_000_table.fits.gz'\n",
    "model = EnergyOffsetBackgroundModel.read(str(filename))"
   ]
  },
  {
   "cell_type": "code",
   "execution_count": 11,
   "metadata": {},
   "outputs": [
    {
     "data": {
      "text/plain": [
       "<matplotlib.legend.Legend at 0x10ee9ea58>"
      ]
     },
     "execution_count": 11,
     "metadata": {},
     "output_type": "execute_result"
    },
    {
     "data": {
      "image/png": "[encoded data removed]",
      "text/plain": [
       "<matplotlib.figure.Figure at 0x10ee9e978>"
      ]
     },
     "metadata": {},
     "output_type": "display_data"
    }
   ],
   "source": [
    "offset = model.bg_rate.offset_bin_center\n",
    "energies = model.bg_rate.energy  \n",
    "iE = 6\n",
    "\n",
    "x = offset\n",
    "y = model.bg_rate.data[iE,:]\n",
    "plt.plot(x, y, label=\"bkg model smooth\")\n",
    "title = \"energy band: \"+str(\"%.2f\"%energies[iE].value)+\"-\"+str(\"%.2f\"%energies[iE+1].value)+\" TeV\"\n",
    "plt.title(title)\n",
    "plt.xlabel(\"Offset (degree)\")\n",
    "plt.ylabel(\"Bkg rate (MeV-1 s-1 sr-1)\")\n",
    "plt.legend()"
   ]
  },
  {
   "cell_type": "markdown",
   "metadata": {},
   "source": [
    "### Background rate spectrum"
   ]
  },
  {
   "cell_type": "code",
   "execution_count": 12,
   "metadata": {},
   "outputs": [
    {
     "data": {
      "text/plain": [
       "<matplotlib.text.Text at 0x10f13f940>"
      ]
     },
     "execution_count": 12,
     "metadata": {},
     "output_type": "execute_result"
    },
    {
     "data": {
      "image/png": "[encoded data removed]",
      "text/plain": [
       "<matplotlib.figure.Figure at 0x10ee95f60>"
      ]
     },
     "metadata": {},
     "output_type": "display_data"
    }
   ],
   "source": [
    "x = energies.log_centers\n",
    "y = model.bg_rate.data[:,10]\n",
    "plt.loglog(x, y, label=\"bkg model smooth\")\n",
    "plt.title(\"offset: \"+str(\"%.2f\"%offset[10].value)+\" deg\")\n",
    "plt.xlabel(\"Energy (TeV)\")\n",
    "plt.ylabel(\"Bkg rate (MeV-1 s-1 sr-1)\")"
   ]
  },
  {
   "cell_type": "markdown",
   "metadata": {},
   "source": [
    "### Background rate image with energy and offset axes\n",
    "\n",
    "It doesn't look good in this case.\n",
    "To do this well, you need to use more off or AGN runs to build the background model!"
   ]
  },
  {
   "cell_type": "code",
   "execution_count": 13,
   "metadata": {},
   "outputs": [
    {
     "data": {
      "text/plain": [
       "<matplotlib.axes._subplots.AxesSubplot at 0x10f241dd8>"
      ]
     },
     "execution_count": 13,
     "metadata": {},
     "output_type": "execute_result"
    },
    {
     "data": {
      "image/png": "[encoded data removed]",
      "text/plain": [
       "<matplotlib.figure.Figure at 0x10ee04390>"
      ]
     },
     "metadata": {},
     "output_type": "display_data"
    }
   ],
   "source": [
    "model.bg_rate.plot()"
   ]
  },
  {
   "cell_type": "markdown",
   "metadata": {},
   "source": [
    "## Make new HDU index table including background\n",
    "\n",
    "Here we first copy the dataset of the 4 crab runs from gammapy-extra in a new directory containing the data you will use for the analysis. \n",
    "\n",
    "We use the same dataset to produce the bkg or for the analysis. Of course normally you produce the bkg model using thousands of AGN runs not the 4 Crab test runs."
   ]
  },
  {
   "cell_type": "code",
   "execution_count": 14,
   "metadata": {},
   "outputs": [],
   "source": [
    "# Make a new hdu table in your dataset directory that contains the link to the acceptance curve to use to build the bkg model in your cube analysis\n",
    "data_dir = make_fresh_dir('data')"
   ]
  },
  {
   "cell_type": "code",
   "execution_count": 15,
   "metadata": {},
   "outputs": [],
   "source": [
    "ds = DataStore.from_dir(\"$GAMMAPY_EXTRA/datasets/hess-crab4-hd-hap-prod2\")\n",
    "ds.copy_obs(ds.obs_table, data_dir)"
   ]
  },
  {
   "cell_type": "markdown",
   "metadata": {},
   "source": [
    "The hdu_table in this directory contains no link to a bkg model for each observation. "
   ]
  },
  {
   "cell_type": "code",
   "execution_count": 16,
   "metadata": {},
   "outputs": [
    {
     "data": {
      "text/html": [
       "&lt;HDUIndexTable length=28&gt;\n",
       "<table id=\"table4551853840\" class=\"table-striped table-bordered table-condensed\">\n",
       "<thead><tr><th>OBS_ID</th><th>HDU_TYPE</th><th>HDU_CLASS</th><th>FILE_DIR</th><th>FILE_NAME</th><th>HDU_NAME</th><th>SIZE</th><th>MTIME</th><th>MD5</th></tr></thead>\n",
       "<thead><tr><th>int64</th><th>str6</th><th>str10</th><th>str26</th><th>str30</th><th>str12</th><th>int64</th><th>float64</th><th>str32</th></tr></thead>\n",
       "<tr><td>23523</td><td>gti</td><td>gti</td><td>run023400-023599/run023523</td><td>hess_events_023523.fits.gz</td><td>GTI</td><td>620975</td><td>1455089616.34</td><td>9e402094c3a3e05ae4199b7cc9a01215</td></tr>\n",
       "<tr><td>23523</td><td>events</td><td>events</td><td>run023400-023599/run023523</td><td>hess_events_023523.fits.gz</td><td>EVENTS</td><td>620975</td><td>1455089616.34</td><td>9e402094c3a3e05ae4199b7cc9a01215</td></tr>\n",
       "<tr><td>23523</td><td>aeff</td><td>aeff_2d</td><td>run023400-023599/run023523</td><td>hess_aeff_2d_023523.fits.gz</td><td>AEFF_2D</td><td>3727</td><td>1455089616.34</td><td>6430c082176f092e0aed0f2bf9840915</td></tr>\n",
       "<tr><td>23523</td><td>edisp</td><td>edisp_2d</td><td>run023400-023599/run023523</td><td>hess_edisp_2d_023523.fits.gz</td><td>EDISP_2D</td><td>28963</td><td>1455089616.34</td><td>f580ea6cb104e4d6735b8d2940ac6774</td></tr>\n",
       "<tr><td>23523</td><td>psf</td><td>psf_3gauss</td><td>run023400-023599/run023523</td><td>hess_psf_3gauss_023523.fits.gz</td><td>PSF_2D_GAUSS</td><td>3027</td><td>1455089616.34</td><td>87f2d5c5ca56575a4a083b33e9700312</td></tr>\n",
       "<tr><td>23523</td><td>psf</td><td>psf_king</td><td>run023400-023599/run023523</td><td>hess_psf_king_023523.fits.gz</td><td>PSF_2D_KING</td><td>1823</td><td>1455089616.34</td><td>7760e349a40883345406c7e3ea1cbd54</td></tr>\n",
       "<tr><td>23523</td><td>psf</td><td>psf_table</td><td>run023400-023599/run023523</td><td>hess_psf_table_023523.fits.gz</td><td>PSF_2D_TABLE</td><td>221574</td><td>1455089616.35</td><td>74b745938341d0f64b79f60da7f1ad0f</td></tr>\n",
       "<tr><td>23526</td><td>psf</td><td>psf_king</td><td>run023400-023599/run023526</td><td>hess_psf_king_023526.fits.gz</td><td>PSF_2D_KING</td><td>1834</td><td>1455089616.56</td><td>5873e4ec0771bdfcc6d82608199a4067</td></tr>\n",
       "<tr><td>23526</td><td>psf</td><td>psf_3gauss</td><td>run023400-023599/run023526</td><td>hess_psf_3gauss_023526.fits.gz</td><td>PSF_2D_GAUSS</td><td>3002</td><td>1455089616.56</td><td>f27364b40bbf8e35c747828e60224b28</td></tr>\n",
       "<tr><td>23526</td><td>edisp</td><td>edisp_2d</td><td>run023400-023599/run023526</td><td>hess_edisp_2d_023526.fits.gz</td><td>EDISP_2D</td><td>28882</td><td>1455089616.56</td><td>c7e99f4d282a55c7fdd4024167bdbef5</td></tr>\n",
       "<tr><td>...</td><td>...</td><td>...</td><td>...</td><td>...</td><td>...</td><td>...</td><td>...</td><td>...</td></tr>\n",
       "<tr><td>23559</td><td>events</td><td>events</td><td>run023400-023599/run023559</td><td>hess_events_023559.fits.gz</td><td>EVENTS</td><td>620577</td><td>1455089616.77</td><td>311bd2ede3dddb3504c11b9c3dadac32</td></tr>\n",
       "<tr><td>23559</td><td>gti</td><td>gti</td><td>run023400-023599/run023559</td><td>hess_events_023559.fits.gz</td><td>GTI</td><td>620577</td><td>1455089616.77</td><td>311bd2ede3dddb3504c11b9c3dadac32</td></tr>\n",
       "<tr><td>23559</td><td>aeff</td><td>aeff_2d</td><td>run023400-023599/run023559</td><td>hess_aeff_2d_023559.fits.gz</td><td>AEFF_2D</td><td>3715</td><td>1455089616.78</td><td>50eb94ec65ac146ff60845860d84a1a2</td></tr>\n",
       "<tr><td>23592</td><td>psf</td><td>psf_king</td><td>run023400-023599/run023592</td><td>hess_psf_king_023592.fits.gz</td><td>PSF_2D_KING</td><td>1818</td><td>1455089617.0</td><td>514f94397507d1160341387ed56e80ba</td></tr>\n",
       "<tr><td>23592</td><td>gti</td><td>gti</td><td>run023400-023599/run023592</td><td>hess_events_023592.fits.gz</td><td>GTI</td><td>598107</td><td>1455089616.99</td><td>3c94433be8e9f29aa198065403570dbb</td></tr>\n",
       "<tr><td>23592</td><td>events</td><td>events</td><td>run023400-023599/run023592</td><td>hess_events_023592.fits.gz</td><td>EVENTS</td><td>598107</td><td>1455089616.99</td><td>3c94433be8e9f29aa198065403570dbb</td></tr>\n",
       "<tr><td>23592</td><td>aeff</td><td>aeff_2d</td><td>run023400-023599/run023592</td><td>hess_aeff_2d_023592.fits.gz</td><td>AEFF_2D</td><td>3721</td><td>1455089616.99</td><td>5e2f5dc70fecb5060b6e1662d59d9507</td></tr>\n",
       "<tr><td>23592</td><td>edisp</td><td>edisp_2d</td><td>run023400-023599/run023592</td><td>hess_edisp_2d_023592.fits.gz</td><td>EDISP_2D</td><td>28931</td><td>1455089616.99</td><td>37db40409b6c37a9060aef8817a14ffe</td></tr>\n",
       "<tr><td>23592</td><td>psf</td><td>psf_3gauss</td><td>run023400-023599/run023592</td><td>hess_psf_3gauss_023592.fits.gz</td><td>PSF_2D_GAUSS</td><td>3015</td><td>1455089617.0</td><td>3763f28acd61d96724ad5584fe1f39c4</td></tr>\n",
       "<tr><td>23592</td><td>psf</td><td>psf_table</td><td>run023400-023599/run023592</td><td>hess_psf_table_023592.fits.gz</td><td>PSF_2D_TABLE</td><td>221709</td><td>1455089617.0</td><td>38be05a13aa0bd492c9979c5b7d3d47f</td></tr>\n",
       "</table>"
      ],
      "text/plain": [
       "<HDUIndexTable length=28>\n",
       "OBS_ID HDU_TYPE HDU_CLASS  ...     MTIME                   MD5               \n",
       "int64    str6     str10    ...    float64                 str32              \n",
       "------ -------- ---------- ... ------------- --------------------------------\n",
       " 23523      gti        gti ... 1455089616.34 9e402094c3a3e05ae4199b7cc9a01215\n",
       " 23523   events     events ... 1455089616.34 9e402094c3a3e05ae4199b7cc9a01215\n",
       " 23523     aeff    aeff_2d ... 1455089616.34 6430c082176f092e0aed0f2bf9840915\n",
       " 23523    edisp   edisp_2d ... 1455089616.34 f580ea6cb104e4d6735b8d2940ac6774\n",
       " 23523      psf psf_3gauss ... 1455089616.34 87f2d5c5ca56575a4a083b33e9700312\n",
       " 23523      psf   psf_king ... 1455089616.34 7760e349a40883345406c7e3ea1cbd54\n",
       " 23523      psf  psf_table ... 1455089616.35 74b745938341d0f64b79f60da7f1ad0f\n",
       " 23526      psf   psf_king ... 1455089616.56 5873e4ec0771bdfcc6d82608199a4067\n",
       " 23526      psf psf_3gauss ... 1455089616.56 f27364b40bbf8e35c747828e60224b28\n",
       " 23526    edisp   edisp_2d ... 1455089616.56 c7e99f4d282a55c7fdd4024167bdbef5\n",
       "   ...      ...        ... ...           ...                              ...\n",
       " 23559   events     events ... 1455089616.77 311bd2ede3dddb3504c11b9c3dadac32\n",
       " 23559      gti        gti ... 1455089616.77 311bd2ede3dddb3504c11b9c3dadac32\n",
       " 23559     aeff    aeff_2d ... 1455089616.78 50eb94ec65ac146ff60845860d84a1a2\n",
       " 23592      psf   psf_king ...  1455089617.0 514f94397507d1160341387ed56e80ba\n",
       " 23592      gti        gti ... 1455089616.99 3c94433be8e9f29aa198065403570dbb\n",
       " 23592   events     events ... 1455089616.99 3c94433be8e9f29aa198065403570dbb\n",
       " 23592     aeff    aeff_2d ... 1455089616.99 5e2f5dc70fecb5060b6e1662d59d9507\n",
       " 23592    edisp   edisp_2d ... 1455089616.99 37db40409b6c37a9060aef8817a14ffe\n",
       " 23592      psf psf_3gauss ...  1455089617.0 3763f28acd61d96724ad5584fe1f39c4\n",
       " 23592      psf  psf_table ...  1455089617.0 38be05a13aa0bd492c9979c5b7d3d47f"
      ]
     },
     "execution_count": 16,
     "metadata": {},
     "output_type": "execute_result"
    }
   ],
   "source": [
    "data_store = DataStore.from_dir(data_dir)\n",
    "data_store.hdu_table"
   ]
  },
  {
   "cell_type": "markdown",
   "metadata": {},
   "source": [
    "In order to produce a background image or background cube we have to create a hdu table that contains for each observation a link to the bkg model to use depending of the observation conditions of the run."
   ]
  },
  {
   "cell_type": "code",
   "execution_count": 17,
   "metadata": {},
   "outputs": [],
   "source": [
    "#Copy the background directory in the one where is located the hdu table, here data\n",
    "shutil.move(str(scratch_dir), str(data_dir))\n",
    "\n",
    "# Create the new hdu table with a link to the background model\n",
    "group_filename = data_dir / 'background/group-def.fits'\n",
    "\n",
    "#relat_path= (scratch_dir.absolute()).relative_to(data_dir.absolute())\n",
    "hdu_index_table = bgmaker.make_total_index_table(\n",
    "    data_store=data_store,\n",
    "    modeltype='2D',\n",
    "    out_dir_background_model=scratch_dir,\n",
    "    filename_obs_group_table=str(group_filename),\n",
    "    smooth=False,\n",
    ")\n",
    "\n",
    "# Write the new hdu table\n",
    "filename = data_dir / 'hdu-index.fits.gz'\n",
    "hdu_index_table.write(str(filename), overwrite=True)"
   ]
  },
  {
   "cell_type": "code",
   "execution_count": 18,
   "metadata": {},
   "outputs": [
    {
     "data": {
      "text/html": [
       "&lt;HDUIndexTable masked=True length=32&gt;\n",
       "<table id=\"table4550212968\" class=\"table-striped table-bordered table-condensed\">\n",
       "<thead><tr><th>OBS_ID</th><th>HDU_TYPE</th><th>HDU_CLASS</th><th>FILE_DIR</th><th>FILE_NAME</th><th>HDU_NAME</th><th>SIZE</th><th>MTIME</th><th>MD5</th></tr></thead>\n",
       "<thead><tr><th>int64</th><th>str6</th><th>str10</th><th>str26</th><th>str37</th><th>str12</th><th>int64</th><th>float64</th><th>str32</th></tr></thead>\n",
       "<tr><td>23523</td><td>gti</td><td>gti</td><td>run023400-023599/run023523</td><td>hess_events_023523.fits.gz</td><td>GTI</td><td>620975</td><td>1455089616.34</td><td>9e402094c3a3e05ae4199b7cc9a01215</td></tr>\n",
       "<tr><td>23523</td><td>events</td><td>events</td><td>run023400-023599/run023523</td><td>hess_events_023523.fits.gz</td><td>EVENTS</td><td>620975</td><td>1455089616.34</td><td>9e402094c3a3e05ae4199b7cc9a01215</td></tr>\n",
       "<tr><td>23523</td><td>aeff</td><td>aeff_2d</td><td>run023400-023599/run023523</td><td>hess_aeff_2d_023523.fits.gz</td><td>AEFF_2D</td><td>3727</td><td>1455089616.34</td><td>6430c082176f092e0aed0f2bf9840915</td></tr>\n",
       "<tr><td>23523</td><td>edisp</td><td>edisp_2d</td><td>run023400-023599/run023523</td><td>hess_edisp_2d_023523.fits.gz</td><td>EDISP_2D</td><td>28963</td><td>1455089616.34</td><td>f580ea6cb104e4d6735b8d2940ac6774</td></tr>\n",
       "<tr><td>23523</td><td>psf</td><td>psf_3gauss</td><td>run023400-023599/run023523</td><td>hess_psf_3gauss_023523.fits.gz</td><td>PSF_2D_GAUSS</td><td>3027</td><td>1455089616.34</td><td>87f2d5c5ca56575a4a083b33e9700312</td></tr>\n",
       "<tr><td>23523</td><td>psf</td><td>psf_king</td><td>run023400-023599/run023523</td><td>hess_psf_king_023523.fits.gz</td><td>PSF_2D_KING</td><td>1823</td><td>1455089616.34</td><td>7760e349a40883345406c7e3ea1cbd54</td></tr>\n",
       "<tr><td>23523</td><td>psf</td><td>psf_table</td><td>run023400-023599/run023523</td><td>hess_psf_table_023523.fits.gz</td><td>PSF_2D_TABLE</td><td>221574</td><td>1455089616.35</td><td>74b745938341d0f64b79f60da7f1ad0f</td></tr>\n",
       "<tr><td>23526</td><td>psf</td><td>psf_king</td><td>run023400-023599/run023526</td><td>hess_psf_king_023526.fits.gz</td><td>PSF_2D_KING</td><td>1834</td><td>1455089616.56</td><td>5873e4ec0771bdfcc6d82608199a4067</td></tr>\n",
       "<tr><td>23526</td><td>psf</td><td>psf_3gauss</td><td>run023400-023599/run023526</td><td>hess_psf_3gauss_023526.fits.gz</td><td>PSF_2D_GAUSS</td><td>3002</td><td>1455089616.56</td><td>f27364b40bbf8e35c747828e60224b28</td></tr>\n",
       "<tr><td>23526</td><td>edisp</td><td>edisp_2d</td><td>run023400-023599/run023526</td><td>hess_edisp_2d_023526.fits.gz</td><td>EDISP_2D</td><td>28882</td><td>1455089616.56</td><td>c7e99f4d282a55c7fdd4024167bdbef5</td></tr>\n",
       "<tr><td>...</td><td>...</td><td>...</td><td>...</td><td>...</td><td>...</td><td>...</td><td>...</td><td>...</td></tr>\n",
       "<tr><td>23592</td><td>gti</td><td>gti</td><td>run023400-023599/run023592</td><td>hess_events_023592.fits.gz</td><td>GTI</td><td>598107</td><td>1455089616.99</td><td>3c94433be8e9f29aa198065403570dbb</td></tr>\n",
       "<tr><td>23592</td><td>events</td><td>events</td><td>run023400-023599/run023592</td><td>hess_events_023592.fits.gz</td><td>EVENTS</td><td>598107</td><td>1455089616.99</td><td>3c94433be8e9f29aa198065403570dbb</td></tr>\n",
       "<tr><td>23592</td><td>aeff</td><td>aeff_2d</td><td>run023400-023599/run023592</td><td>hess_aeff_2d_023592.fits.gz</td><td>AEFF_2D</td><td>3721</td><td>1455089616.99</td><td>5e2f5dc70fecb5060b6e1662d59d9507</td></tr>\n",
       "<tr><td>23592</td><td>edisp</td><td>edisp_2d</td><td>run023400-023599/run023592</td><td>hess_edisp_2d_023592.fits.gz</td><td>EDISP_2D</td><td>28931</td><td>1455089616.99</td><td>37db40409b6c37a9060aef8817a14ffe</td></tr>\n",
       "<tr><td>23592</td><td>psf</td><td>psf_3gauss</td><td>run023400-023599/run023592</td><td>hess_psf_3gauss_023592.fits.gz</td><td>PSF_2D_GAUSS</td><td>3015</td><td>1455089617.0</td><td>3763f28acd61d96724ad5584fe1f39c4</td></tr>\n",
       "<tr><td>23592</td><td>psf</td><td>psf_table</td><td>run023400-023599/run023592</td><td>hess_psf_table_023592.fits.gz</td><td>PSF_2D_TABLE</td><td>221709</td><td>1455089617.0</td><td>38be05a13aa0bd492c9979c5b7d3d47f</td></tr>\n",
       "<tr><td>23526</td><td>bkg</td><td>bkg_2d</td><td>background</td><td>background_2D_group_000_table.fits.gz</td><td>bkg_2d</td><td>--</td><td>--</td><td>--</td></tr>\n",
       "<tr><td>23559</td><td>bkg</td><td>bkg_2d</td><td>background</td><td>background_2D_group_000_table.fits.gz</td><td>bkg_2d</td><td>--</td><td>--</td><td>--</td></tr>\n",
       "<tr><td>23592</td><td>bkg</td><td>bkg_2d</td><td>background</td><td>background_2D_group_000_table.fits.gz</td><td>bkg_2d</td><td>--</td><td>--</td><td>--</td></tr>\n",
       "<tr><td>23523</td><td>bkg</td><td>bkg_2d</td><td>background</td><td>background_2D_group_001_table.fits.gz</td><td>bkg_2d</td><td>--</td><td>--</td><td>--</td></tr>\n",
       "</table>"
      ],
      "text/plain": [
       "<HDUIndexTable masked=True length=32>\n",
       "OBS_ID HDU_TYPE HDU_CLASS  ...     MTIME                   MD5               \n",
       "int64    str6     str10    ...    float64                 str32              \n",
       "------ -------- ---------- ... ------------- --------------------------------\n",
       " 23523      gti        gti ... 1455089616.34 9e402094c3a3e05ae4199b7cc9a01215\n",
       " 23523   events     events ... 1455089616.34 9e402094c3a3e05ae4199b7cc9a01215\n",
       " 23523     aeff    aeff_2d ... 1455089616.34 6430c082176f092e0aed0f2bf9840915\n",
       " 23523    edisp   edisp_2d ... 1455089616.34 f580ea6cb104e4d6735b8d2940ac6774\n",
       " 23523      psf psf_3gauss ... 1455089616.34 87f2d5c5ca56575a4a083b33e9700312\n",
       " 23523      psf   psf_king ... 1455089616.34 7760e349a40883345406c7e3ea1cbd54\n",
       " 23523      psf  psf_table ... 1455089616.35 74b745938341d0f64b79f60da7f1ad0f\n",
       " 23526      psf   psf_king ... 1455089616.56 5873e4ec0771bdfcc6d82608199a4067\n",
       " 23526      psf psf_3gauss ... 1455089616.56 f27364b40bbf8e35c747828e60224b28\n",
       " 23526    edisp   edisp_2d ... 1455089616.56 c7e99f4d282a55c7fdd4024167bdbef5\n",
       "   ...      ...        ... ...           ...                              ...\n",
       " 23592      gti        gti ... 1455089616.99 3c94433be8e9f29aa198065403570dbb\n",
       " 23592   events     events ... 1455089616.99 3c94433be8e9f29aa198065403570dbb\n",
       " 23592     aeff    aeff_2d ... 1455089616.99 5e2f5dc70fecb5060b6e1662d59d9507\n",
       " 23592    edisp   edisp_2d ... 1455089616.99 37db40409b6c37a9060aef8817a14ffe\n",
       " 23592      psf psf_3gauss ...  1455089617.0 3763f28acd61d96724ad5584fe1f39c4\n",
       " 23592      psf  psf_table ...  1455089617.0 38be05a13aa0bd492c9979c5b7d3d47f\n",
       " 23526      bkg     bkg_2d ...            --                               --\n",
       " 23559      bkg     bkg_2d ...            --                               --\n",
       " 23592      bkg     bkg_2d ...            --                               --\n",
       " 23523      bkg     bkg_2d ...            --                               --"
      ]
     },
     "execution_count": 18,
     "metadata": {},
     "output_type": "execute_result"
    }
   ],
   "source": [
    "hdu_index_table"
   ]
  },
  {
   "cell_type": "code",
   "execution_count": 19,
   "metadata": {},
   "outputs": [
    {
     "name": "stdout",
     "output_type": "stream",
     "text": [
      "background   background_2D_group_000_table.fits.gz\n"
     ]
    }
   ],
   "source": [
    "print(hdu_index_table[-4][\"FILE_DIR\"], \" \", hdu_index_table[-4][\"FILE_NAME\"])"
   ]
  },
  {
   "cell_type": "code",
   "execution_count": 20,
   "metadata": {},
   "outputs": [
    {
     "name": "stdout",
     "output_type": "stream",
     "text": [
      "background   background_2D_group_001_table.fits.gz\n"
     ]
    }
   ],
   "source": [
    "print(hdu_index_table[-1][\"FILE_DIR\"], \" \", hdu_index_table[-1][\"FILE_NAME\"])"
   ]
  },
  {
   "cell_type": "markdown",
   "metadata": {},
   "source": [
    "## Exercises\n",
    "\n",
    "- Use real AGN run\n",
    "- Change the binning for the grouping: thinner zenithal bin, add efficiency binning ....\n",
    "- Change the energy binning (ebounds) and the offset (offset) used to compute the acceptance curve\n"
   ]
  },
  {
   "cell_type": "code",
   "execution_count": null,
   "metadata": {
    "collapsed": true
   },
   "outputs": [],
   "source": []
  },
  {
   "cell_type": "markdown",
   "metadata": {},
   "source": [
    "## What next?\n",
    "\n",
    "In this tutorial we have created a template background model in the `bkg_2d` format, i.e. with offset and energy axes (see [spec](http://gamma-astro-data-formats.readthedocs.io/en/latest/irfs/background/index.html#bkg-2d-format)).\n",
    "\n",
    "In future tutorials, we will use this background model as one of the model components for source analysis."
   ]
  },
  {
   "cell_type": "code",
   "execution_count": null,
   "metadata": {
    "collapsed": true
   },
   "outputs": [],
   "source": []
  }
 ],
 "metadata": {
  "kernelspec": {
   "display_name": "Python 3",
   "language": "python",
   "name": "python3"
  },
  "language_info": {
   "codemirror_mode": {
    "name": "ipython",
    "version": 3
   },
   "file_extension": ".py",
   "mimetype": "text/x-python",
   "name": "python",
   "nbconvert_exporter": "python",
   "pygments_lexer": "ipython3",
   "version": "3.6.1"
  }
 },
 "nbformat": 4,
 "nbformat_minor": 2
}
