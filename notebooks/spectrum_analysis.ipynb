{
 "cells": [
  {
   "cell_type": "markdown",
   "metadata": {},
   "source": [
    "# Spectral analysis with Gammapy"
   ]
  },
  {
   "cell_type": "markdown",
   "metadata": {},
   "source": [
    "## Introduction\n",
    "\n",
    "This notebook explains how to use the functions and classes in [gammapy.spectrum](http://docs.gammapy.org/en/latest/spectrum/index.html).\n",
    "\n",
    "Based on a datasets of 4 Crab observations with H.E.S.S. (simulated events for now) we will perform a full region based spectral analysis, i.e. extracting source and background counts from certain \n",
    "regions, and fitting them using the forward-folding approach.\n",
    "\n",
    "Data handling:\n",
    "\n",
    "* [gammapy.data.DataStore](http://docs.gammapy.org/en/latest/api/gammapy.data.DataStore.html)\n",
    "* [gammapy.data.DataStoreObservation](http://docs.gammapy.org/en/latest/api/gammapy.data.DataStoreObservation.html)\n",
    "* [gammapy.data.Target](http://docs.gammapy.org/en/latest/api/gammapy.data.Target.html)\n",
    "* [gammapy.data.ObservationStats](http://docs.gammapy.org/en/latest/api/gammapy.data.ObservationStats.html)\n",
    "* [gammapy.data.ObservationSummary](http://docs.gammapy.org/en/latest/api/gammapy.data.ObservationSummary.html)\n",
    "\n",
    "To extract the 1-dim spectral information:\n",
    "\n",
    "* [gammapy.spectrum.SpectrumObservation](http://docs.gammapy.org/en/latest/api/gammapy.spectrum.SpectrumObservation.html)\n",
    "* [gammapy.spectrum.SpectrumExtraction](http://docs.gammapy.org/en/latest/api/gammapy.spectrum.SpectrumExtraction.html)\n",
    "* [gammapy.background.ReflectedRegionsBackgroundEstimator](http://docs.gammapy.org/en/latest/api/gammapy.background.ReflectedRegionsBackgroundEstimator.html)\n",
    "\n",
    "\n",
    "For the global fit (using Sherpa and WSTAT in the background):\n",
    "\n",
    "* [gammapy.spectrum.SpectrumFit](http://docs.gammapy.org/en/latest/api/gammapy.spectrum.SpectrumFit.html)\n",
    "* [gammapy.spectrum.models.PowerLaw](http://docs.gammapy.org/en/latest/api/gammapy.spectrum.models.PowerLaw.html)\n",
    "* [gammapy.spectrum.models.ExponentialCutoffPowerLaw](http://docs.gammapy.org/en/latest/api/gammapy.spectrum.models.ExponentialCutoffPowerLaw.html)\n",
    "* [gammapy.spectrum.models.LogParabola](http://docs.gammapy.org/en/latest/api/gammapy.spectrum.models.LogParabola.html)\n",
    "\n",
    "To compute flux points (a.k.a. \"SED\" = \"spectral energy distribution\")\n",
    "\n",
    "* [gammapy.spectrum.SpectrumResult](http://docs.gammapy.org/en/latest/api/gammapy.spectrum.SpectrumResult.html)\n",
    "* [gammapy.spectrum.FluxPoints](http://docs.gammapy.org/en/latest/api/gammapy.spectrum.FluxPoints.html)\n",
    "* [gammapy.spectrum.SpectrumEnergyGroupMaker](http://docs.gammapy.org/en/latest/api/gammapy.spectrum.SpectrumEnergyGroupMaker.html)\n",
    "* [gammapy.spectrum.FluxPointEstimator](http://docs.gammapy.org/en/latest/api/gammapy.spectrum.FluxPointEstimator.html)\n",
    "\n",
    "We know this is a lot of classes and complexity.\n",
    "The reason is that we have created Gammapy as a flexible, modular toolbox to implement such analyses.\n",
    "\n",
    "We will add more high-level classes and command line tools that execute the common workflows like the one done here by hand as a pipeline and output a nice summary, to make the common cases easy.\n",
    "\n",
    "Feedback welcome!"
   ]
  },
  {
   "cell_type": "markdown",
   "metadata": {},
   "source": [
    "## Setup\n",
    "\n",
    "As usual, we'll start with some setup ..."
   ]
  },
  {
   "cell_type": "code",
   "execution_count": 1,
   "metadata": {
    "collapsed": true
   },
   "outputs": [],
   "source": [
    "%matplotlib inline\n",
    "import matplotlib.pyplot as plt"
   ]
  },
  {
   "cell_type": "code",
   "execution_count": 2,
   "metadata": {},
   "outputs": [
    {
     "name": "stdout",
     "output_type": "stream",
     "text": [
      "numpy: 1.12.1\n",
      "astropy 2.0.dev17848\n",
      "regions 0.2.dev360\n",
      "sherpa ciao4.9+1.g1ebebb7\n"
     ]
    }
   ],
   "source": [
    "# Check package versions\n",
    "import numpy as np\n",
    "import astropy\n",
    "import regions\n",
    "import sherpa\n",
    "\n",
    "print('numpy:', np.__version__)\n",
    "print('astropy', astropy.__version__)\n",
    "print('regions', regions.__version__)\n",
    "print('sherpa', sherpa.__version__)"
   ]
  },
  {
   "cell_type": "code",
   "execution_count": 3,
   "metadata": {
    "collapsed": true
   },
   "outputs": [],
   "source": [
    "# units and coordinates from astropy\n",
    "import astropy.units as u\n",
    "from astropy.coordinates import SkyCoord, Angle\n",
    "\n",
    "# Regions \n",
    "from regions import CircleSkyRegion\n",
    "\n",
    "# Datastore is the interface to the index of observations \n",
    "from gammapy.data import Target\n",
    "from gammapy.data import DataStore, ObservationList\n",
    "from gammapy.data import ObservationStats, ObservationSummary\n",
    "\n",
    "# The background method\n",
    "from gammapy.background.reflected import ReflectedRegionsBackgroundEstimator\n",
    "\n",
    "# Some utility function to deal with energy axis (log binning with a unit etc)\n",
    "from gammapy.utils.energy import EnergyBounds\n",
    "\n",
    "# The class performing the extraction and extraction results\n",
    "from gammapy.spectrum import SpectrumExtraction, SpectrumObservation, SpectrumFit, SpectrumResult\n",
    "\n",
    "# Spectral models\n",
    "from gammapy.spectrum.models import PowerLaw, ExponentialCutoffPowerLaw, LogParabola\n",
    "# Utilities for flux points plotting\n",
    "from gammapy.spectrum import FluxPoints, SpectrumEnergyGroupMaker, FluxPointEstimator\n",
    "\n",
    "# A class to deal with exclusion regions\n",
    "from gammapy.image import SkyImage\n",
    "\n",
    "from gammapy.extern.pathlib import Path\n"
   ]
  },
  {
   "cell_type": "markdown",
   "metadata": {},
   "source": [
    "## Configure logger\n",
    "\n",
    "Most high level classes in gammapy have the possibility to turn on logging or debug output. We well configure the logger in the following. For more info see https://docs.python.org/2/howto/logging.html#logging-basic-tutorial"
   ]
  },
  {
   "cell_type": "code",
   "execution_count": 4,
   "metadata": {
    "collapsed": true
   },
   "outputs": [],
   "source": [
    "import logging\n",
    "# Setup the logger\n",
    "logging.basicConfig()\n",
    "#print(logging.Logger.manager.loggerDict)\n",
    "log = logging.getLogger('gammapy.spectrum')\n",
    "\n",
    "# Debug\n",
    "#log.setLevel(10)\n",
    "# Not set\n",
    "log.setLevel(0)"
   ]
  },
  {
   "cell_type": "markdown",
   "metadata": {},
   "source": [
    "## Load Data\n",
    "\n",
    "First, we select and load some H.E.S.S. observations of the Crab nebula (simulated events for now).\n",
    "\n",
    "We will access the events, effective area, energy dispersion, livetime and PSF for containement correction."
   ]
  },
  {
   "cell_type": "code",
   "execution_count": 5,
   "metadata": {
    "collapsed": true
   },
   "outputs": [],
   "source": [
    "DATA_DIR = '$GAMMAPY_EXTRA/datasets/hess-crab4-hd-hap-prod2'\n",
    "\n",
    "datastore = DataStore.from_dir(DATA_DIR)\n",
    "obs_ids = [23523, 23526, 23559, 23592]\n",
    "\n",
    "obs_list = datastore.obs_list(obs_ids)"
   ]
  },
  {
   "cell_type": "markdown",
   "metadata": {},
   "source": [
    "## Define Target Region\n",
    "\n",
    "The next step is to define a signal extraction region, also known as on region. In the simplest case this is just a [CircleSkyRegion](http://astropy-regions.readthedocs.io/en/latest/api/regions.CircleSkyRegion.html#regions.CircleSkyRegion), but here we will use the ``Target`` class in gammapy that is useful for book-keeping if you run several analysis in a script."
   ]
  },
  {
   "cell_type": "code",
   "execution_count": 6,
   "metadata": {
    "collapsed": true
   },
   "outputs": [],
   "source": [
    "target_position = SkyCoord(ra=83.63, dec=22.01, unit='deg', frame='icrs')\n",
    "on_region_radius = Angle('0.11 deg')\n",
    "on_region = CircleSkyRegion(center=target_position, radius=on_region_radius)\n",
    "\n",
    "target = Target(on_region=on_region, name='Crab', tag='crab_example')"
   ]
  },
  {
   "cell_type": "markdown",
   "metadata": {},
   "source": [
    "## Load exclusion mask\n",
    "\n",
    "Most analysis will require a mask to exclude regions with possible gamma-ray signal from the background estimation procedure. For simplicity, we will use a pre-cooked exclusion mask from gammapy-extra which includes (or rather excludes) all source listed in the [TeVCat](http://tevcat.uchicago.edu/) and cutout only the region around the crab.\n",
    "\n",
    "TODO: Change to [gamma-cat](https://gammapy.github.io/gamma-cat/)"
   ]
  },
  {
   "cell_type": "code",
   "execution_count": 7,
   "metadata": {
    "collapsed": true
   },
   "outputs": [],
   "source": [
    "EXCLUSION_FILE = '$GAMMAPY_EXTRA/datasets/exclusion_masks/tevcat_exclusion.fits'\n",
    "\n",
    "allsky_mask = SkyImage.read(EXCLUSION_FILE)\n",
    "exclusion_mask = allsky_mask.cutout(\n",
    "    position=target.on_region.center,\n",
    "    size=Angle('6 deg'),\n",
    ")"
   ]
  },
  {
   "cell_type": "markdown",
   "metadata": {},
   "source": [
    "## Estimate background\n",
    "\n",
    "Next we will manually perform a background estimate by placing [reflected regions](http://docs.gammapy.org/en/latest/background/reflected.html) around the pointing position and looking at the source statistics. In a real analysis you probably don't want to this every time. In this case you can also pass the background estimation parameters directly to the ``SpectrumExtraction`` class, as shown below in [Extract Spectrum](#extract_spectrum)."
   ]
  },
  {
   "cell_type": "code",
   "execution_count": 8,
   "metadata": {
    "collapsed": true
   },
   "outputs": [],
   "source": [
    "background_estimator = ReflectedRegionsBackgroundEstimator(\n",
    "    on_region=target.on_region,\n",
    "    obs_list = obs_list,\n",
    "    exclusion = exclusion_mask)\n",
    "\n",
    "background_estimator.run()"
   ]
  },
  {
   "cell_type": "code",
   "execution_count": 9,
   "metadata": {},
   "outputs": [
    {
     "data": {
      "text/plain": [
       "(<matplotlib.figure.Figure at 0x10ca81588>,\n",
       " <matplotlib.axes._subplots.WCSAxesSubplot at 0x10ca81550>)"
      ]
     },
     "execution_count": 9,
     "metadata": {},
     "output_type": "execute_result"
    },
    {
     "data": {
      "image/png": "[encoded data removed]",
      "text/plain": [
       "<matplotlib.figure.Figure at 0x10ca81588>"
      ]
     },
     "metadata": {},
     "output_type": "display_data"
    }
   ],
   "source": [
    "plt.figure(figsize=(8,8))\n",
    "background_estimator.plot()"
   ]
  },
  {
   "cell_type": "markdown",
   "metadata": {},
   "source": [
    "## Source statistic\n",
    "\n",
    "Next we're going to look at the overall source statistics in our signal region. For more info about what debug plots you can create check out the [ObservationSummary](http://docs.gammapy.org/en/latest/api/gammapy.data.ObservationSummary.html#gammapy.data.ObservationSummary) class."
   ]
  },
  {
   "cell_type": "code",
   "execution_count": 10,
   "metadata": {},
   "outputs": [
    {
     "name": "stdout",
     "output_type": "stream",
     "text": [
      "*** Observation summary report ***\n",
      "Observation Id: 23526\n",
      "Livetime: 0.437 h\n",
      "On events: 168\n",
      "Off events: 58\n",
      "Alpha: 0.091\n",
      "Bkg events in On region: 5.27\n",
      "Excess: 162.73\n",
      "Excess / Background: 30.86\n",
      "Gamma rate: 6.41 1 / min\n",
      "Bkg rate: 0.20 1 / min\n",
      "Sigma: 24.24\n",
      "\n"
     ]
    },
    {
     "data": {
      "text/plain": [
       "<matplotlib.axes._subplots.AxesSubplot at 0x10db58b70>"
      ]
     },
     "execution_count": 10,
     "metadata": {},
     "output_type": "execute_result"
    },
    {
     "data": {
      "image/png": "[encoded data removed]",
      "text/plain": [
       "<matplotlib.figure.Figure at 0x10cbf96a0>"
      ]
     },
     "metadata": {},
     "output_type": "display_data"
    }
   ],
   "source": [
    "stats = []\n",
    "for _obs, _bkg in zip(obs_list, background_estimator.result):\n",
    "    stats.append(ObservationStats.from_target(_obs, target, _bkg))\n",
    "    \n",
    "print(stats[1])\n",
    "\n",
    "obs_summary = ObservationSummary(stats)\n",
    "fig = plt.figure(figsize=(10,6))\n",
    "ax1=fig.add_subplot(121)\n",
    "\n",
    "obs_summary.plot_excess_vs_livetime(ax=ax1)\n",
    "ax2=fig.add_subplot(122)\n",
    "obs_summary.plot_significance_vs_livetime(ax=ax2)"
   ]
  },
  {
   "cell_type": "markdown",
   "metadata": {
    "collapsed": true
   },
   "source": [
    "## Extract spectrum\n",
    "\n",
    "<a id='extract_spectrum'></a>\n",
    "\n",
    "Finally, we're going to extract a spectrum using the [SpectrumExtraction](http://docs.gammapy.org/en/latest/api/gammapy.spectrum.SpectrumExtraction.html) class. Since most of the time you probably want to go directly to this step, we'll assume you just defined all your input data, but not performed any background estimation. Therefore you have to pass the background estimation parameters as a dict to the ``SpectrumExtraction`` instance. The ``run`` method executes all steps of the extraction process and saves the results in the folder ``ANALYSIS_DIR``."
   ]
  },
  {
   "cell_type": "markdown",
   "metadata": {},
   "source": [
    "### Define energy binning\n",
    "\n",
    "We now provide the reconstructed energy binning we want to use. It is expected to be a Quantity with unit energy, i.e. an array with an energy unit. We use a utility function to create it.\n",
    "\n",
    "We also provide the true energy binning to use instead of default value."
   ]
  },
  {
   "cell_type": "code",
   "execution_count": 11,
   "metadata": {
    "collapsed": true
   },
   "outputs": [],
   "source": [
    "### Define reco energy binning\n",
    "e_reco = EnergyBounds.equal_log_spacing(0.1, 40, 40, unit='TeV')\n",
    "\n",
    "### Define True energy binning\n",
    "e_true = EnergyBounds.equal_log_spacing(0.05, 100., 200, unit='TeV')"
   ]
  },
  {
   "cell_type": "markdown",
   "metadata": {},
   "source": [
    "### Perform the spectral extraction\n",
    "\n",
    "Instantiate a [SpectrumExtraction](http://docs.gammapy.org/en/latest/api/gammapy.spectrum.SpectrumExtraction.html) object that will do the extraction. This requires a Target object, an ObservationList and a dict containing the method and exclusion mask used for background extraction. \n",
    "\n",
    "The containment_correction parameter is there to allow for PSF leakage correction if one is working with full enclosure IRFs.\n",
    "\n",
    "We also compute a threshold energy and store the result in OGIP compliant files (pha, rmf, arf). This last step might be omitted though."
   ]
  },
  {
   "cell_type": "code",
   "execution_count": 12,
   "metadata": {},
   "outputs": [
    {
     "name": "stderr",
     "output_type": "stream",
     "text": [
      "/Users/deil/Library/Python/3.5/lib/python/site-packages/astropy/units/quantity.py:951: RuntimeWarning: invalid value encountered in true_divide\n",
      "  return super(Quantity, self).__truediv__(other)\n"
     ]
    }
   ],
   "source": [
    "ANALYSIS_DIR = 'crab_analysis'\n",
    "\n",
    "bkg_estimation = dict(\n",
    "    method='reflected',\n",
    "    exclusion=exclusion_mask,\n",
    ")\n",
    "\n",
    "extraction = SpectrumExtraction(target=target,\n",
    "                                obs=obs_list,\n",
    "                                background=bkg_estimation,\n",
    "                                containment_correction=False\n",
    "                               )\n",
    "\n",
    "extraction.estimate_background(extraction.background)\n",
    "extraction.extract_spectrum()\n",
    "\n",
    "# Add a condition on correct energy range in case it is not set by default\n",
    "extraction.define_energy_threshold('area_max', percent=10.0)\n",
    "\n",
    "# Write output in the form of OGIP files: PHA, ARF, RMF, BKG\n",
    "#extraction.observations.write(outdir=ANALYSIS_DIR+'/ogip_data/')\n",
    "\n",
    "# extraction.run(outdir=ANALYSIS_DIR)"
   ]
  },
  {
   "cell_type": "markdown",
   "metadata": {},
   "source": [
    "## Look at observations\n",
    "\n",
    "At this point we could proceed and fit a global model to the spectrum we just extraced. However, we will take a short moment to have a look at the files we just created. We will use the ``SpectrumObservation`` object that are still in memory from the extraction step. Note, however, that you could also read them from disk if you have written them in the step above . The ``ANALYSIS_DIR`` folder contains 4 ``FITS`` files for each observation. These files are described in detail at https://gamma-astro-data-formats.readthedocs.io/en/latest/ogip/index.html. In short they correspond to the on vector, the off vector, the effectie area, and the energy dispersion."
   ]
  },
  {
   "cell_type": "code",
   "execution_count": 13,
   "metadata": {
    "collapsed": true
   },
   "outputs": [],
   "source": [
    "#filename = ANALYSIS_DIR + '/ogip_data/pha_obs23523.fits'\n",
    "#obs = SpectrumObservation.read(filename)\n",
    "\n",
    "# Requires IPython widgets\n",
    "#_ = extraction.observations.peek()"
   ]
  },
  {
   "cell_type": "markdown",
   "metadata": {},
   "source": [
    "## Fit spectrum\n",
    "\n",
    "Now we'll fit a global model to the spectrum. First we do a joint likelihood fit to all observations. If you want to stack the observations see below. We will also produce a debug plot in order to show how the global fit matches one of the individual observations."
   ]
  },
  {
   "cell_type": "code",
   "execution_count": 14,
   "metadata": {},
   "outputs": [
    {
     "name": "stderr",
     "output_type": "stream",
     "text": [
      "/Users/deil/Library/Python/3.5/lib/python/site-packages/gammapy-0.6.dev4380-py3.5-macosx-10.12-x86_64.egg/gammapy/stats/fit_statistics.py:161: RuntimeWarning: divide by zero encountered in log\n",
      "  term2_ = - n_on * np.log(mu_sig + alpha * mu_bkg)\n",
      "/Users/deil/Library/Python/3.5/lib/python/site-packages/gammapy-0.6.dev4380-py3.5-macosx-10.12-x86_64.egg/gammapy/stats/fit_statistics.py:166: RuntimeWarning: divide by zero encountered in log\n",
      "  term3_ = - n_off * np.log(mu_bkg)\n",
      "/Users/deil/Library/Python/3.5/lib/python/site-packages/gammapy-0.6.dev4380-py3.5-macosx-10.12-x86_64.egg/gammapy/stats/fit_statistics.py:198: RuntimeWarning: divide by zero encountered in log\n",
      "  term1 = - n_on * (1 - np.log(n_on))\n",
      "/Users/deil/Library/Python/3.5/lib/python/site-packages/gammapy-0.6.dev4380-py3.5-macosx-10.12-x86_64.egg/gammapy/stats/fit_statistics.py:199: RuntimeWarning: divide by zero encountered in log\n",
      "  term2 = - n_off * (1 - np.log(n_off))\n"
     ]
    }
   ],
   "source": [
    "model = PowerLaw(index = 2 * u.Unit(''),\n",
    "                amplitude = 2e-11 * u.Unit('cm-2 s-1 TeV-1'),\n",
    "                reference = 1 * u.TeV)\n",
    "\n",
    "fit = SpectrumFit(extraction.observations, model)\n",
    "\n",
    "fit.fit()\n",
    "fit.est_errors()\n",
    "#fit.run(outdir = ANALYSIS_DIR)"
   ]
  },
  {
   "cell_type": "code",
   "execution_count": 15,
   "metadata": {},
   "outputs": [
    {
     "name": "stdout",
     "output_type": "stream",
     "text": [
      "\n",
      "Fit result info \n",
      "--------------- \n",
      "Model: PowerLaw\n",
      "ParameterList\n",
      "Parameter(name='index', value=2.1776886142983143, unit=Unit(dimensionless), min=0, max=None, frozen=False)\n",
      "Parameter(name='amplitude', value=2.012050920479948e-11, unit=Unit(\"1 / (cm2 s TeV)\"), min=0, max=None, frozen=False)\n",
      "Parameter(name='reference', value=1.0, unit=Unit(\"TeV\"), min=None, max=None, frozen=True)\n",
      "\n",
      "Covariance: [[  1.97213281e-03   2.20756543e-14   0.00000000e+00]\n",
      " [  2.20756543e-14   1.04089103e-24   0.00000000e+00]\n",
      " [  0.00000000e+00   0.00000000e+00   0.00000000e+00]] \n",
      "\n",
      "Statistic: 34.777 (wstat)\n",
      "Fit Range: [   0.68129207  100.        ] TeV\n",
      "\n"
     ]
    },
    {
     "data": {
      "image/png": "[encoded data removed]",
      "text/plain": [
       "<matplotlib.figure.Figure at 0x10ccdf6a0>"
      ]
     },
     "metadata": {},
     "output_type": "display_data"
    }
   ],
   "source": [
    "ax0, ax1 = fit.result[0].plot(figsize=(8,8))\n",
    "ax0.set_ylim(0, 20)\n",
    "print(fit.result[0])"
   ]
  },
  {
   "cell_type": "markdown",
   "metadata": {},
   "source": [
    "## Compute Flux Points\n",
    "\n",
    "To round up out analysis we can compute flux points by fitting the norm of the global model in energy bands. We'll use a fixed energy binning for now."
   ]
  },
  {
   "cell_type": "code",
   "execution_count": 16,
   "metadata": {},
   "outputs": [
    {
     "name": "stdout",
     "output_type": "stream",
     "text": [
      "SpectrumEnergyGroups:\n",
      "\n",
      "Info including underflow- and overflow bins:\n",
      "Number of groups: 6\n",
      "Bin range: (0, 71)\n",
      "Energy range: EnergyRange(min=0.01 TeV, max=100.0 TeV)\n",
      "\n"
     ]
    },
    {
     "name": "stderr",
     "output_type": "stream",
     "text": [
      "/Users/deil/Library/Python/3.5/lib/python/site-packages/gammapy-0.6.dev4380-py3.5-macosx-10.12-x86_64.egg/gammapy/stats/poisson.py:383: RuntimeWarning: divide by zero encountered in double_scalars\n",
      "  temp = (alpha + 1) / (n_on + n_off)\n",
      "/Users/deil/Library/Python/3.5/lib/python/site-packages/gammapy-0.6.dev4380-py3.5-macosx-10.12-x86_64.egg/gammapy/stats/poisson.py:385: RuntimeWarning: divide by zero encountered in log\n",
      "  m = n_off * log(n_off * temp)\n",
      "/Users/deil/Library/Python/3.5/lib/python/site-packages/gammapy-0.6.dev4380-py3.5-macosx-10.12-x86_64.egg/gammapy/stats/poisson.py:384: RuntimeWarning: divide by zero encountered in log\n",
      "  l = n_on * log(n_on * temp / alpha)\n"
     ]
    }
   ],
   "source": [
    "# Define energy binning\n",
    "ebounds = [0.3, 1.1, 3, 10.1, 30] * u.TeV\n",
    "\n",
    "stacked_obs = extraction.observations.stack()\n",
    "\n",
    "seg = SpectrumEnergyGroupMaker(obs=stacked_obs)\n",
    "seg.compute_range_safe()\n",
    "seg.compute_groups_fixed(ebounds=ebounds)\n",
    "\n",
    "print(seg.groups)"
   ]
  },
  {
   "cell_type": "code",
   "execution_count": 17,
   "metadata": {},
   "outputs": [
    {
     "name": "stderr",
     "output_type": "stream",
     "text": [
      "/Users/deil/Library/Python/3.5/lib/python/site-packages/gammapy-0.6.dev4380-py3.5-macosx-10.12-x86_64.egg/gammapy/stats/fit_statistics.py:161: RuntimeWarning: divide by zero encountered in log\n",
      "  term2_ = - n_on * np.log(mu_sig + alpha * mu_bkg)\n",
      "/Users/deil/Library/Python/3.5/lib/python/site-packages/gammapy-0.6.dev4380-py3.5-macosx-10.12-x86_64.egg/gammapy/stats/fit_statistics.py:166: RuntimeWarning: divide by zero encountered in log\n",
      "  term3_ = - n_off * np.log(mu_bkg)\n",
      "/Users/deil/Library/Python/3.5/lib/python/site-packages/gammapy-0.6.dev4380-py3.5-macosx-10.12-x86_64.egg/gammapy/stats/fit_statistics.py:198: RuntimeWarning: divide by zero encountered in log\n",
      "  term1 = - n_on * (1 - np.log(n_on))\n",
      "/Users/deil/Library/Python/3.5/lib/python/site-packages/gammapy-0.6.dev4380-py3.5-macosx-10.12-x86_64.egg/gammapy/stats/fit_statistics.py:199: RuntimeWarning: divide by zero encountered in log\n",
      "  term2 = - n_off * (1 - np.log(n_off))\n"
     ]
    }
   ],
   "source": [
    "fpe = FluxPointEstimator(\n",
    "    obs=stacked_obs,\n",
    "    groups=seg.groups,\n",
    "    model=fit.result[0].model,\n",
    ")\n",
    "fpe.compute_points()"
   ]
  },
  {
   "cell_type": "code",
   "execution_count": 18,
   "metadata": {},
   "outputs": [
    {
     "name": "stdout",
     "output_type": "stream",
     "text": [
      "     dnde_err            dnde           e_max         e_min          e_ref     \n",
      "  1 / (m2 s TeV)    1 / (m2 s TeV)       TeV           TeV            TeV      \n",
      "----------------- ----------------- ------------- -------------- --------------\n",
      "2.98925492895e-08 3.70876196751e-07           1.0 0.464158883361 0.681292069058\n",
      "5.40511435764e-09 8.15704621683e-08 2.78255940221            1.0   1.6681005372\n",
      "5.74566970675e-10 5.95234607486e-09          10.0  2.78255940221   5.2749970637\n",
      "7.41222654508e-11 3.18942416843e-10 27.8255940221           10.0   16.681005372\n"
     ]
    },
    {
     "data": {
      "text/plain": [
       "<matplotlib.axes._subplots.AxesSubplot at 0x1111d1c88>"
      ]
     },
     "execution_count": 18,
     "metadata": {},
     "output_type": "execute_result"
    },
    {
     "data": {
      "image/png": "[encoded data removed]",
      "text/plain": [
       "<matplotlib.figure.Figure at 0x10cd0c908>"
      ]
     },
     "metadata": {},
     "output_type": "display_data"
    }
   ],
   "source": [
    "print(fpe.flux_points.table)\n",
    "# Have to set flux unit here because flux points default unit is ph / ... which raises a unit conversion error\n",
    "fpe.flux_points.plot(flux_unit = 'cm-2 s-1 TeV-1')"
   ]
  },
  {
   "cell_type": "markdown",
   "metadata": {},
   "source": [
    "The final plot with the best fit model and the flux points can be quickly made like this"
   ]
  },
  {
   "cell_type": "code",
   "execution_count": 19,
   "metadata": {},
   "outputs": [
    {
     "name": "stdout",
     "output_type": "stream",
     "text": [
      "(<Quantity [-0.200825  , 0.23544882, 0.10617622,-0.27273493]>, <Quantity [ 0.06441335, 0.08186471, 0.10677677, 0.16901651]>)\n"
     ]
    },
    {
     "data": {
      "text/plain": [
       "(0.4, 50)"
      ]
     },
     "execution_count": 19,
     "metadata": {},
     "output_type": "execute_result"
    },
    {
     "data": {
      "image/png": "[encoded data removed]",
      "text/plain": [
       "<matplotlib.figure.Figure at 0x11137ad30>"
      ]
     },
     "metadata": {},
     "output_type": "display_data"
    }
   ],
   "source": [
    "spectrum_result = SpectrumResult(\n",
    "    points=fpe.flux_points,\n",
    "    model=fit.result[0].model,\n",
    ")\n",
    "\n",
    "print (spectrum_result.flux_point_residuals)\n",
    "ax0, ax1 = spectrum_result.plot(\n",
    "    energy_range=fit.result[0].fit_range,\n",
    "    energy_power=2, flux_unit='erg-1 cm-2 s-1',\n",
    "    fig_kwargs=dict(figsize = (8,8)),\n",
    "    point_kwargs=dict(color='navy')\n",
    ")\n",
    "\n",
    "ax0.set_xlim(0.4, 50)"
   ]
  },
  {
   "cell_type": "markdown",
   "metadata": {},
   "source": [
    "## Stack observations\n",
    "\n",
    "And alternative approach to fitting the spectrum is stacking all observations first and the fitting a model to the stacked observation. This works as follows. A comparison to the joint likelihood fit is also printed."
   ]
  },
  {
   "cell_type": "code",
   "execution_count": 20,
   "metadata": {},
   "outputs": [
    {
     "name": "stderr",
     "output_type": "stream",
     "text": [
      "/Users/deil/Library/Python/3.5/lib/python/site-packages/gammapy-0.6.dev4380-py3.5-macosx-10.12-x86_64.egg/gammapy/stats/fit_statistics.py:161: RuntimeWarning: divide by zero encountered in log\n",
      "  term2_ = - n_on * np.log(mu_sig + alpha * mu_bkg)\n",
      "/Users/deil/Library/Python/3.5/lib/python/site-packages/gammapy-0.6.dev4380-py3.5-macosx-10.12-x86_64.egg/gammapy/stats/fit_statistics.py:166: RuntimeWarning: divide by zero encountered in log\n",
      "  term3_ = - n_off * np.log(mu_bkg)\n",
      "/Users/deil/Library/Python/3.5/lib/python/site-packages/gammapy-0.6.dev4380-py3.5-macosx-10.12-x86_64.egg/gammapy/stats/fit_statistics.py:198: RuntimeWarning: divide by zero encountered in log\n",
      "  term1 = - n_on * (1 - np.log(n_on))\n",
      "/Users/deil/Library/Python/3.5/lib/python/site-packages/gammapy-0.6.dev4380-py3.5-macosx-10.12-x86_64.egg/gammapy/stats/fit_statistics.py:199: RuntimeWarning: divide by zero encountered in log\n",
      "  term2 = - n_off * (1 - np.log(n_off))\n"
     ]
    },
    {
     "name": "stdout",
     "output_type": "stream",
     "text": [
      "\n",
      "Fit result info \n",
      "--------------- \n",
      "Model: PowerLaw\n",
      "ParameterList\n",
      "Parameter(name='index', value=2.1772537692940257, unit=Unit(dimensionless), min=0, max=None, frozen=False)\n",
      "Parameter(name='amplitude', value=2.0123062951028531e-11, unit=Unit(\"1 / (cm2 s TeV)\"), min=0, max=None, frozen=False)\n",
      "Parameter(name='reference', value=1.0, unit=Unit(\"TeV\"), min=None, max=None, frozen=True)\n",
      "\n",
      "Covariance: [[  1.96446562e-03   2.20593737e-14   0.00000000e+00]\n",
      " [  2.20593737e-14   1.04085916e-24   0.00000000e+00]\n",
      " [  0.00000000e+00   0.00000000e+00   0.00000000e+00]] \n",
      "\n",
      "Statistic: 81.604 (wstat)\n",
      "Fit Range: [   0.46415888  100.        ] TeV\n",
      "\n",
      " method index index_err    amplitude     amplitude_err \n",
      "                        1 / (cm2 s TeV) 1 / (cm2 s TeV)\n",
      "------- ----- --------- --------------- ---------------\n",
      "stacked  2.18    0.0443        2.01e-11        1.02e-12\n",
      "  joint  2.18    0.0444        2.01e-11        1.02e-12\n"
     ]
    }
   ],
   "source": [
    "stacked_obs = extraction.observations.stack()\n",
    "stacked_fit = SpectrumFit(stacked_obs, model)\n",
    "\n",
    "stacked_fit.fit()\n",
    "stacked_fit.est_errors()\n",
    "print(stacked_fit.result[0])\n",
    "\n",
    "stacked_table = stacked_fit.result[0].to_table(format='.3g')\n",
    "stacked_table['method'] = 'stacked'\n",
    "joint_table = fit.result[0].to_table(format='.3g')\n",
    "joint_table['method'] = 'joint'\n",
    "from astropy.table import vstack as vstack_table\n",
    "total_table = vstack_table([stacked_table, joint_table])\n",
    "print(total_table['method', 'index', 'index_err', 'amplitude', 'amplitude_err'])"
   ]
  },
  {
   "cell_type": "markdown",
   "metadata": {},
   "source": [
    "## Exercises\n",
    "\n",
    "Some things we might do:\n",
    "\n",
    "- Fit a different spectral model (ECPL or CPL or ...)\n",
    "- Use different method or parameters to compute the flux points\n",
    "- Do a chi^2 fit to the flux points and compare\n",
    "\n",
    "TODO: give pointers how to do this (and maybe write a notebook with solutions)"
   ]
  },
  {
   "cell_type": "code",
   "execution_count": 21,
   "metadata": {
    "collapsed": true
   },
   "outputs": [],
   "source": [
    "# Start exercises here"
   ]
  },
  {
   "cell_type": "markdown",
   "metadata": {
    "collapsed": true
   },
   "source": [
    "## What next?\n",
    "\n",
    "In this tutorial we learned how to extract counts spectra from an event list and generate the corresponding IRFs. Then we fitted a model to the observations and also computed flux points.\n",
    "\n",
    "Here's some suggestions where to go next:\n",
    "\n",
    "* if you interested in available fit statistics checkout [gammapy.stats](docs.gammapy.org/en/latest/stats/index.html?highlight=gammapy.stats)\n",
    "* if you want to simulate spectral look at [this tutorial](http://docs.gammapy.org/en/latest/spectrum/simulation.html)\n",
    "* if you want to compare your spectra to e.g. Fermi spectra published in catalogs have a look at [this](http://docs.gammapy.org/en/latest/spectrum/plotting_fermi_spectra.html)"
   ]
  },
  {
   "cell_type": "code",
   "execution_count": null,
   "metadata": {
    "collapsed": true
   },
   "outputs": [],
   "source": []
  }
 ],
 "metadata": {
  "kernelspec": {
   "display_name": "Python 3",
   "language": "python",
   "name": "python3"
  },
  "language_info": {
   "codemirror_mode": {
    "name": "ipython",
    "version": 3
   },
   "file_extension": ".py",
   "mimetype": "text/x-python",
   "name": "python",
   "nbconvert_exporter": "python",
   "pygments_lexer": "ipython3",
   "version": "3.5.3"
  }
 },
 "nbformat": 4,
 "nbformat_minor": 1
}
