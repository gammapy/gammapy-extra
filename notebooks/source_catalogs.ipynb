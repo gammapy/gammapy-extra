{
 "cells": [
  {
   "cell_type": "markdown",
   "metadata": {},
   "source": [
    "# Gamma-ray source catalogs with Gammapy\n",
    "\n",
    "## Introduction"
   ]
  },
  {
   "cell_type": "markdown",
   "metadata": {},
   "source": [
    "This notebook shows how to work with gamma-ray source catalogs using [gammapy.catalog](http://docs.gammapy.org/en/latest/catalog/index.html)\n",
    "\n",
    "* Load GeV and TeV gamma-ray source catalogs\n",
    "* Select a given source and plot it's spectral model and spectral points\n",
    "* Select a subset of sources of interest\n",
    "* Plot parameter distributions\n",
    "* Plot a sky image with source position markers\n",
    "\n",
    "You will mainly learn how to work with Astropy tables and how to make some plots to investigate the data.\n",
    "\n",
    "References:\n",
    "\n",
    "* [astropy.table](http://astropy.readthedocs.io/en/latest/table/index.html)\n",
    "* [gammapy.catalog](http://docs.gammapy.org/en/latest/catalog/index.html)\n",
    "* [gammapy.catalog.SourceCatalog3FGL](http://docs.gammapy.org/en/latest/api/gammapy.catalog.SourceCatalog3FGL.html) and [gammapy.catalog.SourceCatalogObject3FGL](http://docs.gammapy.org/en/latest/api/gammapy.catalog.SourceCatalogObject3FGL.html)\n",
    "* [gammapy.catalog.SourceCatalogGammaCat](http://docs.gammapy.org/en/latest/api/gammapy.catalog.SourceCatalogGammaCat.html) and [gammapy.catalog.SourceCatalogObjectGammaCat](http://docs.gammapy.org/en/latest/api/gammapy.catalog.SourceCatalogObjectGammaCat.html)\n",
    "\n",
    "\n",
    "## Setup"
   ]
  },
  {
   "cell_type": "code",
   "execution_count": 15,
   "metadata": {},
   "outputs": [],
   "source": [
    "%matplotlib inline\n",
    "import matplotlib.pyplot as plt"
   ]
  },
  {
   "cell_type": "code",
   "execution_count": 13,
   "metadata": {
    "collapsed": true
   },
   "outputs": [],
   "source": [
    "from pprint import pprint\n",
    "import numpy as np\n",
    "import astropy.units as u"
   ]
  },
  {
   "cell_type": "code",
   "execution_count": 2,
   "metadata": {},
   "outputs": [
    {
     "name": "stdout",
     "output_type": "stream",
     "text": [
      "0.6.dev4117\n"
     ]
    }
   ],
   "source": [
    "import gammapy\n",
    "print(gammapy.__version__)"
   ]
  },
  {
   "cell_type": "markdown",
   "metadata": {},
   "source": [
    "## Access catalogs and sources\n",
    "\n",
    "### gamma-cat"
   ]
  },
  {
   "cell_type": "code",
   "execution_count": 1,
   "metadata": {},
   "outputs": [],
   "source": [
    "from gammapy.catalog import SourceCatalogGammaCat\n",
    "gammacat = SourceCatalogGammaCat()\n",
    "gammacat_source = gammacat['Vela Junior']"
   ]
  },
  {
   "cell_type": "code",
   "execution_count": 2,
   "metadata": {},
   "outputs": [
    {
     "data": {
      "text/plain": [
       "gammapy.catalog.gammacat.SourceCatalogGammaCat"
      ]
     },
     "execution_count": 2,
     "metadata": {},
     "output_type": "execute_result"
    }
   ],
   "source": [
    "type(gammacat)"
   ]
  },
  {
   "cell_type": "code",
   "execution_count": 3,
   "metadata": {},
   "outputs": [
    {
     "data": {
      "text/plain": [
       "astropy.table.table.QTable"
      ]
     },
     "execution_count": 3,
     "metadata": {},
     "output_type": "execute_result"
    }
   ],
   "source": [
    "type(gammacat.table)"
   ]
  },
  {
   "cell_type": "code",
   "execution_count": 4,
   "metadata": {},
   "outputs": [
    {
     "data": {
      "text/plain": [
       "gammapy.catalog.gammacat.SourceCatalogObjectGammaCat"
      ]
     },
     "execution_count": 4,
     "metadata": {},
     "output_type": "execute_result"
    }
   ],
   "source": [
    "type(gammacat_source)"
   ]
  },
  {
   "cell_type": "code",
   "execution_count": 5,
   "metadata": {},
   "outputs": [
    {
     "data": {
      "text/plain": [
       "collections.OrderedDict"
      ]
     },
     "execution_count": 5,
     "metadata": {},
     "output_type": "execute_result"
    }
   ],
   "source": [
    "type(gammacat_source.data)"
   ]
  },
  {
   "cell_type": "code",
   "execution_count": 23,
   "metadata": {},
   "outputs": [],
   "source": [
    "# You can print the catalog table and source data if you like\n",
    "# by uncommenting one of the following commands and executing the cell\n",
    "# gammacat.table.show_in_browser(jsviewer=True)\n",
    "# gammacat.table.info()\n",
    "# gammacat.table.info('stats')\n",
    "# pprint(gammacat_source.data)\n",
    "# gammacat_source.pprint()"
   ]
  },
  {
   "cell_type": "markdown",
   "metadata": {},
   "source": [
    "### Plot SED\n",
    "\n",
    "Here's an example how to plot a TeV SED.\n",
    "\n",
    "TODO: move content from this section and http://docs.gammapy.org/en/latest/spectrum/plotting_fermi_spectra.html to a separate notebook about SED access and plotting"
   ]
  },
  {
   "cell_type": "code",
   "execution_count": 17,
   "metadata": {},
   "outputs": [
    {
     "data": {
      "text/plain": [
       "<matplotlib.axes._subplots.AxesSubplot at 0x1101899e8>"
      ]
     },
     "execution_count": 17,
     "metadata": {},
     "output_type": "execute_result"
    },
    {
     "data": {
      "image/png": "[encoded data removed]",
      "text/plain": [
       "<matplotlib.figure.Figure at 0x110192128>"
      ]
     },
     "metadata": {},
     "output_type": "display_data"
    }
   ],
   "source": [
    "# gammacat_source.spectral_model.b\n",
    "energy_range = [0.3, 40] * u.TeV\n",
    "gammacat_source.spectral_model.plot(energy_range)\n",
    "gammacat_source.flux_points.plot()"
   ]
  },
  {
   "cell_type": "code",
   "execution_count": 44,
   "metadata": {},
   "outputs": [],
   "source": [
    "from gammapy.catalog import SourceCatalog3FGL\n",
    "fermi_3fgl = SourceCatalog3FGL()\n",
    "fermi_3fgl_source = fermi_3fgl['Crab']"
   ]
  },
  {
   "cell_type": "code",
   "execution_count": 45,
   "metadata": {},
   "outputs": [
    {
     "data": {
      "text/plain": [
       "gammapy.catalog.fermi.SourceCatalog3FGL"
      ]
     },
     "execution_count": 45,
     "metadata": {},
     "output_type": "execute_result"
    }
   ],
   "source": [
    "type(fermi_3fgl)"
   ]
  },
  {
   "cell_type": "code",
   "execution_count": 46,
   "metadata": {},
   "outputs": [
    {
     "data": {
      "text/plain": [
       "astropy.table.table.Table"
      ]
     },
     "execution_count": 46,
     "metadata": {},
     "output_type": "execute_result"
    }
   ],
   "source": [
    "type(fermi_3fgl.table)"
   ]
  },
  {
   "cell_type": "code",
   "execution_count": 47,
   "metadata": {},
   "outputs": [
    {
     "data": {
      "text/plain": [
       "gammapy.catalog.fermi.SourceCatalogObject3FGL"
      ]
     },
     "execution_count": 47,
     "metadata": {},
     "output_type": "execute_result"
    }
   ],
   "source": [
    "type(fermi_3fgl_source)"
   ]
  },
  {
   "cell_type": "code",
   "execution_count": 48,
   "metadata": {},
   "outputs": [
    {
     "data": {
      "text/plain": [
       "collections.OrderedDict"
      ]
     },
     "execution_count": 48,
     "metadata": {},
     "output_type": "execute_result"
    }
   ],
   "source": [
    "type(fermi_3fgl_source.data)"
   ]
  },
  {
   "cell_type": "markdown",
   "metadata": {},
   "source": [
    "### Work in progress ...\n",
    "\n",
    "The rest of this notebook is outdated, it needs to be re-written."
   ]
  },
  {
   "cell_type": "markdown",
   "metadata": {},
   "source": [
    "## Loading catalogs"
   ]
  },
  {
   "cell_type": "markdown",
   "metadata": {},
   "source": [
    "The [gammapy.datasets](https://gammapy.readthedocs.org/en/latest/datasets/index.html)\n",
    "module gives you quick access to the most important gamma-ray source catalogs\n",
    "as [Astropy table objects](http://astropy.readthedocs.org/en/latest/table/index.html).\n",
    "\n",
    "As you can see we store some parameters in the `meta` dict of the table that will\n",
    "make it easier to label and color the plots we'll create below."
   ]
  },
  {
   "cell_type": "code",
   "execution_count": 2,
   "metadata": {},
   "outputs": [
    {
     "name": "stderr",
     "output_type": "stream",
     "text": [
      "WARNING: AstropyDeprecationWarning: Use of an 'eval' method when defining subclasses of FittableModel is deprecated; please rename this method to 'evaluate'.  Otherwise its semantics remain the same. [astropy.modeling.core]\n",
      "WARNING:astropy:AstropyDeprecationWarning: Use of an 'eval' method when defining subclasses of FittableModel is deprecated; please rename this method to 'evaluate'.  Otherwise its semantics remain the same.\n"
     ]
    }
   ],
   "source": [
    "from gammapy import datasets\n",
    "tevcat = datasets.load_tevcat()\n",
    "tevcat.meta['name'] = 'TeVCat'\n",
    "tevcat.meta['color'] = 'red'\n",
    "#hesscat = datasets.load_hess_galactic_catalog()\n",
    "hesscat = tevcat.copy()\n",
    "hesscat.meta['name'] = 'HESS Galactic Catalog'\n",
    "hesscat.meta['color'] = 'green'\n",
    "fermicat = datasets.fetch_fermi_catalog('2FGL', 'LAT_Point_Source_Catalog')\n",
    "fermicat.meta['name'] = '2FGL'\n",
    "fermicat.meta['color'] = 'blue'"
   ]
  },
  {
   "cell_type": "code",
   "execution_count": 3,
   "metadata": {},
   "outputs": [
    {
     "data": {
      "text/html": [
       "<table id=\"table4428053416\"><thead><tr><th>canonical_name</th><th>catalog_id</th><th>catalog_id_name</th><th>catalog_name</th><th>coord_dec</th><th>coord_gal_lat</th><th>coord_gal_lon</th><th>coord_ra</th><th>coord_type</th><th>discoverer</th><th>discovery_date</th><th>distance_value</th><th>distance_type</th><th>distance_kpc</th><th>eth</th><th>flux</th><th>id</th><th>observatory_name</th><th>other_names</th><th>owner</th><th>size_x</th><th>size_y</th><th>source_type</th><th>source_type_name</th><th>spec_idx</th><th>src_rank</th><th>variability</th></tr></thead><thead><tr><th></th><th></th><th></th><th></th><th>deg</th><th>deg</th><th>deg</th><th>deg</th><th></th><th></th><th></th><th></th><th></th><th>kpc</th><th>TeV</th><th></th><th></th><th></th><th></th><th></th><th>deg</th><th>deg</th><th></th><th></th><th></th><th></th><th></th></tr></thead><tr><td>PKS 2005-489</td><td>1</td><td>Default Catalog</td><td>TeV J2009-488</td><td>-48.8311111111</td><td>-32.605110192</td><td>350.374122052</td><td>302.3625</td><td>-99</td><td>6</td><td>2005-06-01</td><td>0.071</td><td>z</td><td>323761.88689</td><td>400.0</td><td>0.03</td><td>100</td><td>H.E.S.S.</td><td>HESS J2009-488</td><td>-99</td><td>nan</td><td>nan</td><td>1</td><td>HBL</td><td>3.2</td><td>1</td><td>-99</td></tr><tr><td>H 2356-309</td><td>1</td><td>Default Catalog</td><td>TeV J2359-306</td><td>-30.6229722222</td><td>-78.0419383343</td><td>12.8562912922</td><td>359.78925</td><td>-99</td><td>6</td><td>2006-04-01</td><td>0.165</td><td>z</td><td>800886.991458</td><td>100.0</td><td>0.02</td><td>101</td><td>H.E.S.S.</td><td>1H 2354-315, HESS J2359-306</td><td>-99</td><td>nan</td><td>nan</td><td>1</td><td>HBL</td><td>3.09</td><td>1</td><td>-99</td></tr><tr><td>PG 1553+113</td><td>1</td><td>Default Catalog</td><td>TeV J1555+111</td><td>11.1947222222</td><td>43.9602370458</td><td>21.9189101955</td><td>238.93625</td><td>-99</td><td>6</td><td>2006-03-01</td><td>0.5</td><td>z</td><td>2874104.13541</td><td>300.0</td><td>0.034</td><td>102</td><td>H.E.S.S.</td><td>1ES 1553+113,  HESS J1555+111</td><td>-99</td><td>nan</td><td>nan</td><td>1</td><td>HBL</td><td>4.5</td><td>1</td><td>-99</td></tr></table>"
      ],
      "text/plain": [
       "<Table rows=3 names=('canonical_name','catalog_id','catalog_id_name','catalog_name','coord_dec','coord_gal_lat','coord_gal_lon','coord_ra','coord_type','discoverer','discovery_date','distance_value','distance_type','distance_kpc','eth','flux','id','observatory_name','other_names','owner','size_x','size_y','source_type','source_type_name','spec_idx','src_rank','variability') units=(None,None,None,None,'deg','deg','deg','deg',None,None,None,None,None,'kpc','TeV',None,None,None,None,None,'deg','deg',None,None,None,None,None)>\n",
       "array([ ('PKS 2005-489', '1', 'Default Catalog', 'TeV J2009-488', -48.83111111111111, -32.6051101920264, 350.374122051594, 302.36249999999995, -99, 6, '2005-06-01', 0.071, 'z', 323761.88688950095, 400.0, 0.03, 100, 'H.E.S.S.', 'HESS J2009-488', -99, nan, nan, 1, 'HBL', 3.2, 1, -99),\n",
       "       ('H 2356-309', '1', 'Default Catalog', 'TeV J2359-306', -30.622972222222224, -78.0419383343485, 12.8562912921689, 359.78925, -99, 6, '2006-04-01', 0.165, 'z', 800886.9914584757, 100.0, 0.02, 101, 'H.E.S.S.', '1H 2354-315, HESS J2359-306', -99, nan, nan, 1, 'HBL', 3.09, 1, -99),\n",
       "       ('PG 1553+113', '1', 'Default Catalog', 'TeV J1555+111', 11.194722222222222, 43.9602370458084, 21.9189101954641, 238.93624999999997, -99, 6, '2006-03-01', 0.5, 'z', 2874104.135406067, 300.0, 0.034, 102, 'H.E.S.S.', '1ES 1553+113,  HESS J1555+111', -99, nan, nan, 1, 'HBL', 4.5, 1, -99)], \n",
       "      dtype=[('canonical_name', '<U21'), ('catalog_id', '<U4'), ('catalog_id_name', '<U68'), ('catalog_name', '<U14'), ('coord_dec', '>f8'), ('coord_gal_lat', '>f8'), ('coord_gal_lon', '>f8'), ('coord_ra', '>f8'), ('coord_type', '>i8'), ('discoverer', '>i8'), ('discovery_date', '<U40'), ('distance_value', '>f8'), ('distance_type', '<U12'), ('distance_kpc', '>f8'), ('eth', '>f8'), ('flux', '>f8'), ('id', '>i8'), ('observatory_name', '<U15'), ('other_names', '<U512'), ('owner', '>i8'), ('size_x', '>f8'), ('size_y', '>f8'), ('source_type', '>i8'), ('source_type_name', '<U20'), ('spec_idx', '>f8'), ('src_rank', '>i8'), ('variability', '>i8')])"
      ]
     },
     "execution_count": 3,
     "metadata": {},
     "output_type": "execute_result"
    }
   ],
   "source": [
    "# Show the first three rows.\n",
    "# In the IPython notebook this automatically gives an HTML table\n",
    "tevcat[:3]"
   ]
  },
  {
   "cell_type": "code",
   "execution_count": 4,
   "metadata": {},
   "outputs": [
    {
     "data": {
      "text/html": [
       "<table id=\"table4402167480\"><thead><tr><th>canonical_name</th><th>catalog_id</th><th>catalog_id_name</th><th>catalog_name</th><th>coord_dec</th><th>coord_gal_lat</th><th>coord_gal_lon</th><th>coord_ra</th><th>coord_type</th><th>discoverer</th><th>discovery_date</th><th>distance_value</th><th>distance_type</th><th>distance_kpc</th><th>eth</th><th>flux</th><th>id</th><th>observatory_name</th><th>other_names</th><th>owner</th><th>size_x</th><th>size_y</th><th>source_type</th><th>source_type_name</th><th>spec_idx</th><th>src_rank</th><th>variability</th></tr></thead><thead><tr><th></th><th></th><th></th><th></th><th>deg</th><th>deg</th><th>deg</th><th>deg</th><th></th><th></th><th></th><th></th><th></th><th>kpc</th><th>TeV</th><th></th><th></th><th></th><th></th><th></th><th>deg</th><th>deg</th><th></th><th></th><th></th><th></th><th></th></tr></thead><tr><td>PKS 2005-489</td><td>1</td><td>Default Catalog</td><td>TeV J2009-488</td><td>-48.8311111111</td><td>-32.605110192</td><td>350.374122052</td><td>302.3625</td><td>-99</td><td>6</td><td>2005-06-01</td><td>0.071</td><td>z</td><td>323761.88689</td><td>400.0</td><td>0.03</td><td>100</td><td>H.E.S.S.</td><td>HESS J2009-488</td><td>-99</td><td>nan</td><td>nan</td><td>1</td><td>HBL</td><td>3.2</td><td>1</td><td>-99</td></tr><tr><td>H 2356-309</td><td>1</td><td>Default Catalog</td><td>TeV J2359-306</td><td>-30.6229722222</td><td>-78.0419383343</td><td>12.8562912922</td><td>359.78925</td><td>-99</td><td>6</td><td>2006-04-01</td><td>0.165</td><td>z</td><td>800886.991458</td><td>100.0</td><td>0.02</td><td>101</td><td>H.E.S.S.</td><td>1H 2354-315, HESS J2359-306</td><td>-99</td><td>nan</td><td>nan</td><td>1</td><td>HBL</td><td>3.09</td><td>1</td><td>-99</td></tr><tr><td>PG 1553+113</td><td>1</td><td>Default Catalog</td><td>TeV J1555+111</td><td>11.1947222222</td><td>43.9602370458</td><td>21.9189101955</td><td>238.93625</td><td>-99</td><td>6</td><td>2006-03-01</td><td>0.5</td><td>z</td><td>2874104.13541</td><td>300.0</td><td>0.034</td><td>102</td><td>H.E.S.S.</td><td>1ES 1553+113,  HESS J1555+111</td><td>-99</td><td>nan</td><td>nan</td><td>1</td><td>HBL</td><td>4.5</td><td>1</td><td>-99</td></tr></table>"
      ],
      "text/plain": [
       "<Table rows=3 names=('canonical_name','catalog_id','catalog_id_name','catalog_name','coord_dec','coord_gal_lat','coord_gal_lon','coord_ra','coord_type','discoverer','discovery_date','distance_value','distance_type','distance_kpc','eth','flux','id','observatory_name','other_names','owner','size_x','size_y','source_type','source_type_name','spec_idx','src_rank','variability') units=(None,None,None,None,'deg','deg','deg','deg',None,None,None,None,None,'kpc','TeV',None,None,None,None,None,'deg','deg',None,None,None,None,None)>\n",
       "array([ ('PKS 2005-489', '1', 'Default Catalog', 'TeV J2009-488', -48.83111111111111, -32.6051101920264, 350.374122051594, 302.36249999999995, -99, 6, '2005-06-01', 0.071, 'z', 323761.88688950095, 400.0, 0.03, 100, 'H.E.S.S.', 'HESS J2009-488', -99, nan, nan, 1, 'HBL', 3.2, 1, -99),\n",
       "       ('H 2356-309', '1', 'Default Catalog', 'TeV J2359-306', -30.622972222222224, -78.0419383343485, 12.8562912921689, 359.78925, -99, 6, '2006-04-01', 0.165, 'z', 800886.9914584757, 100.0, 0.02, 101, 'H.E.S.S.', '1H 2354-315, HESS J2359-306', -99, nan, nan, 1, 'HBL', 3.09, 1, -99),\n",
       "       ('PG 1553+113', '1', 'Default Catalog', 'TeV J1555+111', 11.194722222222222, 43.9602370458084, 21.9189101954641, 238.93624999999997, -99, 6, '2006-03-01', 0.5, 'z', 2874104.135406067, 300.0, 0.034, 102, 'H.E.S.S.', '1ES 1553+113,  HESS J1555+111', -99, nan, nan, 1, 'HBL', 4.5, 1, -99)], \n",
       "      dtype=[('canonical_name', '<U21'), ('catalog_id', '<U4'), ('catalog_id_name', '<U68'), ('catalog_name', '<U14'), ('coord_dec', '>f8'), ('coord_gal_lat', '>f8'), ('coord_gal_lon', '>f8'), ('coord_ra', '>f8'), ('coord_type', '>i8'), ('discoverer', '>i8'), ('discovery_date', '<U40'), ('distance_value', '>f8'), ('distance_type', '<U12'), ('distance_kpc', '>f8'), ('eth', '>f8'), ('flux', '>f8'), ('id', '>i8'), ('observatory_name', '<U15'), ('other_names', '<U512'), ('owner', '>i8'), ('size_x', '>f8'), ('size_y', '>f8'), ('source_type', '>i8'), ('source_type_name', '<U20'), ('spec_idx', '>f8'), ('src_rank', '>i8'), ('variability', '>i8')])"
      ]
     },
     "execution_count": 4,
     "metadata": {},
     "output_type": "execute_result"
    }
   ],
   "source": [
    "hesscat[:3]"
   ]
  },
  {
   "cell_type": "code",
   "execution_count": 5,
   "metadata": {},
   "outputs": [
    {
     "data": {
      "text/html": [
       "<table id=\"table4428054088\"><thead><tr><th>Source_Name</th><th>RAJ2000</th><th>DEJ2000</th><th>GLON</th><th>GLAT</th><th>Conf_68_SemiMajor</th><th>Conf_68_SemiMinor</th><th>Conf_68_PosAng</th></tr></thead><tr><td>2FGL J0000.9-0748</td><td>0.233711</td><td>-7.8155</td><td>88.8292</td><td>-67.2805</td><td>0.120425</td><td>0.10304</td><td>47.85</td></tr><tr><td>2FGL J0001.7-4159</td><td>0.438849</td><td>-41.9965</td><td>334.076</td><td>-71.9967</td><td>0.0753641</td><td>0.0706153</td><td>62.01</td></tr><tr><td>2FGL J0002.7+6220</td><td>0.679812</td><td>62.3396</td><td>117.312</td><td>0.000752292</td><td>0.0574385</td><td>0.0550369</td><td>8.6</td></tr></table>"
      ],
      "text/plain": [
       "<Table rows=3 names=('Source_Name','RAJ2000','DEJ2000','GLON','GLAT','Conf_68_SemiMajor','Conf_68_SemiMinor','Conf_68_PosAng')>\n",
       "array([ ('2FGL J0000.9-0748 ', 0.23371103405952454, -7.815497875213623, 88.82917785644531, -67.28050231933594, 0.12042465806007385, 0.10303960740566254, 47.849998474121094),\n",
       "       ('2FGL J0001.7-4159 ', 0.4388492703437805, -41.99647903442383, 334.0755920410156, -71.99669647216797, 0.07536407560110092, 0.07061527669429779, 62.0099983215332),\n",
       "       ('2FGL J0002.7+6220 ', 0.6798120141029358, 62.33962631225586, 117.31168365478516, 0.0007522919913753867, 0.05743847414851189, 0.05503685772418976, 8.600000381469727)], \n",
       "      dtype=[('Source_Name', '<U18'), ('RAJ2000', '>f4'), ('DEJ2000', '>f4'), ('GLON', '>f4'), ('GLAT', '>f4'), ('Conf_68_SemiMajor', '>f4'), ('Conf_68_SemiMinor', '>f4'), ('Conf_68_PosAng', '>f4')])"
      ]
     },
     "execution_count": 5,
     "metadata": {},
     "output_type": "execute_result"
    }
   ],
   "source": [
    "# Show the first 8 columns and 3 rows\n",
    "fermicat[fermicat.colnames[:8]][:3]"
   ]
  },
  {
   "cell_type": "markdown",
   "metadata": {},
   "source": [
    "## Select a subset of sources of interest"
   ]
  },
  {
   "cell_type": "markdown",
   "metadata": {},
   "source": [
    "Let's say we're interested only interested in sources in the inner Galaxy,\n",
    "namely the box `|GLON| < 30 deg` and `|GLAT| < 5 deg` ... here's how you make this selection.\n",
    "\n",
    "Working with many catalogs is often a bit tedious because column names are different\n",
    "(e.g. `GLON` and `coord_gal_lon`) or because of other data cleaning that's required\n",
    "(like wrapping `GLON` to the range `(-180, 180]` here)."
   ]
  },
  {
   "cell_type": "code",
   "execution_count": 6,
   "metadata": {},
   "outputs": [],
   "source": [
    "def select_sources(catalog):\n",
    "    \"\"\"Select sources of interest to us.\"\"\"\n",
    "    print('Number of sources before selection: {}'.format(len(catalog)))\n",
    "    \n",
    "    glon = catalog['GLON']\n",
    "    glat = catalog['GLAT']\n",
    "    \n",
    "    glon_min, glon_max = -30, 30\n",
    "    glat_min, glat_max = -5, 5\n",
    "\n",
    "    mask = (glon_min < glon) & (glon < glon_max)\n",
    "    mask &= (glat_min < glat) & (glat < glat_max)\n",
    "\n",
    "    catalog = catalog[mask]\n",
    "    print('Number of sources after selection:  {}'.format(len(catalog)))\n",
    "    \n",
    "    return catalog"
   ]
  },
  {
   "cell_type": "code",
   "execution_count": 7,
   "metadata": {},
   "outputs": [
    {
     "name": "stdout",
     "output_type": "stream",
     "text": [
      "Number of sources before selection: 173\n",
      "Number of sources after selection:  45\n"
     ]
    }
   ],
   "source": [
    "tevcat['GLON'] = tevcat['coord_gal_lon']\n",
    "tevcat['GLAT'] = tevcat['coord_gal_lat']\n",
    "tevcat['GLON'] = np.where(tevcat['GLON'] > 180, tevcat['GLON'] - 360, tevcat['GLON'])\n",
    "tevcat2 = select_sources(tevcat)"
   ]
  },
  {
   "cell_type": "code",
   "execution_count": 8,
   "metadata": {},
   "outputs": [],
   "source": [
    "#hesscat['GLON'] = np.where(hesscat['GLON'] > 180, hesscat['GLON'] - 360, hesscat['GLON'])\n",
    "#hesscat2 = select_sources(hesscat)"
   ]
  },
  {
   "cell_type": "code",
   "execution_count": 9,
   "metadata": {},
   "outputs": [
    {
     "name": "stdout",
     "output_type": "stream",
     "text": [
      "Number of sources before selection: 1873\n",
      "Number of sources after selection:  126\n"
     ]
    }
   ],
   "source": [
    "fermicat['GLON'] = np.where(fermicat['GLON'] > 180, fermicat['GLON'] - 360, fermicat['GLON'])\n",
    "fermicat2 = select_sources(fermicat)"
   ]
  },
  {
   "cell_type": "markdown",
   "metadata": {},
   "source": [
    "## Plot parameter distributions"
   ]
  },
  {
   "cell_type": "markdown",
   "metadata": {},
   "source": [
    "Let's plot the `GLON`, `GLAT` parameter distributions.\n",
    "\n",
    "For the source flux distributions we make separate plots for `GeV` and `TeV` sources, because their fluxes aren't easily comparable."
   ]
  },
  {
   "cell_type": "code",
   "execution_count": 10,
   "metadata": {},
   "outputs": [],
   "source": [
    "catalogs = [fermicat2, tevcat2]"
   ]
  },
  {
   "cell_type": "code",
   "execution_count": 11,
   "metadata": {},
   "outputs": [
    {
     "data": {
      "image/png": "[encoded data removed]",
      "text/plain": [
       "<matplotlib.figure.Figure at 0x108b5ccf8>"
      ]
     },
     "metadata": {},
     "output_type": "display_data"
    }
   ],
   "source": [
    "for catalog in catalogs:\n",
    "    plt.hist(catalog['GLON'], bins=10, range=(-30, 30),\n",
    "             label=catalog.meta['name'],\n",
    "             color=catalog.meta['color'],\n",
    "             alpha=0.3, histtype=\"stepfilled\",)\n",
    "plt.xlabel('Galactic longitude (deg)')\n",
    "plt.ylabel('Number of sources')\n",
    "plt.legend();"
   ]
  },
  {
   "cell_type": "code",
   "execution_count": 12,
   "metadata": {},
   "outputs": [
    {
     "data": {
      "image/png": "[encoded data removed]",
      "text/plain": [
       "<matplotlib.figure.Figure at 0x108e772e8>"
      ]
     },
     "metadata": {},
     "output_type": "display_data"
    }
   ],
   "source": [
    "for catalog in catalogs:\n",
    "    plt.hist(catalog['GLAT'], bins=10, range=(-5, 5),\n",
    "             label=catalog.meta['name'],\n",
    "             color=catalog.meta['color'],\n",
    "             alpha=0.3, histtype=\"stepfilled\",)\n",
    "plt.xlabel('Galactic latitude (deg)')\n",
    "plt.ylabel('Number of sources')\n",
    "plt.legend();"
   ]
  },
  {
   "cell_type": "code",
   "execution_count": 13,
   "metadata": {},
   "outputs": [
    {
     "name": "stdout",
     "output_type": "stream",
     "text": [
      "45\n",
      "33\n"
     ]
    },
    {
     "name": "stderr",
     "output_type": "stream",
     "text": [
      "/opt/local/Library/Frameworks/Python.framework/Versions/3.4/lib/python3.4/site-packages/matplotlib/axes/_axes.py:475: UserWarning: No labelled objects found. Use label='...' kwarg on individual plots.\n",
      "  warnings.warn(\"No labelled objects found. \"\n"
     ]
    },
    {
     "data": {
      "image/png": "[encoded data removed]",
      "text/plain": [
       "<matplotlib.figure.Figure at 0x1092569e8>"
      ]
     },
     "metadata": {},
     "output_type": "display_data"
    }
   ],
   "source": [
    "flux = tevcat2['flux']\n",
    "print(len(flux))\n",
    "# We need to remove sources with missing flux info (a `NaN` value)\n",
    "# or matplotlib will not plot it\n",
    "flux = flux[~np.isnan(flux)]\n",
    "print(len(flux))\n",
    "plt.hist(flux, bins=np.logspace(-3, 1, 20),\n",
    "         color=tevcat2.meta['color'],\n",
    "         alpha=0.3, histtype=\"stepfilled\",)\n",
    "plt.xlabel('TeV Flux (% Crab)')\n",
    "plt.ylabel('Number of sources')\n",
    "plt.semilogx()\n",
    "plt.legend();"
   ]
  },
  {
   "cell_type": "markdown",
   "metadata": {},
   "source": [
    "## Plot a sky image with source position markers"
   ]
  },
  {
   "cell_type": "markdown",
   "metadata": {},
   "source": [
    "We use [APLPy](http://aplpy.github.io/) to plot an empty sky image showing the locations of the sources as markers.\n",
    "\n",
    "This is a bit complicated because we don't have an image or WCS to instantiate the [aplpy.FITSFigure](http://aplpy.readthedocs.org/en/stable/api/aplpy.FITSFigure.html).\n",
    "Here we'll use the [gammapy.image.make_empty_image](https://gammapy.readthedocs.org/en/latest/api/gammapy.image.make_empty_image.html) utility function to make an empty image to plot on."
   ]
  },
  {
   "cell_type": "code",
   "execution_count": 14,
   "metadata": {},
   "outputs": [],
   "source": [
    "from gammapy.image import make_empty_image\n",
    "from aplpy import FITSFigure"
   ]
  },
  {
   "cell_type": "code",
   "execution_count": 15,
   "metadata": {},
   "outputs": [
    {
     "data": {
      "image/png": "[encoded data removed]",
      "text/plain": [
       "<matplotlib.figure.Figure at 0x1094c1e10>"
      ]
     },
     "metadata": {},
     "output_type": "display_data"
    }
   ],
   "source": [
    "image = make_empty_image(nxpix=62, nypix=12, binsz=1)\n",
    "figure = FITSFigure(image)\n",
    "# This call to `show_grayscale` is a workaround to get the Figure stretch correct.\n",
    "figure.show_grayscale(vmin=-1, vmax=0)\n",
    "for catalog in catalogs:\n",
    "    figure.show_markers(catalog['GLON'], catalog['GLAT'],\n",
    "                        facecolor=catalog.meta['color'],\n",
    "                        alpha=0.5,\n",
    "                        label=catalog.meta['name'],\n",
    "                        )\n",
    "figure.ticks.set_xspacing(5)\n",
    "figure.ticks.set_yspacing(2)\n",
    "figure.tick_labels.set_xformat('dd')\n",
    "figure.tick_labels.set_yformat('dd')\n",
    "figure.axis_labels.set_xtext('GLON (deg)')\n",
    "figure.axis_labels.set_ytext('GLAT (deg)')\n",
    "plt.legend();"
   ]
  },
  {
   "cell_type": "markdown",
   "metadata": {},
   "source": [
    "## Exercises\n",
    "\n",
    "* Choose another source, e.g. \"Crab\" or \"PKS 2155-304\". Access it for the three catalogs ``3fgl``, ``3fhl`` and ``gamma-cat``, print the data on it, and make a plot showing the spectral model and spectral points from those catalogs (not necessarily in one plot, but you can try if you like).\n",
    "* Make a list of sources in the 3FGL catalog within one degree of the Galactic center, and compute their distance to the Galactic center. Make a plot with source markers and names and separation as labels. Tip: use `gc = SkyCoord(0, 0, frame='galactic', unit='deg')` to get a ``SkyCoord`` object for the Galactic center location."
   ]
  },
  {
   "cell_type": "code",
   "execution_count": null,
   "metadata": {
    "collapsed": true
   },
   "outputs": [],
   "source": []
  }
 ],
 "metadata": {
  "kernelspec": {
   "display_name": "Python 3",
   "language": "python",
   "name": "python3"
  },
  "language_info": {
   "codemirror_mode": {
    "name": "ipython",
    "version": 3
   },
   "file_extension": ".py",
   "mimetype": "text/x-python",
   "name": "python",
   "nbconvert_exporter": "python",
   "pygments_lexer": "ipython3",
   "version": "3.5.3"
  }
 },
 "nbformat": 4,
 "nbformat_minor": 1
}
