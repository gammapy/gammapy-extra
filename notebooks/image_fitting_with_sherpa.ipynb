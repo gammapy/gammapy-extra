{
 "cells": [
  {
   "cell_type": "markdown",
   "metadata": {},
   "source": [
    "# CTA 2D source fitting with Sherpa\n"
   ]
  },
  {
   "cell_type": "markdown",
   "metadata": {},
   "source": [
    "## Prepare sky images\n",
    "We first create counts, exposure, background and PSF maps, following the steps under \"Make sky images\" in the cta_data_analysis Notebook:"
   ]
  },
  {
   "cell_type": "code",
   "execution_count": null,
   "metadata": {},
   "outputs": [],
   "source": [
    "from astropy.coordinates import SkyCoord\n",
    "import astropy.units as u\n",
    "from gammapy.image import SkyImage, IACTBasicImageEstimator\n",
    "from gammapy.background import RingBackgroundEstimator\n",
    "from gammapy.data import DataStore\n",
    "\n",
    "# Create reference image: 8x8 deg FOV centered on (l,b) = (284,0)\n",
    "target_position = SkyCoord(284, 0, unit='deg', frame='galactic')\n",
    "\n",
    "xref = target_position.galactic.l.value\n",
    "yref = target_position.galactic.b.value\n",
    "\n",
    "ref_image = SkyImage.empty(\n",
    "    nxpix=400, nypix=400, binsz=0.02,\n",
    "    xref=xref, yref=yref,\n",
    "    proj='TAN', coordsys='GAL')"
   ]
  },
  {
   "cell_type": "markdown",
   "metadata": {},
   "source": [
    "We initially define no exclusion regions for the background estimation, as we have not yet determined the positions of sources in the field of view:"
   ]
  },
  {
   "cell_type": "code",
   "execution_count": null,
   "metadata": {},
   "outputs": [],
   "source": [
    "excl_mask = ref_image\n",
    "excl_mask.data = ref_image.data + 1\n",
    "\n",
    "bkg_estimator = RingBackgroundEstimator(\n",
    "    r_in=0.5 * u.deg,\n",
    "    width=0.2 * u.deg)"
   ]
  },
  {
   "cell_type": "markdown",
   "metadata": {},
   "source": [
    "Set the map energy threshold at 300 GeV, which seems a good compromise for source detection sensitivity: with a low threshold the background is more important, but too high a threshold yields limited source statistics."
   ]
  },
  {
   "cell_type": "code",
   "execution_count": null,
   "metadata": {},
   "outputs": [],
   "source": [
    "image_estimator = IACTBasicImageEstimator(\n",
    "    reference=ref_image,\n",
    "    emin=0.3 * u.TeV,\n",
    "    emax=100 * u.TeV,\n",
    "    offset_max=4 * u.deg,\n",
    "    background_estimator=bkg_estimator,\n",
    "    exclusion_mask=excl_mask)"
   ]
  },
  {
   "cell_type": "code",
   "execution_count": null,
   "metadata": {
    "collapsed": true
   },
   "outputs": [],
   "source": [
    "INDX_DIR = '/Users/gallant/Data/CTA/1dc/index/gps'\n",
    "data_store = DataStore.from_dir(INDX_DIR)\n",
    "obsids = [111690, 111700, 111880]\n",
    "obslist = data_store.obs_list(obsids)\n",
    "images = image_estimator.run(obslist)"
   ]
  },
  {
   "cell_type": "markdown",
   "metadata": {},
   "source": [
    "Now save the obtained images as FITS files for import into Sherpa:"
   ]
  },
  {
   "cell_type": "code",
   "execution_count": null,
   "metadata": {},
   "outputs": [],
   "source": [
    "images['counts']    .write(\"data/G284-0_test_counts.fits\", clobber=True)\n",
    "images['exposure']  .write(\"data/G284-0_test_exposure.fits\", clobber=True)\n",
    "images['background'].write(\"data/G284-0_test_background.fits\", clobber=True)\n",
    "\n",
    "# Hack to convert PSF data from an array of Quantity's to a float array:\n",
    "images['psf'].data = images['psf'].data.value\n",
    "images['psf']       .write(\"data/G284-0_test_psf.fits\", clobber=True)"
   ]
  },
  {
   "cell_type": "markdown",
   "metadata": {},
   "source": [
    "\n",
    "## Fit sources with Sherpa\n",
    "Set up Sherpa to fit the counts map, loading the ancillary images for subsequent use. A relevant test statistic for data with Poisson fluctuations is the one proposed by Cash (1979). The simplex (or Nelder-Mead) fitting algorithm is a good compromise between efficiency and robustness. The source fit is best performed in pixel coordinates."
   ]
  },
  {
   "cell_type": "code",
   "execution_count": null,
   "metadata": {
    "collapsed": true
   },
   "outputs": [],
   "source": [
    "import sherpa.astro.ui as sh\n",
    "from gammapy.image import SkyImage\n",
    "from regions.core.pixcoord import PixCoord\n",
    "from regions.shapes.circle import CirclePixelRegion\n",
    "\n",
    "sh.set_stat(\"cash\")\n",
    "sh.set_method(\"simplex\")\n",
    "sh.load_image(\"data/G284-0_test_counts.fits\")\n",
    "sh.set_coord(\"logical\")\n",
    "\n",
    "sh.load_table_model(\"expo\", \"data/G284-0_test_exposure.fits\")\n",
    "sh.load_table_model(\"bkg\",  \"data/G284-0_test_background.fits\")\n",
    "sh.load_psf        (\"psf\",  \"data/G284-0_test_psf.fits\")"
   ]
  },
  {
   "cell_type": "markdown",
   "metadata": {},
   "source": [
    "In principle one might first want to fit the background amplitude. However the background estimation method already yields the correct normalization, so we freeze the background amplitude to unity instead of adjusting it. The (smoothed) residuals from this background model are then computed and shown."
   ]
  },
  {
   "cell_type": "code",
   "execution_count": null,
   "metadata": {
    "collapsed": true
   },
   "outputs": [],
   "source": [
    "sh.set_full_model(bkg)\n",
    "bkg.ampl = 1\n",
    "sh.freeze(bkg)\n",
    "\n",
    "sh.save_resid(\"data/resid.fits\", clobber=True)\n",
    "resid = SkyImage.read(\"data/resid.fits\")\n",
    "resid_smo3 = resid.smooth(radius = 3)\n",
    "resid_smo3.show(vmin = -0.5, vmax = 2)"
   ]
  },
  {
   "cell_type": "markdown",
   "metadata": {},
   "source": [
    "We then find the position of the maximum in the (smoothed) residuals map, and fit a (symmetrical) Gaussian source with that initial position:"
   ]
  },
  {
   "cell_type": "code",
   "execution_count": null,
   "metadata": {
    "collapsed": true
   },
   "outputs": [],
   "source": [
    "maxcoord = resid_smo3.lookup_max()\n",
    "maxpix = resid_smo3.wcs_skycoord_to_pixel(maxcoord[0])\n",
    "sh.set_full_model(bkg + psf(sh.gauss2d.g0) * expo) # creates g0 as a gauss2d instance\n",
    "g0.xpos = maxpix[0]\n",
    "g0.ypos = maxpix[1]\n",
    "sh.freeze(g0.xpos, g0.ypos) # fix the position in the initial fitting step\n",
    "\n",
    "expo.ampl = 1e-9 # fix exposure amplitude so that typical exposure is of order unity\n",
    "sh.freeze(expo)\n",
    "sh.thaw(g0.fwhm, g0.ampl) # in case frozen in a previous iteration\n",
    "\n",
    "g0.fwhm = 10 # give some reasonable initial values\n",
    "g0.ampl = maxcoord[1]\n",
    "sh.fit() # Performs the fit; this takes a little time."
   ]
  },
  {
   "cell_type": "markdown",
   "metadata": {},
   "source": [
    "Fit all parameters of this Gaussian component, fix them and re-compute the residuals map."
   ]
  },
  {
   "cell_type": "code",
   "execution_count": null,
   "metadata": {
    "collapsed": true
   },
   "outputs": [],
   "source": [
    "sh.thaw(g0.xpos, g0.ypos)\n",
    "sh.fit()\n",
    "sh.freeze(g0)\n",
    "\n",
    "sh.save_resid(\"data/resid.fits\", clobber=True)\n",
    "resid = SkyImage.read(\"data/resid.fits\")\n",
    "resid_smo3 = resid.smooth(radius = 3)\n",
    "resid_smo3.show(vmin = -0.5, vmax = 2)"
   ]
  },
  {
   "cell_type": "markdown",
   "metadata": {},
   "source": [
    "Instantiate additional Gaussian components, and use them to iteratively fit sources:"
   ]
  },
  {
   "cell_type": "code",
   "execution_count": null,
   "metadata": {
    "collapsed": true
   },
   "outputs": [],
   "source": [
    "for i in range(1,3) :\n",
    "    sh.create_model_component('gauss2d', 'g'+str(i))\n",
    "gs = [g0, g1, g2]\n",
    "sh.set_full_model(bkg + psf(g0+g1+g2) * expo)\n",
    "\n",
    "for i in range(1, len(gs)) :\n",
    "    gs[i].ampl = 0   # initialize components with fixed, zero amplitude\n",
    "    sh.freeze(gs[i])\n",
    "\n",
    "for i in range(1, len(gs)) :\n",
    "    maxcoord = resid_smo3.lookup_max()\n",
    "    maxpix = resid_smo3.wcs_skycoord_to_pixel(maxcoord[0])\n",
    "    gs[i].xpos = maxpix[0]\n",
    "    gs[i].ypos = maxpix[1]\n",
    "    gs[i].fwhm = 10\n",
    "    gs[i].fwhm = maxcoord[1]\n",
    "\n",
    "    sh.thaw(gs[i].fwhm)\n",
    "    sh.thaw(gs[i].ampl)\n",
    "    sh.fit()\n",
    "\n",
    "    sh.thaw(gs[i].xpos)\n",
    "    sh.thaw(gs[i].ypos)\n",
    "    sh.fit()\n",
    "    sh.freeze(gs[i])\n",
    "\n",
    "    sh.save_resid(\"data/resid.fits\", clobber=True)\n",
    "    resid = SkyImage.read(\"data/resid.fits\")\n",
    "    resid_smo3 = resid.smooth(radius = 3)\n",
    "    resid_smo3.show(vmin = -0.5, vmax = 2)"
   ]
  }
 ],
 "metadata": {
  "kernelspec": {
   "display_name": "Python 2",
   "language": "python",
   "name": "python2"
  },
  "language_info": {
   "codemirror_mode": {
    "name": "ipython",
    "version": 2
   },
   "file_extension": ".py",
   "mimetype": "text/x-python",
   "name": "python",
   "nbconvert_exporter": "python",
   "pygments_lexer": "ipython2",
   "version": "2.7.13"
  }
 },
 "nbformat": 4,
 "nbformat_minor": 2
}
