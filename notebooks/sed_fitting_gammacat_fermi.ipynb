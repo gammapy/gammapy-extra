{
 "cells": [
  {
   "cell_type": "markdown",
   "metadata": {
    "deletable": true,
    "editable": true
   },
   "source": [
    "# Flux point fitting in Gammapy\n",
    "\n",
    "In this tutorial we're going to learn how to fit spectral models to combined Fermi-LAT and IACT flux points.\n",
    "\n",
    "The central class we're going to use for this example analysis is:  \n",
    "- [gammapy.spectrum.FluxPointsFitter](http://docs.gammapy.org/en/latest/api/gammapy.spectrum.FluxPointsFitter.html#gammapy.spectrum.FluxPointsFitter)\n",
    "\n",
    "\n",
    "In addition we will work with the following data classes:\n",
    "\n",
    "- [gammapy.spectrum.FluxPoints](http://docs.gammapy.org/en/latest/api/gammapy.spectrum.FluxPoints.html#gammapy.spectrum.FluxPoints)\n",
    "- [gammapy.catalog.SourceCatalogGammaCat](http://docs.gammapy.org/en/latest/api/gammapy.catalog.SourceCatalogGammaCat.html#gammapy.catalog.SourceCatalogGammaCat)\n",
    "- [gammapy.catalog.SourceCatalog3FHL](http://docs.gammapy.org/en/latest/api/gammapy.catalog.SourceCatalog3FHL.html#gammapy.catalog.SourceCatalog3FHL)\n",
    "- [gammapy.catalog.SourceCatalog3FGL](http://docs.gammapy.org/en/latest/api/gammapy.catalog.SourceCatalog3FGL.html#gammapy.catalog.SourceCatalog3FGL)\n",
    "\n",
    "And the following spectral model classes:\n",
    "- [PowerLaw](http://docs.gammapy.org/en/latest/api/gammapy.spectrum.models.PowerLaw.html#gammapy.spectrum.models.PowerLaw)\n",
    "- [ExponentialCutoffPowerLaw](http://docs.gammapy.org/en/latest/api/gammapy.spectrum.models.ExponentialCutoffPowerLaw.html#gammapy.spectrum.models.ExponentialCutoffPowerLaw)\n",
    "- [LogParabola](http://docs.gammapy.org/en/latest/api/gammapy.spectrum.models.LogParabola.html#gammapy.spectrum.models.LogParabola)\n",
    "\n",
    "\n",
    "\n",
    "\n",
    "\n"
   ]
  },
  {
   "cell_type": "markdown",
   "metadata": {
    "deletable": true,
    "editable": true
   },
   "source": [
    "Let us start with the usual IPython notebook and Python imports:"
   ]
  },
  {
   "cell_type": "code",
   "execution_count": 1,
   "metadata": {
    "collapsed": false,
    "deletable": true,
    "editable": true
   },
   "outputs": [],
   "source": [
    "%matplotlib inline\n",
    "import numpy as np\n",
    "import matplotlib.pyplot as plt\n",
    "plt.style.use('ggplot')"
   ]
  },
  {
   "cell_type": "code",
   "execution_count": 2,
   "metadata": {
    "collapsed": false,
    "deletable": true,
    "editable": true
   },
   "outputs": [],
   "source": [
    "from astropy import units as u\n",
    "from astropy.table import vstack\n",
    "from gammapy.spectrum.models import PowerLaw, ExponentialCutoffPowerLaw, LogParabola\n",
    "from gammapy.spectrum.flux_point import FluxPointsFitter, FluxPoints, compute_flux_points_dnde\n",
    "from gammapy.catalog import SourceCatalog3FGL, SourceCatalogGammaCat, SourceCatalog3FHL"
   ]
  },
  {
   "cell_type": "markdown",
   "metadata": {
    "deletable": true,
    "editable": true
   },
   "source": [
    "Next we instantiate the source catalogs so that we can access the data for the source we would like to analyse:"
   ]
  },
  {
   "cell_type": "code",
   "execution_count": 3,
   "metadata": {
    "collapsed": true,
    "deletable": true,
    "editable": true
   },
   "outputs": [],
   "source": [
    "fermi_3fgl = SourceCatalog3FGL()\n",
    "fermi_3fhl = SourceCatalog3FHL()\n",
    "gammacat = SourceCatalogGammaCat()"
   ]
  },
  {
   "cell_type": "markdown",
   "metadata": {
    "deletable": true,
    "editable": true
   },
   "source": [
    "## Data Preparation\n",
    "\n",
    "For this analysis we choose to work with the source 'HESS J1507-622' and the associated Fermi-LAT sources '3FGL J1506.6-6219' and '3FHL J1507.9-6228e'. We access the data from the catalogs just by source name:"
   ]
  },
  {
   "cell_type": "code",
   "execution_count": 4,
   "metadata": {
    "collapsed": true,
    "deletable": true,
    "editable": true
   },
   "outputs": [],
   "source": [
    "source_gammacat =  gammacat['HESS J1507-622']\n",
    "source_fermi_3fgl = fermi_3fgl['3FGL J1506.6-6219']\n",
    "source_fermi_3fhl = fermi_3fhl['3FHL J1507.9-6228e']"
   ]
  },
  {
   "cell_type": "markdown",
   "metadata": {
    "deletable": true,
    "editable": true
   },
   "source": [
    "The corresponding flux points data can be accessed with `.flux_points` attribute:"
   ]
  },
  {
   "cell_type": "code",
   "execution_count": 5,
   "metadata": {
    "collapsed": false,
    "deletable": true,
    "editable": true
   },
   "outputs": [
    {
     "data": {
      "text/html": [
       "&lt;Table length=6&gt;\n",
       "<table id=\"table140194177546280\" class=\"table-striped table-bordered table-condensed\">\n",
       "<thead><tr><th>e_ref</th><th>dnde</th><th>dnde_errn</th><th>dnde_errp</th></tr></thead>\n",
       "<thead><tr><th>TeV</th><th>1 / (cm2 s TeV)</th><th>1 / (cm2 s TeV)</th><th>1 / (cm2 s TeV)</th></tr></thead>\n",
       "<thead><tr><th>float32</th><th>float32</th><th>float32</th><th>float32</th></tr></thead>\n",
       "<tr><td>0.8609</td><td>2.29119e-12</td><td>8.70543e-13</td><td>8.95502e-13</td></tr>\n",
       "<tr><td>1.56151</td><td>6.98172e-13</td><td>2.20354e-13</td><td>2.30407e-13</td></tr>\n",
       "<tr><td>2.76375</td><td>1.69062e-13</td><td>6.7587e-14</td><td>7.18838e-14</td></tr>\n",
       "<tr><td>4.8916</td><td>7.72925e-14</td><td>2.40132e-14</td><td>2.60749e-14</td></tr>\n",
       "<tr><td>9.98858</td><td>1.03253e-14</td><td>5.06315e-15</td><td>5.64195e-15</td></tr>\n",
       "<tr><td>27.0403</td><td>7.44987e-16</td><td>5.72089e-16</td><td>7.25999e-16</td></tr>\n",
       "</table>"
      ],
      "text/plain": [
       "<Table length=6>\n",
       " e_ref        dnde         dnde_errn       dnde_errp   \n",
       "  TeV   1 / (cm2 s TeV) 1 / (cm2 s TeV) 1 / (cm2 s TeV)\n",
       "float32     float32         float32         float32    \n",
       "------- --------------- --------------- ---------------\n",
       " 0.8609     2.29119e-12     8.70543e-13     8.95502e-13\n",
       "1.56151     6.98172e-13     2.20354e-13     2.30407e-13\n",
       "2.76375     1.69062e-13      6.7587e-14     7.18838e-14\n",
       " 4.8916     7.72925e-14     2.40132e-14     2.60749e-14\n",
       "9.98858     1.03253e-14     5.06315e-15     5.64195e-15\n",
       "27.0403     7.44987e-16     5.72089e-16     7.25999e-16"
      ]
     },
     "execution_count": 5,
     "metadata": {},
     "output_type": "execute_result"
    }
   ],
   "source": [
    "flux_points_gammacat = source_gammacat.flux_points\n",
    "flux_points_gammacat.table"
   ]
  },
  {
   "cell_type": "markdown",
   "metadata": {
    "deletable": true,
    "editable": true
   },
   "source": [
    "For the Fermi-LAT sources we have to explicitely compute the differential flux points, because this information is not provided by the catalogs. For this we use the helper function [compute_flux_points_dnde](http://docs.gammapy.org/en/latest/api/gammapy.spectrum.compute_flux_points_dnde.html#gammapy.spectrum.compute_flux_points_dnde), using the so called `'lafferty'` method:"
   ]
  },
  {
   "cell_type": "code",
   "execution_count": 6,
   "metadata": {
    "collapsed": false,
    "deletable": true,
    "editable": true
   },
   "outputs": [],
   "source": [
    "flux_points_3fgl = compute_flux_points_dnde(flux_points=source_fermi_3fgl.flux_points,\n",
    "                                            model=source_fermi_3fgl.spectral_model,\n",
    "                                            method='lafferty')\n",
    "flux_points_3fhl = compute_flux_points_dnde(flux_points=source_fermi_3fhl.flux_points,\n",
    "                                            model=source_fermi_3fhl.spectral_model,\n",
    "                                            method='lafferty')"
   ]
  },
  {
   "cell_type": "markdown",
   "metadata": {
    "deletable": true,
    "editable": true
   },
   "source": [
    "Finally we stack the flux points into a single `FluxPoints` object and drop the upper limit values, because currently we can't handle them in the fit:"
   ]
  },
  {
   "cell_type": "code",
   "execution_count": 7,
   "metadata": {
    "collapsed": false,
    "deletable": true,
    "editable": true
   },
   "outputs": [],
   "source": [
    "# stack flux point tables\n",
    "flux_points = FluxPoints.stack([flux_points_gammacat, flux_points_3fhl, flux_points_3fgl])\n",
    "\n",
    "# drop the flux upper limit values\n",
    "flux_points = flux_points.drop_ul()"
   ]
  },
  {
   "cell_type": "markdown",
   "metadata": {
    "deletable": true,
    "editable": true
   },
   "source": [
    "## Fitter Setup"
   ]
  },
  {
   "cell_type": "markdown",
   "metadata": {
    "deletable": true,
    "editable": true
   },
   "source": [
    "We initialze the fitter object with the `'chi2assym'` statistic, because we have assymmetric errors on the flux points. As optimizer we choose the `'simplex'` algorithm and to estimate the errors we use `'cover'` method: "
   ]
  },
  {
   "cell_type": "code",
   "execution_count": 8,
   "metadata": {
    "collapsed": true,
    "deletable": true,
    "editable": true
   },
   "outputs": [],
   "source": [
    "fitter = FluxPointsFitter(stat='chi2assym', optimizer='simplex', error_estimator='covar')"
   ]
  },
  {
   "cell_type": "markdown",
   "metadata": {
    "deletable": true,
    "editable": true
   },
   "source": [
    "## Power Law Fit\n",
    "\n",
    "First we start with fitting a simple [power law](http://docs.gammapy.org/en/latest/api/gammapy.spectrum.models.PowerLaw.html#gammapy.spectrum.models.PowerLaw)."
   ]
  },
  {
   "cell_type": "code",
   "execution_count": 9,
   "metadata": {
    "collapsed": false,
    "deletable": true,
    "editable": true
   },
   "outputs": [],
   "source": [
    "pwl = PowerLaw(\n",
    "    index=2. * u.Unit(''),\n",
    "    amplitude=1E-12 * u.Unit('cm-2 s-1 TeV-1'),\n",
    "    reference=1. * u.TeV\n",
    ")"
   ]
  },
  {
   "cell_type": "markdown",
   "metadata": {
    "deletable": true,
    "editable": true
   },
   "source": [
    "After creating the model we run the fit by passing the `'flux_points'` and `'pwl'` objects:"
   ]
  },
  {
   "cell_type": "code",
   "execution_count": 10,
   "metadata": {
    "collapsed": false,
    "deletable": true,
    "editable": true
   },
   "outputs": [],
   "source": [
    "result_pwl = fitter.run(flux_points, pwl)"
   ]
  },
  {
   "cell_type": "markdown",
   "metadata": {},
   "source": [
    "And print the result:"
   ]
  },
  {
   "cell_type": "code",
   "execution_count": 11,
   "metadata": {
    "collapsed": false
   },
   "outputs": [
    {
     "name": "stdout",
     "output_type": "stream",
     "text": [
      "PowerLaw\n",
      "\n",
      "Parameters: \n",
      "\n",
      "\t   name     value     error         unit      min  max  frozen\n",
      "\t--------- --------- --------- --------------- ---- ---- ------\n",
      "\t    index 1.966e+00 2.802e-02                    0 None  False\n",
      "\tamplitude 1.257e-12 1.632e-13 1 / (cm2 s TeV)    0 None  False\n",
      "\treference 1.000e+00 0.000e+00             TeV None None   True\n",
      "\n",
      "Covariance: \n",
      "\n",
      "\tname/name   index   amplitude\n",
      "\t--------- --------- ---------\n",
      "\t    index  0.000785 -2.61e-15\n",
      "\tamplitude -2.61e-15  2.66e-26\n"
     ]
    }
   ],
   "source": [
    "print(result_pwl['best_fit_model'])"
   ]
  },
  {
   "cell_type": "markdown",
   "metadata": {
    "deletable": true,
    "editable": true
   },
   "source": [
    "As a quick check we print the value of the fit statistics per degrees of freedom as well:"
   ]
  },
  {
   "cell_type": "code",
   "execution_count": 12,
   "metadata": {
    "collapsed": false,
    "deletable": true,
    "editable": true
   },
   "outputs": [
    {
     "name": "stdout",
     "output_type": "stream",
     "text": [
      "2.58141475503\n"
     ]
    }
   ],
   "source": [
    "print(result_pwl['statval/dof'])"
   ]
  },
  {
   "cell_type": "markdown",
   "metadata": {
    "deletable": true,
    "editable": true
   },
   "source": [
    "Finally we plot the data points and the best fit model:"
   ]
  },
  {
   "cell_type": "code",
   "execution_count": 13,
   "metadata": {
    "collapsed": false,
    "deletable": true,
    "editable": true
   },
   "outputs": [
    {
     "data": {
      "text/plain": [
       "(1e-13, 1e-11)"
      ]
     },
     "execution_count": 13,
     "metadata": {},
     "output_type": "execute_result"
    },
    {
     "data": {
      "image/png": "[encoded data removed]",
      "text/plain": [
       "<matplotlib.figure.Figure at 0x7f815399b160>"
      ]
     },
     "metadata": {},
     "output_type": "display_data"
    }
   ],
   "source": [
    "ax = flux_points.plot(energy_power=2)\n",
    "result_pwl['best_fit_model'].plot(energy_range=[1E-4, 1E2] * u.TeV, ax=ax, energy_power=2)\n",
    "result_pwl['best_fit_model'].plot_error(energy_range=[1E-4, 1E2] * u.TeV, ax=ax, energy_power=2)\n",
    "ax.set_ylim(1E-13, 1E-11)"
   ]
  },
  {
   "cell_type": "markdown",
   "metadata": {
    "deletable": true,
    "editable": true
   },
   "source": [
    "## Exponential Cut-Off Powerlaw Fit\n",
    "\n",
    "Next we fit an [exponential cut-off power](http://docs.gammapy.org/en/latest/api/gammapy.spectrum.models.ExponentialCutoffPowerLaw.html#gammapy.spectrum.models.ExponentialCutoffPowerLaw) law to the data."
   ]
  },
  {
   "cell_type": "code",
   "execution_count": 14,
   "metadata": {
    "collapsed": false,
    "deletable": true,
    "editable": true
   },
   "outputs": [],
   "source": [
    "ecpl = ExponentialCutoffPowerLaw(\n",
    "    index=2. * u.Unit(''),\n",
    "    amplitude=1E-12 * u.Unit('cm-2 s-1 TeV-1'),\n",
    "    reference=1. * u.TeV,\n",
    "    lambda_=0. / u.TeV\n",
    ")"
   ]
  },
  {
   "cell_type": "markdown",
   "metadata": {
    "deletable": true,
    "editable": true
   },
   "source": [
    "We run the fitter again by passing the flux points and the `ecpl` model instance:"
   ]
  },
  {
   "cell_type": "code",
   "execution_count": 15,
   "metadata": {
    "collapsed": false,
    "deletable": true,
    "editable": true
   },
   "outputs": [
    {
     "name": "stdout",
     "output_type": "stream",
     "text": [
      "ExponentialCutoffPowerLaw\n",
      "\n",
      "Parameters: \n",
      "\n",
      "\t   name     value     error         unit      min  max  frozen\n",
      "\t--------- --------- --------- --------------- ---- ---- ------\n",
      "\t    index 1.898e+00 4.318e-02                    0 None  False\n",
      "\tamplitude 1.866e-12 3.660e-13 1 / (cm2 s TeV)    0 None  False\n",
      "\treference 1.000e+00 0.000e+00             TeV None None   True\n",
      "\t  lambda_ 5.441e-02 4.546e-02         1 / TeV    0 None  False\n",
      "\n",
      "Covariance: \n",
      "\n",
      "\tname/name   index   amplitude lambda_ \n",
      "\t--------- --------- --------- --------\n",
      "\t    index   0.00186 -1.26e-14 -0.00127\n",
      "\tamplitude -1.26e-14  1.34e-25 1.23e-14\n",
      "\t  lambda_  -0.00127  1.23e-14  0.00207\n"
     ]
    }
   ],
   "source": [
    "result_ecpl = fitter.run(flux_points, ecpl)\n",
    "print(result_ecpl['best_fit_model'])"
   ]
  },
  {
   "cell_type": "code",
   "execution_count": 16,
   "metadata": {
    "collapsed": false
   },
   "outputs": [
    {
     "name": "stdout",
     "output_type": "stream",
     "text": [
      "2.13132600203\n"
     ]
    }
   ],
   "source": [
    "print(result_ecpl['statval/dof'])"
   ]
  },
  {
   "cell_type": "markdown",
   "metadata": {
    "deletable": true,
    "editable": true
   },
   "source": [
    "We plot the data and best fit model:"
   ]
  },
  {
   "cell_type": "code",
   "execution_count": 17,
   "metadata": {
    "collapsed": false,
    "deletable": true,
    "editable": true
   },
   "outputs": [
    {
     "data": {
      "text/plain": [
       "(1e-13, 1e-11)"
      ]
     },
     "execution_count": 17,
     "metadata": {},
     "output_type": "execute_result"
    },
    {
     "data": {
      "image/png": "[encoded data removed]",
      "text/plain": [
       "<matplotlib.figure.Figure at 0x7f8150859588>"
      ]
     },
     "metadata": {},
     "output_type": "display_data"
    }
   ],
   "source": [
    "ax = flux_points.plot(energy_power=2)\n",
    "result_ecpl['best_fit_model'].plot(energy_range=[1E-4, 1E2] * u.TeV, ax=ax, energy_power=2)\n",
    "result_ecpl['best_fit_model'].plot_error(energy_range=[1E-4, 1E2] * u.TeV, ax=ax, energy_power=2)\n",
    "ax.set_ylim(1E-13, 1E-11)"
   ]
  },
  {
   "cell_type": "markdown",
   "metadata": {
    "deletable": true,
    "editable": true
   },
   "source": [
    "## Log-Parabola Fit\n",
    "\n",
    "Finally we try to fit a [log-parabola](http://docs.gammapy.org/en/latest/api/gammapy.spectrum.models.LogParabola.html#gammapy.spectrum.models.LogParabola) model:"
   ]
  },
  {
   "cell_type": "code",
   "execution_count": 18,
   "metadata": {
    "collapsed": true,
    "deletable": true,
    "editable": true
   },
   "outputs": [],
   "source": [
    "log_parabola = LogParabola(\n",
    "    alpha=2. * u.Unit(''),\n",
    "    amplitude=1E-12 * u.Unit('cm-2 s-1 TeV-1'),\n",
    "    reference=1. * u.TeV,\n",
    "    beta=0. * u.Unit('')\n",
    ")"
   ]
  },
  {
   "cell_type": "code",
   "execution_count": 19,
   "metadata": {
    "collapsed": false,
    "deletable": true,
    "editable": true
   },
   "outputs": [
    {
     "name": "stdout",
     "output_type": "stream",
     "text": [
      "LogParabola\n",
      "\n",
      "Parameters: \n",
      "\n",
      "\t   name     value     error         unit      min  max  frozen\n",
      "\t--------- --------- --------- --------------- ---- ---- ------\n",
      "\tamplitude 1.940e-12 2.864e-13 1 / (cm2 s TeV)    0 None  False\n",
      "\treference 1.000e+00 0.000e+00             TeV None None   True\n",
      "\t    alpha 2.133e+00 7.605e-02                 None None  False\n",
      "\t     beta 4.701e-02 1.874e-02                 None None  False\n",
      "\n",
      "Covariance: \n",
      "\n",
      "\tname/name amplitude  alpha    beta  \n",
      "\t--------- --------- ------- --------\n",
      "\tamplitude   8.2e-26 2.9e-15 2.59e-15\n",
      "\t    alpha   2.9e-15 0.00578  0.00124\n",
      "\t     beta  2.59e-15 0.00124 0.000351\n"
     ]
    }
   ],
   "source": [
    "result_log_parabola = fitter.run(flux_points, log_parabola)\n",
    "print(result_log_parabola['best_fit_model'])"
   ]
  },
  {
   "cell_type": "code",
   "execution_count": 20,
   "metadata": {
    "collapsed": false
   },
   "outputs": [
    {
     "name": "stdout",
     "output_type": "stream",
     "text": [
      "1.83729480825\n"
     ]
    }
   ],
   "source": [
    "print(result_log_parabola['statval/dof'])"
   ]
  },
  {
   "cell_type": "code",
   "execution_count": 21,
   "metadata": {
    "collapsed": false,
    "deletable": true,
    "editable": true
   },
   "outputs": [
    {
     "data": {
      "text/plain": [
       "(1e-13, 1e-11)"
      ]
     },
     "execution_count": 21,
     "metadata": {},
     "output_type": "execute_result"
    },
    {
     "data": {
      "image/png": "[encoded data removed]",
      "text/plain": [
       "<matplotlib.figure.Figure at 0x7f8150570588>"
      ]
     },
     "metadata": {},
     "output_type": "display_data"
    }
   ],
   "source": [
    "ax = flux_points.plot(energy_power=2)\n",
    "result_log_parabola['best_fit_model'].plot(energy_range=[1E-4, 1E2] * u.TeV, ax=ax, energy_power=2)\n",
    "result_log_parabola['best_fit_model'].plot_error(energy_range=[1E-4, 1E2] * u.TeV, ax=ax, energy_power=2)\n",
    "ax.set_ylim(1E-13, 1E-11)"
   ]
  },
  {
   "cell_type": "markdown",
   "metadata": {
    "deletable": true,
    "editable": true
   },
   "source": [
    "## Exercises\n",
    "\n",
    "- Fit a `PowerLaw2` and `ExponentialCutoffPowerLaw3FGL` to the same data.\n",
    "- Fit a `ExponentialCutoffPowerLaw` model to Vela X ('HESS J0835-455') only and check if the best fit values correspond to the values given in the Gammacat catalog"
   ]
  },
  {
   "cell_type": "markdown",
   "metadata": {
    "deletable": true,
    "editable": true
   },
   "source": [
    "## What next?\n",
    "\n",
    "This was an introduction to SED fitting in Gammapy.\n",
    "\n",
    "* If you would like to learn how to perform a full Poisson maximum likelihood spectral fit, please check out the [spectrum pipe](spectrum_pipe.ipynb) tutorial.\n",
    "* If you are interested in simulation of spectral data in the context of CTA, please check out the [spectrum simulation cta](spectrum_simulation_cta.ipynb) notebook.\n",
    "* To learn more about other parts of Gammapy (e.g. Fermi-LAT and TeV data analysis), check out the other tutorial notebooks.\n",
    "* To see what's available in Gammapy, browse the [Gammapy docs](http://docs.gammapy.org/) or use the full-text search.\n",
    "* If you have any questions, ask on the mailing list ."
   ]
  }
 ],
 "metadata": {
  "kernelspec": {
   "display_name": "Python 3",
   "language": "python",
   "name": "python3"
  },
  "language_info": {
   "codemirror_mode": {
    "name": "ipython",
    "version": 3
   },
   "file_extension": ".py",
   "mimetype": "text/x-python",
   "name": "python",
   "nbconvert_exporter": "python",
   "pygments_lexer": "ipython3",
   "version": "3.5.2"
  }
 },
 "nbformat": 4,
 "nbformat_minor": 0
}
