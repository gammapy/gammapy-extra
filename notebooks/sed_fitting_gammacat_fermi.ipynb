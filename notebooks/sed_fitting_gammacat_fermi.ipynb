{
 "cells": [
  {
   "cell_type": "markdown",
   "metadata": {
    "deletable": true,
    "editable": true
   },
   "source": [
    "# Flux point fitting in Gammapy\n",
    "\n",
    "In this tutorial we're going to learn how to fit spectral models to combined Fermi-LAT and IACT flux points.\n",
    "\n",
    "The central class we're going to use for this example analysis is:  \n",
    "- [gammapy.spectrum.FluxPointsFitter](http://astropy.readthedocs.io/en/latest/coordinates/index.html)\n",
    "\n",
    "\n",
    "In addition we will work with the following data classes:\n",
    "\n",
    "- [gammapy.spectrum.FluxPoints](http://docs.gammapy.org/en/latest/api/gammapy.image.SkyImage.html)\n",
    "- [gammapy.catalog.SourceCatalogGammaCat](http://docs.gammapy.org/en/latest/api/gammapy.image.SkyImage.html)\n",
    "- [gammapy.catalog.SourceCatalog3FHL](http://astropy.readthedocs.io/en/latest/coordinates/index.html)\n",
    "- [gammapy.catalog.SourceCatalog3FGL](http://docs.gammapy.org/en/latest/api/gammapy.image.SkyImage.html)\n",
    "\n",
    "And the following spectral model classes:\n",
    "- [PowerLaw](http://astropy.readthedocs.io/en/latest/coordinates/index.html)\n",
    "- [ExponentialCutoffPowerLaw](http://astropy.readthedocs.io/en/latest/coordinates/index.html)\n",
    "- [LogParabola](http://astropy.readthedocs.io/en/latest/coordinates/index.html)\n",
    "\n",
    "\n",
    "\n",
    "\n",
    "\n"
   ]
  },
  {
   "cell_type": "markdown",
   "metadata": {},
   "source": [
    "Let us start with the usual IPython notebook and Python imports:"
   ]
  },
  {
   "cell_type": "code",
   "execution_count": 1,
   "metadata": {
    "collapsed": false,
    "deletable": true,
    "editable": true
   },
   "outputs": [],
   "source": [
    "%matplotlib inline\n",
    "import numpy as np\n",
    "import matplotlib.pyplot as plt\n",
    "plt.style.use('ggplot')"
   ]
  },
  {
   "cell_type": "code",
   "execution_count": 2,
   "metadata": {
    "collapsed": false,
    "deletable": true,
    "editable": true
   },
   "outputs": [],
   "source": [
    "from astropy import units as u\n",
    "from astropy.table import vstack\n",
    "from gammapy.spectrum.models import PowerLaw, ExponentialCutoffPowerLaw, LogParabola\n",
    "from gammapy.spectrum.flux_point import FluxPointsFitter, FluxPoints, compute_flux_points_dnde\n",
    "from gammapy.catalog import SourceCatalog3FGL, SourceCatalogGammaCat, SourceCatalog3FHL"
   ]
  },
  {
   "cell_type": "markdown",
   "metadata": {},
   "source": [
    "Next we instantiate the source catalogs so that we can access the data for the source we would like to analyse:"
   ]
  },
  {
   "cell_type": "code",
   "execution_count": 3,
   "metadata": {
    "collapsed": true
   },
   "outputs": [],
   "source": [
    "fermi_3fgl = SourceCatalog3FGL()\n",
    "fermi_3fhl = SourceCatalog3FHL()\n",
    "gammacat = SourceCatalogGammaCat()"
   ]
  },
  {
   "cell_type": "markdown",
   "metadata": {},
   "source": [
    "## Data Preparation\n",
    "\n",
    "For this analysis we choose to work with the source 'HESS J1507-622' and the associated Fermi-LAT sources '3FGL J1506.6-6219' and '3FHL J1507.9-6228e'. We access the data from the catalogs just by source name:"
   ]
  },
  {
   "cell_type": "code",
   "execution_count": 4,
   "metadata": {
    "collapsed": true
   },
   "outputs": [],
   "source": [
    "source_gammacat =  gammacat['HESS J1507-622']\n",
    "source_fermi_3fgl = fermi_3fgl['3FGL J1506.6-6219']\n",
    "source_fermi_3fhl = fermi_3fhl['3FHL J1507.9-6228e']"
   ]
  },
  {
   "cell_type": "markdown",
   "metadata": {},
   "source": [
    "The corresponding flux points data can be accessed with `.flux_points` attribute:"
   ]
  },
  {
   "cell_type": "code",
   "execution_count": 5,
   "metadata": {
    "collapsed": false
   },
   "outputs": [
    {
     "data": {
      "text/html": [
       "&lt;Table length=6&gt;\n",
       "<table id=\"table139828868885920\" class=\"table-striped table-bordered table-condensed\">\n",
       "<thead><tr><th>e_ref</th><th>dnde</th><th>dnde_errn</th><th>dnde_errp</th></tr></thead>\n",
       "<thead><tr><th>TeV</th><th>1 / (cm2 s TeV)</th><th>1 / (cm2 s TeV)</th><th>1 / (cm2 s TeV)</th></tr></thead>\n",
       "<thead><tr><th>float32</th><th>float32</th><th>float32</th><th>float32</th></tr></thead>\n",
       "<tr><td>0.8609</td><td>2.29119e-12</td><td>8.70543e-13</td><td>8.95502e-13</td></tr>\n",
       "<tr><td>1.56151</td><td>6.98172e-13</td><td>2.20354e-13</td><td>2.30407e-13</td></tr>\n",
       "<tr><td>2.76375</td><td>1.69062e-13</td><td>6.7587e-14</td><td>7.18838e-14</td></tr>\n",
       "<tr><td>4.8916</td><td>7.72925e-14</td><td>2.40132e-14</td><td>2.60749e-14</td></tr>\n",
       "<tr><td>9.98858</td><td>1.03253e-14</td><td>5.06315e-15</td><td>5.64195e-15</td></tr>\n",
       "<tr><td>27.0403</td><td>7.44987e-16</td><td>5.72089e-16</td><td>7.25999e-16</td></tr>\n",
       "</table>"
      ],
      "text/plain": [
       "<Table length=6>\n",
       " e_ref        dnde         dnde_errn       dnde_errp   \n",
       "  TeV   1 / (cm2 s TeV) 1 / (cm2 s TeV) 1 / (cm2 s TeV)\n",
       "float32     float32         float32         float32    \n",
       "------- --------------- --------------- ---------------\n",
       " 0.8609     2.29119e-12     8.70543e-13     8.95502e-13\n",
       "1.56151     6.98172e-13     2.20354e-13     2.30407e-13\n",
       "2.76375     1.69062e-13      6.7587e-14     7.18838e-14\n",
       " 4.8916     7.72925e-14     2.40132e-14     2.60749e-14\n",
       "9.98858     1.03253e-14     5.06315e-15     5.64195e-15\n",
       "27.0403     7.44987e-16     5.72089e-16     7.25999e-16"
      ]
     },
     "execution_count": 5,
     "metadata": {},
     "output_type": "execute_result"
    }
   ],
   "source": [
    "flux_points_gammacat = source_gammacat.flux_points\n",
    "flux_points_gammacat.table"
   ]
  },
  {
   "cell_type": "markdown",
   "metadata": {},
   "source": [
    "For the Fermi-LAT sources we have to explicitely compute the differential flux points, because this information is not provided by the catalogs. For this we use the helper function [compute_flux_points_dnde](http://docs.gammapy.org/en/latest/api/gammapy.spectrum.compute_flux_points_dnde.html#gammapy.spectrum.compute_flux_points_dnde), using the so called `'lafferty'` method:"
   ]
  },
  {
   "cell_type": "code",
   "execution_count": 6,
   "metadata": {
    "collapsed": false
   },
   "outputs": [],
   "source": [
    "flux_points_3fgl = compute_flux_points_dnde(flux_points=source_fermi_3fgl.flux_points,\n",
    "                                            model=source_fermi_3fgl.spectral_model,\n",
    "                                            method='lafferty')\n",
    "flux_points_3fhl = compute_flux_points_dnde(flux_points=source_fermi_3fhl.flux_points,\n",
    "                                            model=source_fermi_3fhl.spectral_model,\n",
    "                                            method='lafferty')"
   ]
  },
  {
   "cell_type": "markdown",
   "metadata": {},
   "source": [
    "Finally we stack the flux points into a single `FluxPoints` object and drop the upper limit values, because currently we can't handle them in the fit:"
   ]
  },
  {
   "cell_type": "code",
   "execution_count": 18,
   "metadata": {
    "collapsed": false
   },
   "outputs": [],
   "source": [
    "# stack flux point tables\n",
    "flux_points = FluxPoints.stack([flux_points_gammacat, flux_points_3fhl, flux_points_3fgl])\n",
    "\n",
    "# drop the flux upper limit values\n",
    "flux_points = flux_points.drop_ul()"
   ]
  },
  {
   "cell_type": "markdown",
   "metadata": {},
   "source": [
    "## Fitter Setup"
   ]
  },
  {
   "cell_type": "markdown",
   "metadata": {},
   "source": [
    "We initialze the fitter object with the `'chi2assym'` statistic, because we have assymmetric errors on the flux points. As optimizer we choose the `'simplex'` algorithm and to estimate the errors we use `'cover'` method: "
   ]
  },
  {
   "cell_type": "code",
   "execution_count": 19,
   "metadata": {
    "collapsed": true
   },
   "outputs": [],
   "source": [
    "fitter = FluxPointsFitter(stat='chi2assym', optimizer='simplex', error_estimator='covar')"
   ]
  },
  {
   "cell_type": "markdown",
   "metadata": {},
   "source": [
    "## Powerlaw Fit\n",
    "\n",
    "First we start with fitting a simple powerlaw to the data, which is described by the following formula:\n",
    "\n",
    "$$\n",
    "        \\phi(E) = \\phi_0 \\cdot \\left( \\frac{E}{E_0} \\right)^{-\\Gamma}\n",
    "$$\n",
    "\n",
    "Where $\\phi_0$ corresponds to `'amplitude'`, $E_0$ to `'reference'` and $\\Gamma$ to the  `'index'` parameter:"
   ]
  },
  {
   "cell_type": "code",
   "execution_count": 9,
   "metadata": {
    "collapsed": true
   },
   "outputs": [],
   "source": [
    "pars = {}\n",
    "pars['index'] = 2. * u.Unit('')\n",
    "pars['amplitude'] = 1E-12 * u.Unit('cm-2 s-1 TeV-1')\n",
    "pars['reference'] = 1. * u.TeV\n",
    "pwl = PowerLaw(**pars)"
   ]
  },
  {
   "cell_type": "markdown",
   "metadata": {},
   "source": [
    "After creating the model we run the fit by passing the `'flux_points'` and `'pwl'` objects:"
   ]
  },
  {
   "cell_type": "code",
   "execution_count": 20,
   "metadata": {
    "collapsed": false
   },
   "outputs": [],
   "source": [
    "result_pwl = fitter.run(flux_points, pwl)"
   ]
  },
  {
   "cell_type": "markdown",
   "metadata": {},
   "source": [
    "As a quick check we print the value of the fit statistics per degrees of freedom:"
   ]
  },
  {
   "cell_type": "code",
   "execution_count": 21,
   "metadata": {
    "collapsed": false
   },
   "outputs": [
    {
     "name": "stdout",
     "output_type": "stream",
     "text": [
      "2.58141475854\n"
     ]
    }
   ],
   "source": [
    "print(result_pwl['statval/dof'])"
   ]
  },
  {
   "cell_type": "markdown",
   "metadata": {},
   "source": [
    "Finally we plot the data points and the best fit model:"
   ]
  },
  {
   "cell_type": "code",
   "execution_count": 22,
   "metadata": {
    "collapsed": false
   },
   "outputs": [
    {
     "data": {
      "text/plain": [
       "(1e-13, 1e-11)"
      ]
     },
     "execution_count": 22,
     "metadata": {},
     "output_type": "execute_result"
    },
    {
     "data": {
      "image/png": "[encoded data removed]",
      "text/plain": [
       "<matplotlib.figure.Figure at 0x7f2c608190f0>"
      ]
     },
     "metadata": {},
     "output_type": "display_data"
    }
   ],
   "source": [
    "ax = flux_points.plot(energy_power=2)\n",
    "result_pwl['best_fit_model'].plot(energy_range=[1E-4, 1E2] * u.TeV, ax=ax, energy_power=2)\n",
    "result_pwl['best_fit_model'].plot_error(energy_range=[1E-4, 1E2] * u.TeV, ax=ax, energy_power=2)\n",
    "ax.set_ylim(1E-13, 1E-11)"
   ]
  },
  {
   "cell_type": "markdown",
   "metadata": {},
   "source": [
    "## Exponential Cut-Off Powerlaw Fit"
   ]
  },
  {
   "cell_type": "code",
   "execution_count": 12,
   "metadata": {
    "collapsed": true
   },
   "outputs": [],
   "source": [
    "pars = {}\n",
    "pars['index'] = 2. * u.Unit('')\n",
    "pars['amplitude'] = 1E-12 * u.Unit('cm-2 s-1 TeV-1')\n",
    "pars['reference'] = 1. * u.TeV\n",
    "pars['lambda_'] = 0. / u.TeV\n",
    "ecpl = ExponentialCutoffPowerLaw(**pars)"
   ]
  },
  {
   "cell_type": "code",
   "execution_count": 13,
   "metadata": {
    "collapsed": false
   },
   "outputs": [
    {
     "name": "stdout",
     "output_type": "stream",
     "text": [
      "2.13132600203\n"
     ]
    }
   ],
   "source": [
    "result_ecpl = fitter.run(flux_points, ecpl)\n",
    "print(result_ecpl['statval/dof'])"
   ]
  },
  {
   "cell_type": "code",
   "execution_count": 14,
   "metadata": {
    "collapsed": false
   },
   "outputs": [
    {
     "data": {
      "text/plain": [
       "(1e-13, 1e-11)"
      ]
     },
     "execution_count": 14,
     "metadata": {},
     "output_type": "execute_result"
    },
    {
     "data": {
      "image/png": "[encoded data removed]",
      "text/plain": [
       "<matplotlib.figure.Figure at 0x7f2c6088feb8>"
      ]
     },
     "metadata": {},
     "output_type": "display_data"
    }
   ],
   "source": [
    "ax = flux_points.plot(energy_power=2)\n",
    "result_ecpl['best_fit_model'].plot(energy_range=[1E-4, 1E2] * u.TeV, ax=ax, energy_power=2)\n",
    "result_ecpl['best_fit_model'].plot_error(energy_range=[1E-4, 1E2] * u.TeV, ax=ax, energy_power=2)\n",
    "ax.set_ylim(1E-13, 1E-11)"
   ]
  },
  {
   "cell_type": "markdown",
   "metadata": {},
   "source": [
    "## Log-Parabola Fit"
   ]
  },
  {
   "cell_type": "code",
   "execution_count": 15,
   "metadata": {
    "collapsed": true
   },
   "outputs": [],
   "source": [
    "pars = {}\n",
    "pars['alpha'] = 2. * u.Unit('')\n",
    "pars['amplitude'] = 1E-12 * u.Unit('cm-2 s-1 TeV-1')\n",
    "pars['reference'] = 1. * u.TeV\n",
    "pars['beta'] = 0. * u.Unit('')\n",
    "log_parabola = LogParabola(**pars)"
   ]
  },
  {
   "cell_type": "code",
   "execution_count": 16,
   "metadata": {
    "collapsed": false
   },
   "outputs": [
    {
     "name": "stdout",
     "output_type": "stream",
     "text": [
      "1.83729480825\n"
     ]
    }
   ],
   "source": [
    "result_log_parabola = fitter.run(flux_points, log_parabola)\n",
    "print(result_log_parabola['statval/dof'])"
   ]
  },
  {
   "cell_type": "code",
   "execution_count": 17,
   "metadata": {
    "collapsed": false
   },
   "outputs": [
    {
     "data": {
      "text/plain": [
       "(1e-13, 1e-11)"
      ]
     },
     "execution_count": 17,
     "metadata": {},
     "output_type": "execute_result"
    },
    {
     "data": {
      "image/png": "[encoded data removed]",
      "text/plain": [
       "<matplotlib.figure.Figure at 0x7f2c606e6358>"
      ]
     },
     "metadata": {},
     "output_type": "display_data"
    }
   ],
   "source": [
    "ax = flux_points.plot(energy_power=2)\n",
    "result_log_parabola['best_fit_model'].plot(energy_range=[1E-4, 1E2] * u.TeV, ax=ax, energy_power=2)\n",
    "result_log_parabola['best_fit_model'].plot_error(energy_range=[1E-4, 1E2] * u.TeV, ax=ax, energy_power=2)\n",
    "ax.set_ylim(1E-13, 1E-11)"
   ]
  },
  {
   "cell_type": "code",
   "execution_count": null,
   "metadata": {
    "collapsed": true
   },
   "outputs": [],
   "source": []
  }
 ],
 "metadata": {
  "kernelspec": {
   "display_name": "Python 3",
   "language": "python",
   "name": "python3"
  },
  "language_info": {
   "codemirror_mode": {
    "name": "ipython",
    "version": 3
   },
   "file_extension": ".py",
   "mimetype": "text/x-python",
   "name": "python",
   "nbconvert_exporter": "python",
   "pygments_lexer": "ipython3",
   "version": "3.5.2"
  }
 },
 "nbformat": 4,
 "nbformat_minor": 0
}
