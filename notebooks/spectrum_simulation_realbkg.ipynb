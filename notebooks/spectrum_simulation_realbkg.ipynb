{
 "cells": [
  {
   "cell_type": "markdown",
   "metadata": {},
   "source": [
    "# Spectrum simulation from a real observation\n",
    "\n"
   ]
  },
  {
   "cell_type": "markdown",
   "metadata": {},
   "source": [
    "## Introduction\n",
    "\n",
    "This notebook explains the use of the class SimulationRealBkg in gammapy.spectrum. \n",
    "This class is similar to the SpectrumSimulation class, but instead of using model backgrounds, uses real IRFs and a real sky background to simulate the observations; useful for understanding statisticaly effects in case of weak sources.\n",
    "\n",
    "[TBD: do we merge the 2 classes or should this remain separate?]"
   ]
  },
  {
   "cell_type": "markdown",
   "metadata": {},
   "source": [
    "## Setup - necessary imports..."
   ]
  },
  {
   "cell_type": "code",
   "execution_count": 1,
   "metadata": {},
   "outputs": [],
   "source": [
    "import numpy as np\n",
    "import os\n",
    "import astropy\n",
    "import sherpa\n",
    "import matplotlib.pyplot as plt\n",
    "import astropy.units as u\n",
    "from astropy.coordinates import SkyCoord, Angle\n",
    "from regions import CircleSkyRegion\n",
    "from gammapy.data import DataStore, ObservationList\n",
    "from gammapy.data import ObservationStats, ObservationSummary\n",
    "from gammapy.background.reflected import ReflectedRegionsBackgroundEstimator\n",
    "from gammapy.utils.energy import EnergyBounds\n",
    "from gammapy.spectrum import SpectrumExtraction, SpectrumObservation, SpectrumFit, SpectrumResult\n",
    "from gammapy.spectrum import SimulationRealBkg\n",
    "from gammapy.spectrum.models import PowerLaw\n",
    "\n"
   ]
  },
  {
   "cell_type": "markdown",
   "metadata": {},
   "source": [
    "# Setup the logger\n",
    "\n"
   ]
  },
  {
   "cell_type": "code",
   "execution_count": 2,
   "metadata": {},
   "outputs": [],
   "source": [
    "import logging\n",
    "logging.basicConfig()\n",
    "log = logging.getLogger('gammapy.spectrum')\n",
    "log.setLevel(logging.ERROR)\n",
    "\n"
   ]
  },
  {
   "cell_type": "markdown",
   "metadata": {},
   "source": [
    "## Choose the observations\n",
    "\n",
    "We run our analysis using the standard 4 Crab observations at present. In practice, you should use this to simulate a spectrum from the sky region around your source."
   ]
  },
  {
   "cell_type": "code",
   "execution_count": 3,
   "metadata": {},
   "outputs": [
    {
     "name": "stdout",
     "output_type": "stream",
     "text": [
      "[23523 23526 23559 23592]\n"
     ]
    }
   ],
   "source": [
    "data_store=DataStore.from_dir('$GAMMAPY_EXTRA/datasets/hess-crab4-hd-hap-prod2')\n",
    "obsid=data_store.obs_table['OBS_ID'].data\n",
    "print(obsid)\n",
    "\n"
   ]
  },
  {
   "cell_type": "markdown",
   "metadata": {},
   "source": [
    "## Define your spectral model\n",
    "Here we use a simple power law for demonstration"
   ]
  },
  {
   "cell_type": "code",
   "execution_count": 4,
   "metadata": {},
   "outputs": [],
   "source": [
    "index = 2.1 * u.Unit('')\n",
    "amplitude = 2.5 * 1e-10 * u.Unit('cm-2 s-1 TeV-1')\n",
    "reference = 1 * u.TeV\n",
    "model = PowerLaw(index=index, amplitude=amplitude, reference=reference)\n",
    "\n"
   ]
  },
  {
   "cell_type": "markdown",
   "metadata": {},
   "source": [
    "## Now run the simulation for the 4 observations. \n",
    "You have to pass the spectral model, the observation, and the source position (to calculate the offset) each time. We use SkyCoord from astropy to find the position of the source. You must be connected to the interent to be able to use this function.\n",
    "\n",
    "The livetime for the simulation will be same as the observation livetime by default. You may also pass it as a parameter, \"livetime=\", to the class.\n",
    "\n",
    "This class extracts the reflected background for each observation and creates an OFF PHA counts spectrum.\n",
    "\n",
    "For each observation, we will simulate 10 spectra here (given by nsim)\n",
    "\n",
    "#to be tested: \n",
    "Is it ok to pass the same seeds for each observation? Or should they be necessarily different like here. Since the seed acts as the obs id, will it affect the spectrum grouping/stacking later if it is the same?"
   ]
  },
  {
   "cell_type": "code",
   "execution_count": 5,
   "metadata": {},
   "outputs": [
    {
     "name": "stdout",
     "output_type": "stream",
     "text": [
      "<SkyCoord (ICRS): (ra, dec) in deg\n",
      "    ( 83.633212,  22.01446)>\n"
     ]
    }
   ],
   "source": [
    "name=\"Crab\"\n",
    "src=SkyCoord.from_name(name)\n",
    "print(src)"
   ]
  },
  {
   "cell_type": "code",
   "execution_count": 6,
   "metadata": {},
   "outputs": [
    {
     "name": "stderr",
     "output_type": "stream",
     "text": [
      "/Users/asinha/anaconda2/lib/python2.7/site-packages/astropy/units/quantity.py:641: RuntimeWarning: invalid value encountered in true_divide\n",
      "  *arrays, **kwargs)\n"
     ]
    }
   ],
   "source": [
    "n_obs=len(obsid) # no. of observations \n",
    "nsim = 10 # no. of simulations per observation\n",
    "mylist=data_store.obs_list(obsid)\n",
    "seeds=np.arange(nsim*n_obs)\n",
    "sims=[]\n",
    "for i in range(n_obs):\n",
    "    sim = SimulationRealBkg(source_model=model, obsrun=mylist[i], obspos=src)\n",
    "    r1=nsim*i\n",
    "    r2=r1+nsim\n",
    "    sim.run(seeds[r1:r2])\n",
    "    sims.extend(sim.result)\n",
    "    #print sims\n",
    "    \n",
    "\n"
   ]
  },
  {
   "cell_type": "markdown",
   "metadata": {},
   "source": [
    "Lets take a look at our first simulation"
   ]
  },
  {
   "cell_type": "code",
   "execution_count": 7,
   "metadata": {},
   "outputs": [
    {
     "name": "stdout",
     "output_type": "stream",
     "text": [
      "40\n",
      "*** Observation summary report ***\n",
      "Observation Id: 0\n",
      "Livetime: 0.439 h\n",
      "On events: 2560\n",
      "Off events: 40\n",
      "Alpha: 0.100\n",
      "Bkg events in On region: 4.00\n",
      "Excess: 2556.00\n",
      "Excess / Background: 639.00\n",
      "Gamma rate: 1.33 1 / min\n",
      "Bkg rate: 0.00 1 / min\n",
      "Sigma: 108.96\n",
      "energy range: 0.02 TeV - 89.34 TeV\n"
     ]
    }
   ],
   "source": [
    "print(len(sims))\n",
    "print(sims[0])"
   ]
  },
  {
   "cell_type": "markdown",
   "metadata": {},
   "source": [
    "Now we take a look at the simulated counts and excess. "
   ]
  },
  {
   "cell_type": "code",
   "execution_count": 8,
   "metadata": {},
   "outputs": [
    {
     "name": "stdout",
     "output_type": "stream",
     "text": [
      "('simulated source counts=', [2560, 2583, 2471, 2518, 2559, 2599, 2583, 2547, 2542, 2530, 2623, 2587, 2622, 2595, 2644, 2605, 2703, 2633, 2657, 2719, 1693, 1672, 1703, 1596, 1752, 1722, 1700, 1704, 1725, 1667, 1602, 1560, 1540, 1520, 1570, 1654, 1596, 1636, 1560, 1657])\n",
      "('observed background counts=', [40, 40, 36, 33, 31, 28, 27, 23, 19, 18, 59, 49, 41, 40, 35, 33, 32, 28, 23, 20, 81, 78, 77, 77, 76, 75, 74, 74, 72, 71, 90, 88, 86, 82, 79, 69, 67, 66, 66, 65])\n",
      "('predicted excess=', [2556.0, 2579.0, 2467.4000000000001, 2514.6999999999998, 2555.9000000000001, 2596.1999999999998, 2580.3000000000002, 2544.6999999999998, 2540.0999999999999, 2528.1999999999998, 2617.0999999999999, 2582.0999999999999, 2617.9000000000001, 2591.0, 2640.5, 2601.6999999999998, 2699.8000000000002, 2630.1999999999998, 2654.6999999999998, 2717.0, 1690.8684210526317, 1669.9473684210527, 1700.9736842105262, 1593.9736842105262, 1750.0, 1720.0263157894738, 1698.0526315789473, 1702.0526315789473, 1723.1052631578948, 1665.1315789473683, 1599.4285714285713, 1557.4857142857143, 1537.5428571428572, 1517.6571428571428, 1567.7428571428572, 1652.0285714285715, 1594.0857142857142, 1634.1142857142856, 1558.1142857142856, 1655.1428571428571])\n"
     ]
    },
    {
     "data": {
      "text/plain": [
       "Text(0.5,0,u'excess')"
      ]
     },
     "execution_count": 8,
     "metadata": {},
     "output_type": "execute_result"
    },
    {
     "data": {
      "image/png": "[encoded data removed]",
      "text/plain": [
       "<matplotlib.figure.Figure at 0x11c9c9890>"
      ]
     },
     "metadata": {},
     "output_type": "display_data"
    }
   ],
   "source": [
    "n_on = [obs.total_stats.n_on for obs in sims]\n",
    "n_off = [obs.total_stats.n_off for obs in sims]\n",
    "excess = [obs.total_stats.excess for obs in sims]\n",
    "print(\"simulated source counts=\", n_on)\n",
    "print(\"observed background counts=\", n_off)\n",
    "print(\"predicted excess=\", excess)\n",
    "fix, axes = plt.subplots(1,3, figsize=(12, 4))\n",
    "axes[0].hist(n_on)\n",
    "axes[0].set_xlabel('n_on')\n",
    "axes[1].hist(n_off)\n",
    "axes[1].set_xlabel('n_off')\n",
    "axes[2].hist(excess)\n",
    "axes[2].set_xlabel('excess')\n"
   ]
  },
  {
   "cell_type": "raw",
   "metadata": {},
   "source": [
    "We now fit the spectra using the standard SpectrumFit."
   ]
  },
  {
   "cell_type": "code",
   "execution_count": null,
   "metadata": {},
   "outputs": [
    {
     "name": "stderr",
     "output_type": "stream",
     "text": [
      "/Users/asinha/Gammapy-dev/gammapy/gammapy/stats/fit_statistics.py:161: RuntimeWarning: divide by zero encountered in log\n",
      "  term2_ = - n_on * np.log(mu_sig + alpha * mu_bkg)\n",
      "/Users/asinha/Gammapy-dev/gammapy/gammapy/stats/fit_statistics.py:166: RuntimeWarning: divide by zero encountered in log\n",
      "  term3_ = - n_off * np.log(mu_bkg)\n",
      "/Users/asinha/Gammapy-dev/gammapy/gammapy/stats/fit_statistics.py:203: RuntimeWarning: divide by zero encountered in log\n",
      "  term1 = - n_on * (1 - np.log(n_on))\n",
      "/Users/asinha/Gammapy-dev/gammapy/gammapy/stats/fit_statistics.py:204: RuntimeWarning: divide by zero encountered in log\n",
      "  term2 = - n_off * (1 - np.log(n_off))\n"
     ]
    }
   ],
   "source": [
    "best_fit_index = []\n",
    "index_err=[]\n",
    "best_fit_flux = []\n",
    "flux_err=[]\n",
    "for obs in sims:\n",
    "    fit = SpectrumFit(obs, model=model, stat='wstat')\n",
    "    fit.model.parameters['index'].value = 2.0\n",
    "    fit.run()\n",
    "    fit.est_errors()\n",
    "    best_fit_index.append(fit.result[0].model.parameters['index'].value)\n",
    "    best_fit_flux.append(fit.result[0].model.parameters['amplitude'].value)\n",
    "    index_err.append(np.sqrt(fit.result[0].model.parameters.covariance[0][0]))\n",
    "    flux_err.append(np.sqrt(fit.result[0].model.parameters.covariance[1][1]))"
   ]
  },
  {
   "cell_type": "code",
   "execution_count": null,
   "metadata": {},
   "outputs": [],
   "source": [
    "\n",
    "fix, axes = plt.subplots(1,2)\n",
    "axes[0].hist(best_fit_index)\n",
    "axes[0].set_xlabel('index')\n",
    "axes[1].hist(best_fit_flux)\n",
    "axes[1].set_xlabel('amplitude')\n",
    "\n"
   ]
  },
  {
   "cell_type": "code",
   "execution_count": null,
   "metadata": {},
   "outputs": [],
   "source": [
    "plt.errorbar(best_fit_index,best_fit_flux,xerr=index_err,yerr=flux_err,fmt=\"ro\")\n",
    "plt.xlabel(\"Index\")\n",
    "plt.ylabel(\"Flux\")"
   ]
  },
  {
   "cell_type": "code",
   "execution_count": null,
   "metadata": {},
   "outputs": [],
   "source": [
    "print('best_fit_index:', best_fit_index)\n",
    "print('best_fit_flux:', best_fit_flux)\n"
   ]
  },
  {
   "cell_type": "code",
   "execution_count": null,
   "metadata": {},
   "outputs": [],
   "source": []
  }
 ],
 "metadata": {
  "kernelspec": {
   "display_name": "Python 2",
   "language": "python",
   "name": "python2"
  },
  "language_info": {
   "codemirror_mode": {
    "name": "ipython",
    "version": 2
   },
   "file_extension": ".py",
   "mimetype": "text/x-python",
   "name": "python",
   "nbconvert_exporter": "python",
   "pygments_lexer": "ipython2",
   "version": "2.7.14"
  }
 },
 "nbformat": 4,
 "nbformat_minor": 2
}
