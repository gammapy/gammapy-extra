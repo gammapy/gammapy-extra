{
 "cells": [
  {
   "cell_type": "markdown",
   "metadata": {},
   "source": [
    "![CTA first data challenge logo](images/cta-1dc.png)\n",
    "\n",
    "# CTA first data challenge (1DC) with Gammapy\n"
   ]
  },
  {
   "cell_type": "markdown",
   "metadata": {},
   "source": [
    "## Introduction\n",
    "\n",
    "The [CTA observatory](https://www.cta-observatory.org/) has started a first data challenge (\"CTA 1DC\"), focusing on high-level data analysis. Gammapy is a prototype for the CTA science tools (see [Gammapy proceeding from ICRC 2017](https://github.com/gammapy/icrc2017-gammapy-poster/blob/master/proceeding/gammapy-icrc2017.pdf)), and while many things are work in progress (most importantly: source and background modeling and cube analysis), you can use it already to analyse the simulated CTA data.\n",
    "\n",
    "The main page for CTA 1DC is here:\n",
    "https://forge.in2p3.fr/projects/data-challenge-1-dc-1/wiki (CTA internal)\n",
    "\n",
    "There you will find information on 1DC sky models, data access, data organisation, simulation and analysis tools, simulated observations, as well as contact information if you have any questions or comments.\n",
    "\n",
    "### This tutorial notebook\n",
    "\n",
    "This notebook shows you how to get started with CTA 1DC data and what it contains.\n",
    "\n",
    "You will learn how to use Astropy and Gammapy to:\n",
    "\n",
    "* access event data\n",
    "* access instrument response functions (IRFs)\n",
    "* use index files and the ``gammapy.data.DataStore`` to access all data\n",
    "* use the observation index file to select the observations you're interested in\n",
    "* read model XML files from Python (not integrated in Gammapy yet)\n",
    "\n",
    "This is to familiarise ourselves with the data files and to get an overview.\n",
    "\n",
    "### Further information\n",
    "\n",
    "How to analyse the CTA 1DC data with Gammapy (make an image and spectrum) is shown in a second notebook [cta_data_analysis.ipynb](cta_data_analysis.ipynb). If you prefer, you can of course just skim or skip this notebook and go straight to second one.\n",
    "\n",
    "More tutorial notebooks for Gammapy are [here](../index.ipynb),\n",
    "the Gammapy Sphinx docs are at at http://docs.gammapy.org\n",
    "If you have a Gammapy-related question, please send an email to to Gammapy mailing list at http://groups.google.com/group/gammapy (registration required) or if you have an issue or feature request, file an issue here: https://github.com/gammapy/gammapy/issues/new (free Github account required, takes 1 min to set up).\n",
    "\n",
    "Please note that the 1DC data isn't public and results should be shared on CTA Redmine, as described here: https://forge.in2p3.fr/projects/data-challenge-1-dc-1/wiki#Sharing-of-analysis-results. Unfortunately there's no good way yet to share Jupyter notebooks in CTA, as there is e.g. on Github and nbviewer which can show any public noteook."
   ]
  },
  {
   "cell_type": "markdown",
   "metadata": {},
   "source": [
    "## Notebook and Gammapy Setup\n",
    "\n",
    "Before we get started, please execcute the following code cells.\n",
    "\n",
    "The first one configures the notebooks so that plots are shown inline (if you don't do this, separate windows will pop up). The second cell imports and checks the version of the packages we will use below. If you're missing some packages, install them and then select \"Kernel -> Restart\" above to restart this notebook.\n",
    "\n",
    "In case you're new to Jupyter notebooks: to execute a cell, select it, then type \"SHIFT\" + \"ENTER\"."
   ]
  },
  {
   "cell_type": "code",
   "execution_count": 1,
   "metadata": {
    "collapsed": true
   },
   "outputs": [],
   "source": [
    "%matplotlib inline\n",
    "import matplotlib.pyplot as plt"
   ]
  },
  {
   "cell_type": "code",
   "execution_count": 2,
   "metadata": {},
   "outputs": [
    {
     "name": "stdout",
     "output_type": "stream",
     "text": [
      "numpy: 1.13.1\n",
      "astropy: 3.0.dev19958\n",
      "gammapy: 0.7.dev5068\n"
     ]
    }
   ],
   "source": [
    "import numpy as np\n",
    "import astropy\n",
    "import gammapy\n",
    "\n",
    "print('numpy:', np.__version__)\n",
    "print('astropy:', astropy.__version__)\n",
    "print('gammapy:', gammapy.__version__)"
   ]
  },
  {
   "cell_type": "markdown",
   "metadata": {},
   "source": [
    "## Getting the 1DC data\n",
    "\n",
    "You can find infos how to download the 1DC data here: \n",
    "https://forge.in2p3.fr/projects/data-challenge-1-dc-1/wiki#Data-access\n",
    "\n",
    "Overall it's quite large (20 GB) and will take a while to download. You can just download a subset of the \"gps\", \"gc\", \"egal\" or \"agn\" datasets, the ones you're interested in. In this tutorial, we will only use the \"gc\" (Galactic center) dataset, so maybe you could start by downloading that first.\n",
    "\n",
    "While you wait, we strongly recommend you go over some [CTA basics](https://www.youtube.com/playlist?list=PLq3ItKoU0hy7ED6m1eve6WIFs7ibcv3YR) as well as some [Python basics](https://www.youtube.com/playlist?list=PL-Qryc-SVnnu0tPV623TFnrAEQLykkZF5) to prepare yourself for this tutorial.\n",
    "\n",
    "Got the data?\n",
    "\n",
    "Assuming you've followed the instructions, you should have the ``CTADATA`` environment variable pointing to the folder where all data is located. (Gammapy doesn't need or use the ``CALDB`` environment variable.)\n"
   ]
  },
  {
   "cell_type": "code",
   "execution_count": 3,
   "metadata": {},
   "outputs": [
    {
     "name": "stdout",
     "output_type": "stream",
     "text": [
      "/Users/deil/work/cta-dc/data/1dc/1dc\r\n"
     ]
    }
   ],
   "source": [
    "!echo $CTADATA"
   ]
  },
  {
   "cell_type": "code",
   "execution_count": 4,
   "metadata": {},
   "outputs": [
    {
     "name": "stdout",
     "output_type": "stream",
     "text": [
      "\u001b[34mcaldb\u001b[m\u001b[m  \u001b[34mdata\u001b[m\u001b[m   \u001b[34mindex\u001b[m\u001b[m  \u001b[34mmodels\u001b[m\u001b[m \u001b[34mobs\u001b[m\u001b[m\r\n"
     ]
    }
   ],
   "source": [
    "!ls $CTADATA"
   ]
  },
  {
   "cell_type": "markdown",
   "metadata": {},
   "source": [
    "You can find a description of the directories and files here:\n",
    "https://forge.in2p3.fr/projects/data-challenge-1-dc-1/wiki/Data_organisation\n",
    "\n",
    "A very detailed specification of the data formats is here:\n",
    "http://gamma-astro-data-formats.readthedocs.io/\n",
    "\n",
    "But actually, instead of reading those pages, let's just explore the data and see how to load it with Gammapy ...\n",
    "\n",
    "Before we start, just in case the commands above show that you don't have `CTADATA` set:\n",
    "* you either have to exit the \"jupyter notebook\" command on your terminal, set the environment variable (I'm using bash and added the command `export CTADATA=/Users/deil/work/cta-dc/data/1dc/1dc` to my `~/.profile` file and then did `source ~/.profile`), then re-start Jupyter and this notebook.\n",
    "* or you can set the environment variable by uncommentting the code in the following cell, setting the correct path, then executing it."
   ]
  },
  {
   "cell_type": "code",
   "execution_count": 5,
   "metadata": {
    "collapsed": true
   },
   "outputs": [],
   "source": [
    "# import os\n",
    "# os.environ['CTADATA'] = '/Users/deil/work/cta-dc/data/1dc/1dc'\n",
    "# !echo $CTADATA\n",
    "# !ls $CTADATA"
   ]
  },
  {
   "cell_type": "markdown",
   "metadata": {},
   "source": [
    "## Overview of 1DC data files\n",
    "\n",
    "Let's have a look around at the directories and files in `$CTADATA`.\n",
    "\n",
    "We will look at the `data` folder with events, the `caldb` folder with the IRFs and the `index` folder with the index files. At the end, we will also mention what the `model` and `obs` folder contains, but they aren't used with Gammapy, at least not at the moment.\n",
    "\n",
    "### EVENT data\n",
    "\n",
    "First, the EVENT data (RA, DEC, ENERGY, TIME of each photon or hadronic background event) is in the `data/baseline` folder, with one observation per file. The \"baseline\" refers to the assumed CTA array that was used to simulate the observations. The number in the filename is the observation identifier `OBS_ID` of the observation. Observations are ~ 30 minutes, pointing at a fixed location on the sky."
   ]
  },
  {
   "cell_type": "code",
   "execution_count": 6,
   "metadata": {},
   "outputs": [
    {
     "name": "stdout",
     "output_type": "stream",
     "text": [
      "\u001b[34mcaldb\u001b[m\u001b[m  \u001b[34mdata\u001b[m\u001b[m   \u001b[34mindex\u001b[m\u001b[m  \u001b[34mmodels\u001b[m\u001b[m \u001b[34mobs\u001b[m\u001b[m\r\n"
     ]
    }
   ],
   "source": [
    "!ls $CTADATA"
   ]
  },
  {
   "cell_type": "code",
   "execution_count": 7,
   "metadata": {},
   "outputs": [
    {
     "name": "stdout",
     "output_type": "stream",
     "text": [
      "\u001b[34magn\u001b[m\u001b[m  \u001b[34megal\u001b[m\u001b[m \u001b[34mgc\u001b[m\u001b[m   \u001b[34mgps\u001b[m\u001b[m\r\n"
     ]
    }
   ],
   "source": [
    "!ls $CTADATA/data/baseline"
   ]
  },
  {
   "cell_type": "code",
   "execution_count": 8,
   "metadata": {},
   "outputs": [
    {
     "name": "stdout",
     "output_type": "stream",
     "text": [
      "gc_baseline_310000.fits\r\n",
      "gc_baseline_310001.fits\r\n",
      "gc_baseline_310002.fits\r\n"
     ]
    }
   ],
   "source": [
    "!ls $CTADATA/data/baseline/gc | head -n3"
   ]
  },
  {
   "cell_type": "code",
   "execution_count": 9,
   "metadata": {},
   "outputs": [
    {
     "name": "stdout",
     "output_type": "stream",
     "text": [
      "    1671\n",
      "5.9G\t/Users/deil/work/cta-dc/data/1dc/1dc/data/baseline/gc\n"
     ]
    }
   ],
   "source": [
    "# There's 1671 observations and 5.9 GB of event data for the Galactic center \"gc\" survey\n",
    "!ls $CTADATA/data/baseline/gc | wc -l\n",
    "!du -hs $CTADATA/data/baseline/gc"
   ]
  },
  {
   "cell_type": "markdown",
   "metadata": {},
   "source": [
    "Let's open up the first event list using the Gammapy `EventList` class, which contains the ``EVENTS`` table data via the ``table`` attribute as an Astropy `Table` object."
   ]
  },
  {
   "cell_type": "code",
   "execution_count": 10,
   "metadata": {},
   "outputs": [
    {
     "name": "stdout",
     "output_type": "stream",
     "text": [
      "<class 'gammapy.data.event_list.EventList'>\n",
      "<class 'astropy.table.table.Table'>\n"
     ]
    }
   ],
   "source": [
    "from gammapy.data import EventList\n",
    "events = EventList.read('$CTADATA/data/baseline/gc/gc_baseline_310000.fits')\n",
    "print(type(events))\n",
    "print(type(events.table))"
   ]
  },
  {
   "cell_type": "code",
   "execution_count": 11,
   "metadata": {},
   "outputs": [
    {
     "data": {
      "text/html": [
       "&lt;Row index=0&gt;\n",
       "<table id=\"table4445961464\">\n",
       "<thead><tr><th>EVENT_ID</th><th>TIME</th><th>RA</th><th>DEC</th><th>ENERGY</th><th>DETX</th><th>DETY</th><th>MC_ID</th></tr></thead>\n",
       "<thead><tr><th></th><th>s</th><th>deg</th><th>deg</th><th>TeV</th><th>deg</th><th>deg</th><th></th></tr></thead>\n",
       "<thead><tr><th>uint32</th><th>float64</th><th>float32</th><th>float32</th><th>float32</th><th>float32</th><th>float32</th><th>int32</th></tr></thead>\n",
       "<tr><td>1</td><td>662774401.496</td><td>-94.4147</td><td>-30.1971</td><td>0.0338345</td><td>0.10751</td><td>-1.04139</td><td>2</td></tr>\n",
       "</table>"
      ],
      "text/plain": [
       "<Row index=0>\n",
       "EVENT_ID      TIME        RA      DEC      ENERGY    DETX    DETY   MC_ID\n",
       "               s         deg      deg       TeV      deg     deg         \n",
       " uint32     float64    float32  float32   float32  float32 float32  int32\n",
       "-------- ------------- -------- -------- --------- ------- -------- -----\n",
       "       1 662774401.496 -94.4147 -30.1971 0.0338345 0.10751 -1.04139     2"
      ]
     },
     "execution_count": 11,
     "metadata": {},
     "output_type": "execute_result"
    }
   ],
   "source": [
    "# First event (using [] for \"indexing\")\n",
    "events.table[0]"
   ]
  },
  {
   "cell_type": "code",
   "execution_count": 17,
   "metadata": {},
   "outputs": [
    {
     "data": {
      "text/html": [
       "&lt;Table length=2&gt;\n",
       "<table id=\"table4445403848\" class=\"table-striped table-bordered table-condensed\">\n",
       "<thead><tr><th>EVENT_ID</th><th>TIME</th><th>RA</th><th>DEC</th><th>ENERGY</th><th>DETX</th><th>DETY</th><th>MC_ID</th></tr></thead>\n",
       "<thead><tr><th></th><th>s</th><th>deg</th><th>deg</th><th>TeV</th><th>deg</th><th>deg</th><th></th></tr></thead>\n",
       "<thead><tr><th>uint32</th><th>float64</th><th>float32</th><th>float32</th><th>float32</th><th>float32</th><th>float32</th><th>int32</th></tr></thead>\n",
       "<tr><td>1</td><td>662774401.496</td><td>-94.4147</td><td>-30.1971</td><td>0.0338345</td><td>0.10751</td><td>-1.04139</td><td>2</td></tr>\n",
       "<tr><td>2</td><td>662774405.43</td><td>-92.982</td><td>-28.3259</td><td>0.0540774</td><td>1.98403</td><td>0.200576</td><td>2</td></tr>\n",
       "</table>"
      ],
      "text/plain": [
       "<Table length=2>\n",
       "EVENT_ID      TIME        RA      DEC      ENERGY    DETX    DETY   MC_ID\n",
       "               s         deg      deg       TeV      deg     deg         \n",
       " uint32     float64    float32  float32   float32  float32 float32  int32\n",
       "-------- ------------- -------- -------- --------- ------- -------- -----\n",
       "       1 662774401.496 -94.4147 -30.1971 0.0338345 0.10751 -1.04139     2\n",
       "       2  662774405.43  -92.982 -28.3259 0.0540774 1.98403 0.200576     2"
      ]
     },
     "execution_count": 17,
     "metadata": {},
     "output_type": "execute_result"
    }
   ],
   "source": [
    "# First few events (using [] for \"slicing\")\n",
    "events.table[:2]"
   ]
  },
  {
   "cell_type": "code",
   "execution_count": 13,
   "metadata": {},
   "outputs": [
    {
     "name": "stdout",
     "output_type": "stream",
     "text": [
      "<class 'astropy.time.core.Time'>\n"
     ]
    }
   ],
   "source": [
    "# Event times can be accessed as Astropy Time objects\n",
    "print(type(events.time))"
   ]
  },
  {
   "cell_type": "code",
   "execution_count": 16,
   "metadata": {},
   "outputs": [
    {
     "data": {
      "text/plain": [
       "<Time object: scale='tt' format='mjd' value=[ 59215.50001731  59215.50006284]>"
      ]
     },
     "execution_count": 16,
     "metadata": {},
     "output_type": "execute_result"
    }
   ],
   "source": [
    "events.time[:2]"
   ]
  },
  {
   "cell_type": "code",
   "execution_count": 18,
   "metadata": {},
   "outputs": [
    {
     "name": "stdout",
     "output_type": "stream",
     "text": [
      "['2021-01-01T12:00:01.496(TT)' '2021-01-01T12:00:05.430(TT)']\n"
     ]
    }
   ],
   "source": [
    "# Convert event time to more human-readable format\n",
    "print(events.time[:2].fits)"
   ]
  },
  {
   "cell_type": "code",
   "execution_count": 19,
   "metadata": {},
   "outputs": [
    {
     "name": "stdout",
     "output_type": "stream",
     "text": [
      "<class 'astropy.coordinates.sky_coordinate.SkyCoord'>\n"
     ]
    },
    {
     "data": {
      "text/plain": [
       "<SkyCoord (ICRS): (ra, dec) in deg\n",
       "    [( 265.58529663, -30.19706917), ( 267.01800537, -28.32586861)]>"
      ]
     },
     "execution_count": 19,
     "metadata": {},
     "output_type": "execute_result"
    }
   ],
   "source": [
    "# Event positions can be accessed as Astropy SkyCoord objects\n",
    "print(type(events.radec))\n",
    "events.radec[:2]"
   ]
  },
  {
   "cell_type": "code",
   "execution_count": 20,
   "metadata": {},
   "outputs": [
    {
     "data": {
      "text/plain": [
       "<SkyCoord (Galactic): (l, b) in deg\n",
       "    [( 358.55250415, -0.05350589), (   0.80089378, -0.14331195)]>"
      ]
     },
     "execution_count": 20,
     "metadata": {},
     "output_type": "execute_result"
    }
   ],
   "source": [
    "events.galactic[:2]"
   ]
  },
  {
   "cell_type": "code",
   "execution_count": 21,
   "metadata": {},
   "outputs": [
    {
     "name": "stdout",
     "output_type": "stream",
     "text": [
      "<class 'collections.OrderedDict'>\n"
     ]
    },
    {
     "data": {
      "text/plain": [
       "(266.79019165, -30.3101)"
      ]
     },
     "execution_count": 21,
     "metadata": {},
     "output_type": "execute_result"
    }
   ],
   "source": [
    "# The event header information is stored\n",
    "# in the `events.table.meta` dictionary\n",
    "print(type(events.table.meta))\n",
    "# E.g. to get the observation pointing position in degree:\n",
    "events.table.meta['RA_PNT'], events.table.meta['DEC_PNT']"
   ]
  },
  {
   "cell_type": "markdown",
   "metadata": {},
   "source": [
    "### EVENT analysis example\n",
    "\n",
    "As an example how to work with EVENT data, let's look at the spatial and energy distribution of the events for a single run.\n",
    "\n",
    "Note that EVENT data in Gammapy is just stored in an Astropy Table, which is basically a dictionary mapping column names to column data, where the column data is a Numpy array. This means you can efficienly process it from Python using any of the scientific Python tools you like (e.g. Numpy, Scipy, scikit-image, scikit-learn, ...)\n",
    "\n",
    "#### EVENT spatial distribution\n",
    "\n",
    "To illustrate a bit how to work with EVENT table an header data,\n",
    "let's plot the event positions as well as the pointing position."
   ]
  },
  {
   "cell_type": "code",
   "execution_count": 30,
   "metadata": {},
   "outputs": [
    {
     "data": {
      "text/plain": [
       "<SkyCoord (Galactic): (l, b) in deg\n",
       "    ( 359.00001833, -0.99995901)>"
      ]
     },
     "execution_count": 30,
     "metadata": {},
     "output_type": "execute_result"
    },
    {
     "data": {
      "image/png": "[encoded data removed]",
      "text/plain": [
       "<matplotlib.figure.Figure at 0x10abdc828>"
      ]
     },
     "metadata": {},
     "output_type": "display_data"
    }
   ],
   "source": [
    "# Event positions\n",
    "pos = events.galactic[::300] # sub-sample every 100th event\n",
    "plt.scatter(pos.l.wrap_at('180 deg').deg, pos.b.deg, s=10)\n",
    "# Pointing position\n",
    "pos_pnt = events.pointing_radec.galactic\n",
    "plt.scatter(pos_pnt.l.wrap_at('180 deg').deg, pos_pnt.b.deg,\n",
    "            marker='*', s=400, c='red')\n",
    "plt.xlabel('Galactic longitude (deg)')\n",
    "plt.ylabel('Galactic latitude (deg)')\n",
    "pos_pnt"
   ]
  },
  {
   "cell_type": "markdown",
   "metadata": {},
   "source": [
    "#### EVENT energy distribution\n",
    "\n",
    "Let's have a look at the event energy distribution."
   ]
  },
  {
   "cell_type": "code",
   "execution_count": 49,
   "metadata": {},
   "outputs": [
    {
     "data": {
      "text/plain": [
       "<matplotlib.text.Text at 0x10bd3c4a8>"
      ]
     },
     "execution_count": 49,
     "metadata": {},
     "output_type": "execute_result"
    },
    {
     "data": {
      "image/png": "[encoded data removed]",
      "text/plain": [
       "<matplotlib.figure.Figure at 0x10b724cf8>"
      ]
     },
     "metadata": {},
     "output_type": "display_data"
    }
   ],
   "source": [
    "energy = events.table['ENERGY'].data\n",
    "energy_bins = np.logspace(-2, 2, num=100)\n",
    "plt.hist(energy, bins=energy_bins)\n",
    "plt.semilogx()\n",
    "plt.xlabel('Event energy (TeV)')\n",
    "plt.ylabel('Number of events')"
   ]
  },
  {
   "cell_type": "markdown",
   "metadata": {},
   "source": [
    "A double-peak, at ~ 30 GeV and ~ 100 GeV? .... let's try to find out what's going on ...\n",
    "\n",
    "#### EVENT MC_ID\n",
    "\n",
    "One idea could be to split the data into gamma-ray and hadronic background events.\n",
    "Now from looking at the FITS header, one can see that ``MC_ID == 1`` is the hadronic background, and the other values are for different gamma-ray emission components."
   ]
  },
  {
   "cell_type": "code",
   "execution_count": 55,
   "metadata": {},
   "outputs": [
    {
     "name": "stdout",
     "output_type": "stream",
     "text": [
      "Number of events:  106710\n",
      "Number of gammas:  8650\n",
      "Number of hadrons:  98060\n"
     ]
    }
   ],
   "source": [
    "is_gamma = events.table['MC_ID'] != 1\n",
    "print('Number of events: ', len(events.table))\n",
    "print('Number of gammas: ', is_gamma.sum())\n",
    "print('Number of hadrons: ', len(events.table) - is_gamma.sum())"
   ]
  },
  {
   "cell_type": "code",
   "execution_count": 63,
   "metadata": {},
   "outputs": [
    {
     "data": {
      "text/plain": [
       "<matplotlib.legend.Legend at 0x10c9d84a8>"
      ]
     },
     "execution_count": 63,
     "metadata": {},
     "output_type": "execute_result"
    },
    {
     "data": {
      "image/png": "[encoded data removed]",
      "text/plain": [
       "<matplotlib.figure.Figure at 0x10daba518>"
      ]
     },
     "metadata": {},
     "output_type": "display_data"
    }
   ],
   "source": [
    "energy = events.table['ENERGY'].data\n",
    "energy_bins = np.logspace(-2, 2, num=100)\n",
    "opts = dict(bins=energy_bins, normed=True, histtype='step')\n",
    "plt.hist(energy[~is_gamma], label='hadron', **opts)\n",
    "plt.hist(energy[is_gamma], label='gamma', **opts)\n",
    "plt.loglog()\n",
    "plt.xlabel('Event energy (TeV)')\n",
    "plt.ylabel('Number of events')\n",
    "plt.legend()"
   ]
  },
  {
   "cell_type": "markdown",
   "metadata": {},
   "source": [
    "As you can see, Gammapy is very flexible and powerful.\n",
    "It even supports gamma-hadron separation for CTA!\n",
    "\n",
    "As expected, the energy spectra are roughly power-laws. \n",
    "When plotting in log-log, one can see that the spectra are roughly power-laws (as expected), and the \"double peak\" we saw before looks more like a \"double energy threshold\" pattern.\n",
    "It's there for gammas and background, and below 100 GeV the signal to background ratio is lower.\n",
    "\n",
    "So one could already guess that what we're seeing here is the result of a mixed-array in CTA with LSTs, MSTs and SSTs, which presumably have different energy thresholds. I'm not really sure, but probably:\n",
    "* ~ 30 GeV is the energy threshold of the LSTs\n",
    "* ~ 100 GeV is the energy threshold of the MSTs\n",
    "* the energy threshold of the SSTs does not result in s sharp feature, but corresponds to the increase in gammas above a few 100 GeV?\n",
    "\n",
    "Still, let's look a little deeper and also check the event offset distribution in the field of view ...\n",
    "\n",
    "#### EVENT FOV offset\n",
    "\n",
    "The event position and offset in the field of view (FOV) can be computed from the event RA, DEC position and the observation pointing RA, DEC position.\n",
    "\n",
    "But if you payed close attention above \n",
    "One curiosity is that the EVENTS table contains "
   ]
  },
  {
   "cell_type": "code",
   "execution_count": 31,
   "metadata": {},
   "outputs": [
    {
     "data": {
      "text/plain": [
       "<matplotlib.text.Text at 0x108ff9d30>"
      ]
     },
     "execution_count": 31,
     "metadata": {},
     "output_type": "execute_result"
    },
    {
     "data": {
      "image/png": "[encoded data removed]",
      "text/plain": [
       "<matplotlib.figure.Figure at 0x10ab352b0>"
      ]
     },
     "metadata": {},
     "output_type": "display_data"
    }
   ],
   "source": [
    "# All events\n",
    "t = events.table\n",
    "offset = np.sqrt(t['DETX'].data ** 2 + t['DETY'].data ** 2)\n",
    "# mask  = (offset < 0.3)\n",
    "# t = t[mask]\n",
    "is_bkg = t['MC_ID'] == 1\n",
    "values = np.log10(t['ENERGY'])\n",
    "bins=np.arange(-2, 2, 0.05)\n",
    "plt.hist(values[is_bkg], bins, label='bkg');\n",
    "# plt.hist(values[~is_bkg], bins, label='photons');\n",
    "plt.xlabel('log10(Energy in TeV)')\n",
    "plt.ylabel('Number of events')"
   ]
  },
  {
   "cell_type": "markdown",
   "metadata": {},
   "source": [
    "That's all for ``EVENTS``. You now know what every column in the event table contains, and how to work with event list tables using ``gammapy.data.EventList`` and ``astropy.table.Table``. \n",
    "\n",
    "Just in case that there is some observation parameter in the FITS EVENTS header that you're interested in, you can find the full description of the keys you can access via the ``events.table.meta`` dictionary [here](http://gamma-astro-data-formats.readthedocs.io/en/latest/events/events.html).\n",
    "\n",
    "## Instrument response functions (IRFs)\n",
    "\n",
    "TODO: write the rest of this notebook."
   ]
  },
  {
   "cell_type": "code",
   "execution_count": 21,
   "metadata": {
    "collapsed": true
   },
   "outputs": [],
   "source": [
    "# events.table.meta"
   ]
  },
  {
   "cell_type": "markdown",
   "metadata": {},
   "source": [
    "## Index files\n",
    "\n",
    "bla"
   ]
  },
  {
   "cell_type": "code",
   "execution_count": 22,
   "metadata": {
    "scrolled": true
   },
   "outputs": [
    {
     "ename": "NameError",
     "evalue": "name 'DataStore' is not defined",
     "output_type": "error",
     "traceback": [
      "\u001b[0;31m---------------------------------------------------------------------------\u001b[0m",
      "\u001b[0;31mNameError\u001b[0m                                 Traceback (most recent call last)",
      "\u001b[0;32m<ipython-input-22-418a5fffb6f2>\u001b[0m in \u001b[0;36m<module>\u001b[0;34m()\u001b[0m\n\u001b[1;32m      1\u001b[0m \u001b[0;32mimport\u001b[0m \u001b[0mos\u001b[0m\u001b[0;34m\u001b[0m\u001b[0m\n\u001b[0;32m----> 2\u001b[0;31m \u001b[0mdata_store\u001b[0m \u001b[0;34m=\u001b[0m \u001b[0mDataStore\u001b[0m\u001b[0;34m.\u001b[0m\u001b[0mfrom_dir\u001b[0m\u001b[0;34m(\u001b[0m\u001b[0mCTADATA\u001b[0m\u001b[0;34m)\u001b[0m\u001b[0;34m\u001b[0m\u001b[0m\n\u001b[0m\u001b[1;32m      3\u001b[0m \u001b[0mdata_store\u001b[0m\u001b[0;34m.\u001b[0m\u001b[0minfo\u001b[0m\u001b[0;34m(\u001b[0m\u001b[0;34m)\u001b[0m\u001b[0;34m\u001b[0m\u001b[0m\n",
      "\u001b[0;31mNameError\u001b[0m: name 'DataStore' is not defined"
     ]
    }
   ],
   "source": [
    "import os\n",
    "data_store = DataStore.from_dir(CTADATA)\n",
    "data_store.info()"
   ]
  },
  {
   "cell_type": "code",
   "execution_count": null,
   "metadata": {
    "collapsed": true
   },
   "outputs": [],
   "source": [
    "print(data_store.obs_table.colnames)\n",
    "obs_colnames = ['OBS_ID', 'DATE_OBS', 'TIME_OBS', 'GLON_PNT', 'GLAT_PNT']\n",
    "data_store.obs_table[::100][obs_colnames]"
   ]
  },
  {
   "cell_type": "markdown",
   "metadata": {},
   "source": [
    "## Select observations\n",
    "\n",
    "To have something small and quick to play around with, let's just select three runs.\n",
    "\n",
    "Since we'll use the reflected regions background estimation method below to compute a spectrum,\n",
    "we'll select runs at a good distance to the target (the Galactic center source)."
   ]
  },
  {
   "cell_type": "code",
   "execution_count": null,
   "metadata": {
    "collapsed": true
   },
   "outputs": [],
   "source": [
    "def select_obs():\n",
    "    t = data_store.obs_table.copy()\n",
    "    pos_run = SkyCoord(t['GLON_PNT'], t['GLAT_PNT'], unit='deg', frame='galactic')\n",
    "    pos_target = SkyCoord(0, 0, unit='deg', frame='galactic')\n",
    "    d = pos_target.separation(pos_run).degree\n",
    "    mask = (0 <= d) & (1 < d)\n",
    "    return list(t[mask]['OBS_ID'])\n",
    "\n",
    "obs_ids = select_obs()[:3]\n",
    "print(obs_ids)\n",
    "obs_list = data_store.obs_list(obs_ids)"
   ]
  },
  {
   "cell_type": "code",
   "execution_count": null,
   "metadata": {
    "collapsed": true
   },
   "outputs": [],
   "source": [
    "data_store.obs_table.select_obs_id(obs_ids)[obs_colnames]"
   ]
  },
  {
   "cell_type": "code",
   "execution_count": null,
   "metadata": {
    "collapsed": true
   },
   "outputs": [],
   "source": [
    "obs = obs_list[0]"
   ]
  },
  {
   "cell_type": "code",
   "execution_count": null,
   "metadata": {
    "collapsed": true
   },
   "outputs": [],
   "source": [
    "print(obs)"
   ]
  },
  {
   "cell_type": "code",
   "execution_count": null,
   "metadata": {
    "collapsed": true
   },
   "outputs": [],
   "source": [
    "obs.events.peek()"
   ]
  },
  {
   "cell_type": "code",
   "execution_count": null,
   "metadata": {
    "collapsed": true
   },
   "outputs": [],
   "source": [
    "obs.aeff.peek()"
   ]
  },
  {
   "cell_type": "code",
   "execution_count": null,
   "metadata": {
    "collapsed": true
   },
   "outputs": [],
   "source": [
    "obs.edisp.peek()"
   ]
  },
  {
   "cell_type": "code",
   "execution_count": null,
   "metadata": {
    "collapsed": true
   },
   "outputs": [],
   "source": [
    "obs.psf.peek()"
   ]
  },
  {
   "cell_type": "markdown",
   "metadata": {},
   "source": [
    "## Exercises\n",
    "\n",
    "* Find all runs within 1 deg of the Crab nebula.\n",
    "  * Load the \"all\" index file via the `DataStore`, then access the ``.obs_table``, then get an array-valued ``SkyCoord`` with all the observation pointing positions.\n",
    "  * You can get the Crab nebula position with `astropy.coordinates.SkyCoord` via ``SkyCoord.from_name('crab')`` \n",
    "  * Load\n",
    "* Find the PeVatrons in the 1DC data."
   ]
  },
  {
   "cell_type": "code",
   "execution_count": null,
   "metadata": {
    "collapsed": true
   },
   "outputs": [],
   "source": [
    "# start typing here ..."
   ]
  },
  {
   "cell_type": "markdown",
   "metadata": {
    "collapsed": true
   },
   "source": [
    "## What next?\n",
    "\n",
    "* This notebook gave you an overview of the 1DC files and showed you have to access and work with them using Gammapy.\n",
    "* To see how to do analysis, i.e. make a sky image and spectrum, see [cta_data_analysis.ipynb](cta_data_analysis.ipynb) next.\n",
    "* More tutorials (not 1DC or CTA specific) with Gammapy are [here](../index.ipynb).\n",
    "\n",
    "## Next steps for Gammapy\n",
    "\n",
    "Gammapy is a very young and active problem. Based on the first look at the CTA 1DC, here's a list of major next steps, things to be implemented to support CTA data analysis better:\n",
    "\n",
    "* Implement a new class to load the background model (e.g. call it ``gammapy.irf.Background3D``, following ``gammapy.irf.EffectiveArea2D`` as an example)\n",
    "* Add support for background modeling via the ``gammapy.irf.Background3D`` template in 1D, 2D and 3D analysis.\n",
    "* Implement a proper modeling package (started in `gammapy.utils.modeling`), support the model XML formats (and preferably also a human-friendly format in addition like the YAML we use in gamma-cat).\n",
    "* Fix little bugs we've noticed with CTA 1DC data (e.g. with the computing an average PSF or applying the maximum field of view cut during map production).\n",
    "* An example how to make all-sky counts images of all CTA 1DC data is [here](https://github.com/gammasky/cta-dc/blob/master/data/cta_1dc_make_allsky_images.py). Note that processing the ~20 GB of FITS events data currently takes ~30 min on my machine. This is unreasonably slow, it should just take a minute. If someone is willing to see if the bottleneck is in ``astropy.io.fits`` or ``astropy.table`` or ``astropy.wcs`` or ``numpy.histogram`` or in Gammapy, that would be great. Note that ``astropy.table.Table`` also supports HDF5, so changing from FITS to HDF5 and seeing how I/O performance changes could be interesting."
   ]
  },
  {
   "cell_type": "code",
   "execution_count": null,
   "metadata": {
    "collapsed": true
   },
   "outputs": [],
   "source": []
  }
 ],
 "metadata": {
  "kernelspec": {
   "display_name": "Python 3",
   "language": "python",
   "name": "python3"
  },
  "language_info": {
   "codemirror_mode": {
    "name": "ipython",
    "version": 3
   },
   "file_extension": ".py",
   "mimetype": "text/x-python",
   "name": "python",
   "nbconvert_exporter": "python",
   "pygments_lexer": "ipython3",
   "version": "3.6.2"
  }
 },
 "nbformat": 4,
 "nbformat_minor": 1
}
