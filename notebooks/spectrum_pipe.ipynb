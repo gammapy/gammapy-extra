{
 "cells": [
  {
   "cell_type": "markdown",
   "metadata": {
    "deletable": true,
    "editable": true
   },
   "source": [
    "# Spectrum analysis with Gammapy (run pipeline)\n",
    "\n",
    "In this tutorial we will learn how to perform a 1d spectral analysis.\n",
    "\n",
    "We will use a \"pipeline\" or \"workflow\" class to run a standard analysis. If you're interested in implementation detail of the analysis in order to create a custom analysis class, you should read ([spectrum_analysis.ipynb](spectrum_analysis.ipynb)) that executes the analysis using lower-level classes and methods in Gammapy. \n",
    "\n",
    "In this tutorial we will use the folling Gammapy classes:\n",
    "\n",
    "- [gammapy.data.DataStore](http://docs.gammapy.org/en/latest/api/gammapy.data.DataStore.html) to load the data to \n",
    "- [gammapy.scripts.SpectrumAnalysisIACT](http://docs.gammapy.org/en/latest/api/gammapy.scripts.SpectrumAnalysisIACT.html) to run the analysis\n",
    "\n",
    "We use 4 Crab observations from H.E.S.S. for testing."
   ]
  },
  {
   "cell_type": "markdown",
   "metadata": {
    "deletable": true,
    "editable": true
   },
   "source": [
    "## Setup\n",
    "\n",
    "As usual, we'll start with some setup for the notebook, and import the functionality we need."
   ]
  },
  {
   "cell_type": "code",
   "execution_count": 1,
   "metadata": {
    "collapsed": false,
    "deletable": true,
    "editable": true
   },
   "outputs": [],
   "source": [
    "%matplotlib inline\n",
    "import numpy as np\n",
    "import matplotlib.pyplot as plt\n",
    "\n",
    "from gammapy.data import DataStore\n",
    "from gammapy.scripts import SpectrumAnalysisIACT\n",
    "\n",
    "# Convenience classes to define analsys inputs\n",
    "# At some point we'll add a convenience layer to run the analysis starting from a config file.\n",
    "from gammapy.utils.energy import EnergyBounds\n",
    "from gammapy.image import SkyImage\n",
    "from gammapy.spectrum import models\n",
    "from regions import CircleSkyRegion\n",
    "from astropy.coordinates import SkyCoord\n",
    "import astropy.units as u"
   ]
  },
  {
   "cell_type": "markdown",
   "metadata": {
    "deletable": true,
    "editable": true
   },
   "source": [
    "## Select data\n",
    "\n",
    "First, we select and load some H.E.S.S. data (simulated events for now). In real life you would do something fancy here, or just use the list of observations someone send you (and hope they have done something fancy before). We'll just use the standard gammapy 4 crab runs."
   ]
  },
  {
   "cell_type": "code",
   "execution_count": 2,
   "metadata": {
    "collapsed": false,
    "deletable": true,
    "editable": true
   },
   "outputs": [
    {
     "name": "stdout",
     "output_type": "stream",
     "text": [
      "Use observations [23523 23526 23559 23592]\n"
     ]
    }
   ],
   "source": [
    "# TODO: Replace with public data release\n",
    "store_dir = '$GAMMAPY_EXTRA/datasets/hess-crab4-hd-hap-prod2'\n",
    "data_store = DataStore.from_dir(store_dir)\n",
    "obs_id = data_store.obs_table['OBS_ID'].data\n",
    "print(\"Use observations {}\".format(obs_id))\n",
    "\n",
    "obs_list = data_store.obs_list(obs_id)"
   ]
  },
  {
   "cell_type": "markdown",
   "metadata": {
    "deletable": true,
    "editable": true
   },
   "source": [
    "## Configure the analysis\n",
    "\n",
    "Now we'll define the input for the spectrum analysis. It will be done the python way, i.e. by instantiating the ``SpectrumAnalysisIACT`` using python objects. We plan to add also the convenience to configure the analysis using a config file."
   ]
  },
  {
   "cell_type": "code",
   "execution_count": 3,
   "metadata": {
    "collapsed": false,
    "deletable": true,
    "editable": true
   },
   "outputs": [],
   "source": [
    "# on region\n",
    "crab_pos = SkyCoord.from_name('crab')\n",
    "on_region = CircleSkyRegion(crab_pos, 0.15 * u.deg)\n",
    "\n",
    "# fit model\n",
    "model = models.LogParabola(alpha = 2.3,\n",
    "                           beta = 0,\n",
    "                           amplitude = 1e-11 * u.Unit('cm-2 s-1 TeV-1'),\n",
    "                           reference = 1 * u.TeV)\n",
    "\n",
    "# flux points\n",
    "flux_point_binning = EnergyBounds.equal_log_spacing(0.7, 30, 5, u.TeV)\n",
    "\n",
    "# exclusion mask\n",
    "exclusion_mask = SkyImage.read('$GAMMAPY_EXTRA/datasets/exclusion_masks/tevcat_exclusion.fits')\n",
    "\n",
    "# Options to be used for the individual analysis steps (optional)\n",
    "background_kwargs = dict(\n",
    "    exclusion_mask=exclusion_mask,\n",
    "    min_distance = 0.1 * u.rad)\n",
    "\n",
    "extraction_kwargs = dict(\n",
    "    containment_correction = True)\n",
    "\n",
    "fit_kwargs = dict(\n",
    "    stat = 'wstat',\n",
    "    forward_folded = True)\n",
    "\n",
    "# Options for the Pipeline\n",
    "pipeline_kwargs = dict(\n",
    "    stacked=True,\n",
    "    outdir=None,\n",
    "    clobber=False)"
   ]
  },
  {
   "cell_type": "markdown",
   "metadata": {
    "deletable": true,
    "editable": true
   },
   "source": [
    "## Run the analysis\n",
    "\n",
    "TODO: Clean up the log (partly done, get rid of remaining useless warnings)"
   ]
  },
  {
   "cell_type": "code",
   "execution_count": 4,
   "metadata": {
    "collapsed": false,
    "deletable": true,
    "editable": true
   },
   "outputs": [
    {
     "name": "stderr",
     "output_type": "stream",
     "text": [
      "INFO:gammapy.background.reflected:Running ReflectedRegionsBackgroundEstimator\n",
      "Region: CircleSkyRegion\n",
      "center: <SkyCoord (ICRS): (ra, dec) in deg\n",
      "    ( 83.6332124,  22.0144601)>\n",
      "radius: 0.15 deg\n",
      "<gammapy.background.reflected.ReflectedRegionsFinder object at 0x7efc09798150>\n",
      "INFO:gammapy.background.reflected:Processing observation Info for OBS_ID = 23523\n",
      "- Start time: 53343.92\n",
      "- Pointing pos: RA 83.63 deg / Dec 21.51 deg\n",
      "- Observation duration: 1687.0 s\n",
      "- Dead-time fraction: 6.240 %\n",
      "\n",
      "INFO:gammapy.background.reflected:Found 7 reflected regions\n",
      "INFO:gammapy.background.reflected:Processing observation Info for OBS_ID = 23526\n",
      "- Start time: 53343.95\n",
      "- Pointing pos: RA 83.63 deg / Dec 22.51 deg\n",
      "- Observation duration: 1683.0 s\n",
      "- Dead-time fraction: 6.555 %\n",
      "\n",
      "INFO:gammapy.background.reflected:Found 7 reflected regions\n",
      "INFO:gammapy.background.reflected:Processing observation Info for OBS_ID = 23559\n",
      "- Start time: 53345.96\n",
      "- Pointing pos: RA 85.25 deg / Dec 22.01 deg\n",
      "- Observation duration: 1686.0 s\n",
      "- Dead-time fraction: 6.398 %\n",
      "\n",
      "INFO:gammapy.background.reflected:Found 19 reflected regions\n",
      "INFO:gammapy.background.reflected:Processing observation Info for OBS_ID = 23592\n",
      "- Start time: 53347.91\n",
      "- Pointing pos: RA 82.01 deg / Dec 22.01 deg\n",
      "- Observation duration: 1686.0 s\n",
      "- Dead-time fraction: 6.212 %\n",
      "\n",
      "INFO:gammapy.background.reflected:Found 17 reflected regions\n",
      "INFO:gammapy.spectrum.extract:Running <gammapy.spectrum.extract.SpectrumExtraction object at 0x7efc09798190>\n",
      "INFO:gammapy.spectrum.extract:Process observation\n",
      " Info for OBS_ID = 23523\n",
      "- Start time: 53343.92\n",
      "- Pointing pos: RA 83.63 deg / Dec 21.51 deg\n",
      "- Observation duration: 1687.0 s\n",
      "- Dead-time fraction: 6.240 %\n",
      "\n",
      "INFO:gammapy.spectrum.extract:Update observation meta info\n",
      "INFO:gammapy.spectrum.extract:Offset : 0.500015760997 deg\n",
      "\n",
      "INFO:gammapy.spectrum.extract:Fill events\n",
      "INFO:gammapy.spectrum.extract:Extract IRFs\n",
      "/home/kingj/Software/miniconda3/envs/headversions/lib/python2.7/site-packages/astropy/units/quantity.py:951: RuntimeWarning: invalid value encountered in true_divide\n",
      "  return super(Quantity, self).__truediv__(other)\n",
      "INFO:gammapy.spectrum.extract:Apply containment correction\n",
      "WARNING:gammapy.irf.psf_analytical:No safe energy thresholds found. Setting to default\n",
      "/home/kingj/Software/gammapy/gammapy/image/models/gauss.py:254: RuntimeWarning: invalid value encountered in true_divide\n",
      "  self.norms /= self.integral\n",
      "/home/kingj/Software/gammapy/gammapy/irf/psf_table.py:378: RuntimeWarning: invalid value encountered in less_equal\n",
      "  i = (np.diff(y) <= 0).argmax()\n",
      "WARNING:gammapy.spectrum.extract:Containment correction failed for bin 0, energy 0.0106605049898 TeV.\n",
      "WARNING:gammapy.spectrum.extract:Containment correction failed for bin 1, energy 0.0121152765863 TeV.\n",
      "WARNING:gammapy.spectrum.extract:Containment correction failed for bin 2, energy 0.0137685716485 TeV.\n",
      "WARNING:gammapy.spectrum.extract:Containment correction failed for bin 3, energy 0.0156474814166 TeV.\n",
      "WARNING:gammapy.spectrum.extract:Containment correction failed for bin 4, energy 0.0177827941004 TeV.\n",
      "WARNING:gammapy.spectrum.extract:Containment correction failed for bin 5, energy 0.0202094993819 TeV.\n",
      "WARNING:gammapy.spectrum.extract:Containment correction failed for bin 6, energy 0.0229673617634 TeV.\n",
      "WARNING:gammapy.spectrum.extract:Containment correction failed for bin 7, energy 0.0261015721568 TeV.\n",
      "WARNING:gammapy.spectrum.extract:Containment correction failed for bin 8, energy 0.0296634883918 TeV.\n",
      "WARNING:gammapy.spectrum.extract:Containment correction failed for bin 9, energy 0.0337114767755 TeV.\n",
      "WARNING:gammapy.spectrum.extract:Containment correction failed for bin 10, energy 0.0383118684956 TeV.\n",
      "WARNING:gammapy.spectrum.extract:Containment correction failed for bin 11, energy 0.0435400465366 TeV.\n",
      "WARNING:gammapy.spectrum.extract:Containment correction failed for bin 12, energy 0.0494816809216 TeV.\n",
      "WARNING:gammapy.spectrum.extract:Containment correction failed for bin 13, energy 0.056234132519 TeV.\n",
      "WARNING:gammapy.spectrum.extract:Containment correction failed for bin 14, energy 0.0639080484186 TeV.\n",
      "WARNING:gammapy.spectrum.extract:Containment correction failed for bin 15, energy 0.0726291750174 TeV.\n",
      "WARNING:gammapy.spectrum.extract:Containment correction failed for bin 16, energy 0.0825404185268 TeV.\n",
      "WARNING:gammapy.spectrum.extract:Containment correction failed for bin 17, energy 0.093804186664 TeV.\n",
      "WARNING:gammapy.spectrum.extract:Containment correction failed for bin 18, energy 0.106605049898 TeV.\n",
      "WARNING:gammapy.spectrum.extract:Containment correction failed for bin 19, energy 0.121152765863 TeV.\n",
      "WARNING:gammapy.spectrum.extract:Containment correction failed for bin 20, energy 0.137685716485 TeV.\n",
      "WARNING:gammapy.spectrum.extract:Containment correction failed for bin 21, energy 0.156474814166 TeV.\n",
      "WARNING:gammapy.spectrum.extract:Containment correction failed for bin 22, energy 0.177827941004 TeV.\n",
      "WARNING:gammapy.spectrum.extract:Containment correction failed for bin 23, energy 0.202094993819 TeV.\n",
      "WARNING:gammapy.spectrum.extract:Containment correction failed for bin 24, energy 0.229673617634 TeV.\n",
      "INFO:gammapy.spectrum.extract:Process observation\n",
      " Info for OBS_ID = 23526\n",
      "- Start time: 53343.95\n",
      "- Pointing pos: RA 83.63 deg / Dec 22.51 deg\n",
      "- Observation duration: 1683.0 s\n",
      "- Dead-time fraction: 6.555 %\n",
      "\n",
      "INFO:gammapy.spectrum.extract:Update observation meta info\n",
      "INFO:gammapy.spectrum.extract:Offset : 0.499984263304 deg\n",
      "\n",
      "INFO:gammapy.spectrum.extract:Fill events\n",
      "INFO:gammapy.spectrum.extract:Extract IRFs\n",
      "INFO:gammapy.spectrum.extract:Apply containment correction\n",
      "WARNING:gammapy.irf.psf_analytical:No safe energy thresholds found. Setting to default\n",
      "WARNING:gammapy.spectrum.extract:Containment correction failed for bin 0, energy 0.0106605049898 TeV.\n",
      "WARNING:gammapy.spectrum.extract:Containment correction failed for bin 1, energy 0.0121152765863 TeV.\n",
      "WARNING:gammapy.spectrum.extract:Containment correction failed for bin 2, energy 0.0137685716485 TeV.\n",
      "WARNING:gammapy.spectrum.extract:Containment correction failed for bin 3, energy 0.0156474814166 TeV.\n",
      "WARNING:gammapy.spectrum.extract:Containment correction failed for bin 4, energy 0.0177827941004 TeV.\n",
      "WARNING:gammapy.spectrum.extract:Containment correction failed for bin 5, energy 0.0202094993819 TeV.\n",
      "WARNING:gammapy.spectrum.extract:Containment correction failed for bin 6, energy 0.0229673617634 TeV.\n",
      "WARNING:gammapy.spectrum.extract:Containment correction failed for bin 7, energy 0.0261015721568 TeV.\n",
      "WARNING:gammapy.spectrum.extract:Containment correction failed for bin 8, energy 0.0296634883918 TeV.\n",
      "WARNING:gammapy.spectrum.extract:Containment correction failed for bin 9, energy 0.0337114767755 TeV.\n",
      "WARNING:gammapy.spectrum.extract:Containment correction failed for bin 10, energy 0.0383118684956 TeV.\n",
      "WARNING:gammapy.spectrum.extract:Containment correction failed for bin 11, energy 0.0435400465366 TeV.\n",
      "WARNING:gammapy.spectrum.extract:Containment correction failed for bin 12, energy 0.0494816809216 TeV.\n",
      "WARNING:gammapy.spectrum.extract:Containment correction failed for bin 13, energy 0.056234132519 TeV.\n",
      "WARNING:gammapy.spectrum.extract:Containment correction failed for bin 14, energy 0.0639080484186 TeV.\n",
      "WARNING:gammapy.spectrum.extract:Containment correction failed for bin 15, energy 0.0726291750174 TeV.\n",
      "WARNING:gammapy.spectrum.extract:Containment correction failed for bin 16, energy 0.0825404185268 TeV.\n",
      "WARNING:gammapy.spectrum.extract:Containment correction failed for bin 17, energy 0.093804186664 TeV.\n",
      "WARNING:gammapy.spectrum.extract:Containment correction failed for bin 18, energy 0.106605049898 TeV.\n",
      "WARNING:gammapy.spectrum.extract:Containment correction failed for bin 19, energy 0.121152765863 TeV.\n",
      "WARNING:gammapy.spectrum.extract:Containment correction failed for bin 20, energy 0.137685716485 TeV.\n",
      "WARNING:gammapy.spectrum.extract:Containment correction failed for bin 21, energy 0.156474814166 TeV.\n",
      "WARNING:gammapy.spectrum.extract:Containment correction failed for bin 22, energy 0.177827941004 TeV.\n",
      "WARNING:gammapy.spectrum.extract:Containment correction failed for bin 23, energy 0.202094993819 TeV.\n",
      "WARNING:gammapy.spectrum.extract:Containment correction failed for bin 24, energy 0.229673617634 TeV.\n",
      "INFO:gammapy.spectrum.extract:Process observation\n",
      " Info for OBS_ID = 23559\n",
      "- Start time: 53345.96\n",
      "- Pointing pos: RA 85.25 deg / Dec 22.01 deg\n",
      "- Observation duration: 1686.0 s\n",
      "- Dead-time fraction: 6.398 %\n",
      "\n",
      "INFO:gammapy.spectrum.extract:Update observation meta info\n",
      "INFO:gammapy.spectrum.extract:Offset : 1.50199046726 deg\n",
      "\n",
      "INFO:gammapy.spectrum.extract:Fill events\n",
      "INFO:gammapy.spectrum.extract:Extract IRFs\n",
      "INFO:gammapy.spectrum.extract:Apply containment correction\n",
      "WARNING:gammapy.irf.psf_analytical:No safe energy thresholds found. Setting to default\n",
      "WARNING:gammapy.spectrum.extract:Containment correction failed for bin 0, energy 0.0106605049898 TeV.\n",
      "WARNING:gammapy.spectrum.extract:Containment correction failed for bin 1, energy 0.0121152765863 TeV.\n",
      "WARNING:gammapy.spectrum.extract:Containment correction failed for bin 2, energy 0.0137685716485 TeV.\n",
      "WARNING:gammapy.spectrum.extract:Containment correction failed for bin 3, energy 0.0156474814166 TeV.\n",
      "WARNING:gammapy.spectrum.extract:Containment correction failed for bin 4, energy 0.0177827941004 TeV.\n",
      "WARNING:gammapy.spectrum.extract:Containment correction failed for bin 5, energy 0.0202094993819 TeV.\n",
      "WARNING:gammapy.spectrum.extract:Containment correction failed for bin 6, energy 0.0229673617634 TeV.\n",
      "WARNING:gammapy.spectrum.extract:Containment correction failed for bin 7, energy 0.0261015721568 TeV.\n",
      "WARNING:gammapy.spectrum.extract:Containment correction failed for bin 8, energy 0.0296634883918 TeV.\n",
      "WARNING:gammapy.spectrum.extract:Containment correction failed for bin 9, energy 0.0337114767755 TeV.\n",
      "WARNING:gammapy.spectrum.extract:Containment correction failed for bin 10, energy 0.0383118684956 TeV.\n",
      "WARNING:gammapy.spectrum.extract:Containment correction failed for bin 11, energy 0.0435400465366 TeV.\n",
      "WARNING:gammapy.spectrum.extract:Containment correction failed for bin 12, energy 0.0494816809216 TeV.\n",
      "WARNING:gammapy.spectrum.extract:Containment correction failed for bin 13, energy 0.056234132519 TeV.\n",
      "WARNING:gammapy.spectrum.extract:Containment correction failed for bin 14, energy 0.0639080484186 TeV.\n",
      "WARNING:gammapy.spectrum.extract:Containment correction failed for bin 15, energy 0.0726291750174 TeV.\n",
      "WARNING:gammapy.spectrum.extract:Containment correction failed for bin 16, energy 0.0825404185268 TeV.\n",
      "WARNING:gammapy.spectrum.extract:Containment correction failed for bin 17, energy 0.093804186664 TeV.\n",
      "WARNING:gammapy.spectrum.extract:Containment correction failed for bin 18, energy 0.106605049898 TeV.\n",
      "WARNING:gammapy.spectrum.extract:Containment correction failed for bin 19, energy 0.121152765863 TeV.\n",
      "WARNING:gammapy.spectrum.extract:Containment correction failed for bin 20, energy 0.137685716485 TeV.\n",
      "WARNING:gammapy.spectrum.extract:Containment correction failed for bin 21, energy 0.156474814166 TeV.\n",
      "WARNING:gammapy.spectrum.extract:Containment correction failed for bin 22, energy 0.177827941004 TeV.\n",
      "WARNING:gammapy.spectrum.extract:Containment correction failed for bin 23, energy 0.202094993819 TeV.\n",
      "WARNING:gammapy.spectrum.extract:Containment correction failed for bin 24, energy 0.229673617634 TeV.\n",
      "INFO:gammapy.spectrum.extract:Process observation\n",
      " Info for OBS_ID = 23592\n",
      "- Start time: 53347.91\n",
      "- Pointing pos: RA 82.01 deg / Dec 22.01 deg\n",
      "- Observation duration: 1686.0 s\n",
      "- Dead-time fraction: 6.212 %\n",
      "\n",
      "INFO:gammapy.spectrum.extract:Update observation meta info\n",
      "INFO:gammapy.spectrum.extract:Offset : 1.50176293766 deg\n",
      "\n",
      "INFO:gammapy.spectrum.extract:Fill events\n",
      "INFO:gammapy.spectrum.extract:Extract IRFs\n",
      "INFO:gammapy.spectrum.extract:Apply containment correction\n",
      "WARNING:gammapy.irf.psf_analytical:No safe energy thresholds found. Setting to default\n",
      "WARNING:gammapy.spectrum.extract:Containment correction failed for bin 0, energy 0.0106605049898 TeV.\n",
      "WARNING:gammapy.spectrum.extract:Containment correction failed for bin 1, energy 0.0121152765863 TeV.\n",
      "WARNING:gammapy.spectrum.extract:Containment correction failed for bin 2, energy 0.0137685716485 TeV.\n",
      "WARNING:gammapy.spectrum.extract:Containment correction failed for bin 3, energy 0.0156474814166 TeV.\n",
      "WARNING:gammapy.spectrum.extract:Containment correction failed for bin 4, energy 0.0177827941004 TeV.\n",
      "WARNING:gammapy.spectrum.extract:Containment correction failed for bin 5, energy 0.0202094993819 TeV.\n",
      "WARNING:gammapy.spectrum.extract:Containment correction failed for bin 6, energy 0.0229673617634 TeV.\n",
      "WARNING:gammapy.spectrum.extract:Containment correction failed for bin 7, energy 0.0261015721568 TeV.\n",
      "WARNING:gammapy.spectrum.extract:Containment correction failed for bin 8, energy 0.0296634883918 TeV.\n",
      "WARNING:gammapy.spectrum.extract:Containment correction failed for bin 9, energy 0.0337114767755 TeV.\n",
      "WARNING:gammapy.spectrum.extract:Containment correction failed for bin 10, energy 0.0383118684956 TeV.\n",
      "WARNING:gammapy.spectrum.extract:Containment correction failed for bin 11, energy 0.0435400465366 TeV.\n",
      "WARNING:gammapy.spectrum.extract:Containment correction failed for bin 12, energy 0.0494816809216 TeV.\n",
      "WARNING:gammapy.spectrum.extract:Containment correction failed for bin 13, energy 0.056234132519 TeV.\n",
      "WARNING:gammapy.spectrum.extract:Containment correction failed for bin 14, energy 0.0639080484186 TeV.\n",
      "WARNING:gammapy.spectrum.extract:Containment correction failed for bin 15, energy 0.0726291750174 TeV.\n",
      "WARNING:gammapy.spectrum.extract:Containment correction failed for bin 16, energy 0.0825404185268 TeV.\n",
      "WARNING:gammapy.spectrum.extract:Containment correction failed for bin 17, energy 0.093804186664 TeV.\n",
      "WARNING:gammapy.spectrum.extract:Containment correction failed for bin 18, energy 0.106605049898 TeV.\n",
      "WARNING:gammapy.spectrum.extract:Containment correction failed for bin 19, energy 0.121152765863 TeV.\n",
      "WARNING:gammapy.spectrum.extract:Containment correction failed for bin 20, energy 0.137685716485 TeV.\n",
      "WARNING:gammapy.spectrum.extract:Containment correction failed for bin 21, energy 0.156474814166 TeV.\n",
      "WARNING:gammapy.spectrum.extract:Containment correction failed for bin 22, energy 0.177827941004 TeV.\n",
      "WARNING:gammapy.spectrum.extract:Containment correction failed for bin 23, energy 0.202094993819 TeV.\n",
      "WARNING:gammapy.spectrum.extract:Containment correction failed for bin 24, energy 0.229673617634 TeV.\n",
      "INFO:gammapy.spectrum.observation:Running SpectrumObservationStacker\n",
      "SpectrumObservationList\n",
      "Number of observations: 4\n",
      "/home/kingj/Software/gammapy/gammapy/spectrum/observation.py:727: RuntimeWarning: invalid value encountered in true_divide\n",
      "  stacked_bkscal_off = self.stacked_off_vector.data.data.value / bkscal_off\n",
      "INFO:gammapy.spectrum.fit:Running SpectrumFit\n",
      "Source model LogParabola\n",
      "ParameterList\n",
      "Parameter(name=u'amplitude', value=1e-11, unit=Unit(\"1 / (cm2 s TeV)\"), min=0, max=None, frozen=False)\n",
      "Parameter(name=u'reference', value=1.0, unit=Unit(\"TeV\"), min=None, max=None, frozen=True)\n",
      "Parameter(name=u'alpha', value=2.3, unit=u'', min=None, max=None, frozen=False)\n",
      "Parameter(name=u'beta', value=0, unit=u'', min=None, max=None, frozen=False)\n",
      "\n",
      "Covariance: None\n",
      "Stat wstat\n",
      "Forward Folded True\n",
      "Fit range None\n",
      "Backend sherpa\n",
      "Error Backend sherpa\n"
     ]
    }
   ],
   "source": [
    "ana = SpectrumAnalysisIACT.configure(observations=obs_list,\n",
    "                                     on_region=on_region,\n",
    "                                     model = model,\n",
    "                                     fp_binning = flux_point_binning,\n",
    "                                     background_kwargs = background_kwargs,\n",
    "                                     extraction_kwargs = extraction_kwargs,\n",
    "                                     fit_kwargs = fit_kwargs,\n",
    "                                     pipeline_kwargs=pipeline_kwargs,\n",
    "                                     )\n",
    "ana.run()\n"
   ]
  },
  {
   "cell_type": "markdown",
   "metadata": {
    "deletable": true,
    "editable": true
   },
   "source": [
    "## Check out the results\n",
    "\n",
    "TODO: Nice summary page with all results"
   ]
  },
  {
   "cell_type": "code",
   "execution_count": 5,
   "metadata": {
    "collapsed": false,
    "deletable": true,
    "editable": true
   },
   "outputs": [
    {
     "name": "stdout",
     "output_type": "stream",
     "text": [
      "\n",
      "Fit result info \n",
      "--------------- \n",
      "Model: LogParabola\n",
      "ParameterList\n",
      "Parameter(name=u'amplitude', value=2.2743542344241086e-11, unit=Unit(\"1 / (cm2 s TeV)\"), min=0, max=None, frozen=False)\n",
      "Parameter(name=u'reference', value=1.0, unit=Unit(\"TeV\"), min=None, max=None, frozen=True)\n",
      "Parameter(name=u'alpha', value=1.7355189669471962, unit=u'', min=None, max=None, frozen=False)\n",
      "Parameter(name=u'beta', value=0.24499638979160396, unit=u'', min=None, max=None, frozen=False)\n",
      "\n",
      "Covariance: [[  1.40794560e-24   0.00000000e+00   3.07465946e-14   3.86123120e-15]\n",
      " [  0.00000000e+00   0.00000000e+00   0.00000000e+00   0.00000000e+00]\n",
      " [  3.07465946e-14   0.00000000e+00   1.11334736e-02  -4.81490661e-03]\n",
      " [  3.86123120e-15   0.00000000e+00  -4.81490661e-03   2.87896770e-03]] \n",
      "\n",
      "Statistic: 50.552 (wstat)\n",
      "Fit Range: [   0.46415888  100.        ] TeV\n",
      "\n"
     ]
    }
   ],
   "source": [
    "print(ana.fit.result[0])"
   ]
  },
  {
   "cell_type": "code",
   "execution_count": 6,
   "metadata": {
    "collapsed": false,
    "deletable": true,
    "editable": true
   },
   "outputs": [
    {
     "data": {
      "text/plain": [
       "(<matplotlib.axes._subplots.AxesSubplot at 0x7efc049cc550>,\n",
       " <matplotlib.axes._subplots.AxesSubplot at 0x7efc04913850>)"
      ]
     },
     "execution_count": 6,
     "metadata": {},
     "output_type": "execute_result"
    },
    {
     "data": {
      "image/png": "[encoded data removed]",
      "text/plain": [
       "<matplotlib.figure.Figure at 0x7efc049cff10>"
      ]
     },
     "metadata": {},
     "output_type": "display_data"
    }
   ],
   "source": [
    "ana.spectrum_result.plot(energy_range=[0.6, 30] * u.TeV,\n",
    "                         energy_power=2, flux_unit='erg-1 cm-2 s-1',\n",
    "                         fig_kwargs=dict(figsize = (8,8)))"
   ]
  }
 ],
 "metadata": {
  "kernelspec": {
   "display_name": "Python 2",
   "language": "python",
   "name": "python2"
  },
  "language_info": {
   "codemirror_mode": {
    "name": "ipython",
    "version": 2
   },
   "file_extension": ".py",
   "mimetype": "text/x-python",
   "name": "python",
   "nbconvert_exporter": "python",
   "pygments_lexer": "ipython2",
   "version": "2.7.13"
  }
 },
 "nbformat": 4,
 "nbformat_minor": 2
}
