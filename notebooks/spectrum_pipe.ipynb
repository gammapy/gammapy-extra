{
 "cells": [
  {
   "cell_type": "markdown",
   "metadata": {},
   "source": [
    "# Spectrum analysis with Gammapy (run pipeline)\n",
    "\n",
    "In this tutorial we will learn how to perform a 1d spectral analysis.\n",
    "\n",
    "We will use a \"pipeline\" or \"workflow\" class to run a standard analysis. If you're interested in implementation detail of the analysis in order to create a custom analysis class, you should read ([spectrum_analysis.ipynb](spectrum_analysis.ipynb)) that executes the analysis using lower-level classes and methods in Gammapy. \n",
    "\n",
    "In this tutorial we will use the folling Gammapy classes:\n",
    "\n",
    "- [gammapy.data.DataStore](http://docs.gammapy.org/en/latest/api/gammapy.data.DataStore.html) to load the data to \n",
    "- [gammapy.scripts.SpectrumAnalysisIACT](http://docs.gammapy.org/en/latest/api/gammapy.scripts.SpectrumAnalysisIACT.html) to run the analysis\n",
    "\n",
    "We use 4 Crab observations from H.E.S.S. for testing."
   ]
  },
  {
   "cell_type": "markdown",
   "metadata": {},
   "source": [
    "## Setup\n",
    "\n",
    "As usual, we'll start with some setup for the notebook, and import the functionality we need."
   ]
  },
  {
   "cell_type": "code",
   "execution_count": 1,
   "metadata": {},
   "outputs": [],
   "source": [
    "%matplotlib inline\n",
    "import numpy as np\n",
    "import matplotlib.pyplot as plt\n",
    "\n",
    "from gammapy.data import DataStore\n",
    "from gammapy.scripts import SpectrumAnalysisIACT\n",
    "\n",
    "# Convenience classes to define analsys inputs\n",
    "# At some point we'll add a convenience layer to run the analysis starting from a plain text config file.\n",
    "from gammapy.utils.energy import EnergyBounds\n",
    "from gammapy.image import SkyImage\n",
    "from gammapy.spectrum import models\n",
    "from regions import CircleSkyRegion\n",
    "from astropy.coordinates import SkyCoord\n",
    "import astropy.units as u"
   ]
  },
  {
   "cell_type": "markdown",
   "metadata": {},
   "source": [
    "## Select data\n",
    "\n",
    "First, we select and load some H.E.S.S. data (simulated events for now). In real life you would do something fancy here, or just use the list of observations someone send you (and hope they have done something fancy before). We'll just use the standard gammapy 4 crab runs."
   ]
  },
  {
   "cell_type": "code",
   "execution_count": 2,
   "metadata": {},
   "outputs": [
    {
     "name": "stdout",
     "output_type": "stream",
     "text": [
      "Use observations [23523 23526 23559 23592]\n"
     ]
    }
   ],
   "source": [
    "# TODO: Replace with public data release\n",
    "store_dir = '$GAMMAPY_EXTRA/datasets/hess-crab4-hd-hap-prod2'\n",
    "data_store = DataStore.from_dir(store_dir)\n",
    "obs_id = data_store.obs_table['OBS_ID'].data\n",
    "print(\"Use observations {}\".format(obs_id))\n",
    "\n",
    "obs_list = data_store.obs_list(obs_id)"
   ]
  },
  {
   "cell_type": "markdown",
   "metadata": {},
   "source": [
    "## Configure the analysis\n",
    "\n",
    "Now we'll define the input for the spectrum analysis. It will be done the python way, i.e. by creating a config dict containing python objects. We plan to add also the convenience to configure the analysis using a plain text config file."
   ]
  },
  {
   "cell_type": "code",
   "execution_count": 3,
   "metadata": {},
   "outputs": [],
   "source": [
    "crab_pos = SkyCoord.from_name('crab')\n",
    "on_region = CircleSkyRegion(crab_pos, 0.15 * u.deg)\n",
    "\n",
    "model = models.LogParabola(\n",
    "    alpha = 2.3,\n",
    "    beta = 0,\n",
    "    amplitude = 1e-11 * u.Unit('cm-2 s-1 TeV-1'),\n",
    "    reference = 1 * u.TeV,\n",
    ")\n",
    "\n",
    "flux_point_binning = EnergyBounds.equal_log_spacing(0.7, 30, 5, u.TeV)\n",
    "\n",
    "exclusion_mask = SkyImage.read('$GAMMAPY_EXTRA/datasets/exclusion_masks/tevcat_exclusion.fits')"
   ]
  },
  {
   "cell_type": "code",
   "execution_count": 4,
   "metadata": {},
   "outputs": [],
   "source": [
    "config = dict(\n",
    "    outdir = None,\n",
    "    background = dict(\n",
    "        on_region=on_region,\n",
    "        exclusion_mask=exclusion_mask,\n",
    "        min_distance = 0.1 * u.rad,\n",
    "    ),\n",
    "    extraction = dict(containment_correction=False),\n",
    "    fit = dict(\n",
    "        model=model,\n",
    "        stat='wstat',\n",
    "        forward_folded=True,\n",
    "        fit_range = flux_point_binning[[0, -1]]\n",
    "    ),\n",
    "    fp_binning=flux_point_binning\n",
    ")"
   ]
  },
  {
   "cell_type": "markdown",
   "metadata": {},
   "source": [
    "## Run the analysis\n",
    "\n",
    "TODO: Clean up the log (partly done, get rid of remaining useless warnings)"
   ]
  },
  {
   "cell_type": "code",
   "execution_count": 5,
   "metadata": {},
   "outputs": [
    {
     "name": "stderr",
     "output_type": "stream",
     "text": [
      "INFO:gammapy.scripts.spectrum_pipe:Running SpectrumAnalysisIACT\n",
      "INFO:gammapy.background.reflected:Running ReflectedRegionsBackgroundEstimator\n",
      "Region: CircleSkyRegion\n",
      "center: <SkyCoord (ICRS): (ra, dec) in deg\n",
      "    ( 83.633212,  22.01446)>\n",
      "radius: 0.15 deg\n",
      "ObservationList\n",
      "Number of observations: 4\n",
      "Info for OBS_ID = 23523\n",
      "- Start time: 53343.92\n",
      "- Pointing pos: RA 83.63 deg / Dec 21.51 deg\n",
      "- Observation duration: 1687.0 s\n",
      "- Dead-time fraction: 6.240 %\n",
      "Info for OBS_ID = 23526\n",
      "- Start time: 53343.95\n",
      "- Pointing pos: RA 83.63 deg / Dec 22.51 deg\n",
      "- Observation duration: 1683.0 s\n",
      "- Dead-time fraction: 6.555 %\n",
      "Info for OBS_ID = 23559\n",
      "- Start time: 53345.96\n",
      "- Pointing pos: RA 85.25 deg / Dec 22.01 deg\n",
      "- Observation duration: 1686.0 s\n",
      "- Dead-time fraction: 6.398 %\n",
      "Info for OBS_ID = 23592\n",
      "- Start time: 53347.91\n",
      "- Pointing pos: RA 82.01 deg / Dec 22.01 deg\n",
      "- Observation duration: 1686.0 s\n",
      "- Dead-time fraction: 6.212 %\n",
      "\n",
      "<gammapy.background.reflected.ReflectedRegionsFinder object at 0x11246b5c0>\n",
      "INFO:gammapy.background.reflected:Processing observation Info for OBS_ID = 23523\n",
      "- Start time: 53343.92\n",
      "- Pointing pos: RA 83.63 deg / Dec 21.51 deg\n",
      "- Observation duration: 1687.0 s\n",
      "- Dead-time fraction: 6.240 %\n",
      "\n",
      "INFO:gammapy.background.reflected:Found 7 reflected regions\n",
      "INFO:gammapy.background.reflected:Processing observation Info for OBS_ID = 23526\n",
      "- Start time: 53343.95\n",
      "- Pointing pos: RA 83.63 deg / Dec 22.51 deg\n",
      "- Observation duration: 1683.0 s\n",
      "- Dead-time fraction: 6.555 %\n",
      "\n",
      "INFO:gammapy.background.reflected:Found 7 reflected regions\n",
      "INFO:gammapy.background.reflected:Processing observation Info for OBS_ID = 23559\n",
      "- Start time: 53345.96\n",
      "- Pointing pos: RA 85.25 deg / Dec 22.01 deg\n",
      "- Observation duration: 1686.0 s\n",
      "- Dead-time fraction: 6.398 %\n",
      "\n",
      "INFO:gammapy.background.reflected:Found 19 reflected regions\n",
      "INFO:gammapy.background.reflected:Processing observation Info for OBS_ID = 23592\n",
      "- Start time: 53347.91\n",
      "- Pointing pos: RA 82.01 deg / Dec 22.01 deg\n",
      "- Observation duration: 1686.0 s\n",
      "- Dead-time fraction: 6.212 %\n",
      "\n",
      "INFO:gammapy.background.reflected:Found 17 reflected regions\n",
      "INFO:gammapy.spectrum.extract:Running <gammapy.spectrum.extract.SpectrumExtraction object at 0x1119d0080>\n",
      "INFO:gammapy.spectrum.extract:Process observation\n",
      " Info for OBS_ID = 23523\n",
      "- Start time: 53343.92\n",
      "- Pointing pos: RA 83.63 deg / Dec 21.51 deg\n",
      "- Observation duration: 1687.0 s\n",
      "- Dead-time fraction: 6.240 %\n",
      "\n",
      "INFO:gammapy.spectrum.extract:Update observation meta info\n",
      "INFO:gammapy.spectrum.extract:Offset : 0.5000156610786867 deg\n",
      "\n",
      "INFO:gammapy.spectrum.extract:Fill events\n",
      "INFO:gammapy.spectrum.extract:Extract IRFs\n",
      "/Users/deil/Library/Python/3.6/lib/python/site-packages/astropy/units/quantity.py:634: RuntimeWarning: invalid value encountered in true_divide\n",
      "  result = super().__array_ufunc__(function, method, *arrays, **kwargs)\n",
      "INFO:gammapy.spectrum.extract:Process observation\n",
      " Info for OBS_ID = 23526\n",
      "- Start time: 53343.95\n",
      "- Pointing pos: RA 83.63 deg / Dec 22.51 deg\n",
      "- Observation duration: 1683.0 s\n",
      "- Dead-time fraction: 6.555 %\n",
      "\n",
      "INFO:gammapy.spectrum.extract:Update observation meta info\n",
      "INFO:gammapy.spectrum.extract:Offset : 0.4999843633857045 deg\n",
      "\n",
      "INFO:gammapy.spectrum.extract:Fill events\n",
      "INFO:gammapy.spectrum.extract:Extract IRFs\n",
      "INFO:gammapy.spectrum.extract:Process observation\n",
      " Info for OBS_ID = 23559\n",
      "- Start time: 53345.96\n",
      "- Pointing pos: RA 85.25 deg / Dec 22.01 deg\n",
      "- Observation duration: 1686.0 s\n",
      "- Dead-time fraction: 6.398 %\n",
      "\n",
      "INFO:gammapy.spectrum.extract:Update observation meta info\n",
      "INFO:gammapy.spectrum.extract:Offset : 1.501990838622691 deg\n",
      "\n",
      "INFO:gammapy.spectrum.extract:Fill events\n",
      "INFO:gammapy.spectrum.extract:Extract IRFs\n",
      "INFO:gammapy.spectrum.extract:Process observation\n",
      " Info for OBS_ID = 23592\n",
      "- Start time: 53347.91\n",
      "- Pointing pos: RA 82.01 deg / Dec 22.01 deg\n",
      "- Observation duration: 1686.0 s\n",
      "- Dead-time fraction: 6.212 %\n",
      "\n",
      "INFO:gammapy.spectrum.extract:Update observation meta info\n",
      "INFO:gammapy.spectrum.extract:Offset : 1.5017625673554083 deg\n",
      "\n",
      "INFO:gammapy.spectrum.extract:Fill events\n",
      "INFO:gammapy.spectrum.extract:Extract IRFs\n",
      "INFO:gammapy.spectrum.fit:Running SpectrumFit\n",
      "Source model LogParabola\n",
      "\n",
      "Parameters: \n",
      "\n",
      "\t   name     value   error       unit      min max frozen\n",
      "\t--------- --------- ----- --------------- --- --- ------\n",
      "\tamplitude 1.000e-11   nan 1 / (cm2 s TeV) nan nan  False\n",
      "\treference 1.000e+00   nan             TeV nan nan   True\n",
      "\t    alpha 2.300e+00   nan                 nan nan  False\n",
      "\t     beta 0.000e+00   nan                 nan nan  False\n",
      "Stat wstat\n",
      "Forward Folded True\n",
      "Fit range [  0.7  30. ] TeV\n",
      "Backend sherpa\n",
      "Error Backend sherpa\n",
      "/Users/deil/code/gammapy/gammapy/stats/fit_statistics.py:161: RuntimeWarning: divide by zero encountered in log\n",
      "  term2_ = - n_on * np.log(mu_sig + alpha * mu_bkg)\n",
      "/Users/deil/code/gammapy/gammapy/stats/fit_statistics.py:166: RuntimeWarning: divide by zero encountered in log\n",
      "  term3_ = - n_off * np.log(mu_bkg)\n",
      "/Users/deil/code/gammapy/gammapy/stats/fit_statistics.py:203: RuntimeWarning: divide by zero encountered in log\n",
      "  term1 = - n_on * (1 - np.log(n_on))\n",
      "/Users/deil/code/gammapy/gammapy/stats/fit_statistics.py:204: RuntimeWarning: divide by zero encountered in log\n",
      "  term2 = - n_off * (1 - np.log(n_off))\n",
      "/Users/deil/code/gammapy/gammapy/stats/poisson.py:383: RuntimeWarning: divide by zero encountered in double_scalars\n",
      "  temp = (alpha + 1) / (n_on + n_off)\n",
      "/Users/deil/code/gammapy/gammapy/stats/poisson.py:384: RuntimeWarning: divide by zero encountered in log\n",
      "  l = n_on * log(n_on * temp / alpha)\n",
      "/Users/deil/code/gammapy/gammapy/stats/poisson.py:385: RuntimeWarning: divide by zero encountered in log\n",
      "  m = n_off * log(n_off * temp)\n"
     ]
    }
   ],
   "source": [
    "ana = SpectrumAnalysisIACT(\n",
    "    observations=obs_list,\n",
    "    config=config,\n",
    ")\n",
    "ana.run()"
   ]
  },
  {
   "cell_type": "markdown",
   "metadata": {},
   "source": [
    "## Check out the results\n",
    "\n",
    "TODO: Nice summary page with all results"
   ]
  },
  {
   "cell_type": "code",
   "execution_count": 6,
   "metadata": {},
   "outputs": [
    {
     "name": "stdout",
     "output_type": "stream",
     "text": [
      "\n",
      "Fit result info \n",
      "--------------- \n",
      "Model: LogParabola\n",
      "\n",
      "Parameters: \n",
      "\n",
      "\t   name     value     error         unit      min max frozen\n",
      "\t--------- --------- --------- --------------- --- --- ------\n",
      "\tamplitude 2.374e-11 1.807e-12 1 / (cm2 s TeV) nan nan  False\n",
      "\treference 1.000e+00 0.000e+00             TeV nan nan   True\n",
      "\t    alpha 1.883e+00 1.770e-01                 nan nan  False\n",
      "\t     beta 1.853e-01 7.857e-02                 nan nan  False\n",
      "\n",
      "Covariance: \n",
      "\n",
      "\tname/name amplitude  alpha      beta  \n",
      "\t--------- --------- -------- ---------\n",
      "\tamplitude  3.26e-24 2.09e-13 -6.22e-14\n",
      "\t    alpha  2.09e-13   0.0313   -0.0128\n",
      "\t     beta -6.22e-14  -0.0128   0.00617 \n",
      "\n",
      "Statistic: 26.058 (wstat)\n",
      "Fit Range: [  0.77426368  27.82559402] TeV\n",
      "\n"
     ]
    }
   ],
   "source": [
    "print(ana.fit.result[0])"
   ]
  },
  {
   "cell_type": "code",
   "execution_count": 7,
   "metadata": {},
   "outputs": [
    {
     "data": {
      "text/plain": [
       "(<matplotlib.axes._subplots.AxesSubplot at 0x138228828>,\n",
       " <matplotlib.axes._subplots.AxesSubplot at 0x138375c50>)"
      ]
     },
     "execution_count": 7,
     "metadata": {},
     "output_type": "execute_result"
    },
    {
     "data": {
      "image/png": "[encoded data removed]",
      "text/plain": [
       "<matplotlib.figure.Figure at 0x138237710>"
      ]
     },
     "metadata": {},
     "output_type": "display_data"
    }
   ],
   "source": [
    "ana.spectrum_result.plot(\n",
    "    energy_range=ana.fit.fit_range,\n",
    "    energy_power=2,\n",
    "    flux_unit='erg-1 cm-2 s-1',\n",
    "    fig_kwargs=dict(figsize = (8,8)),\n",
    ")"
   ]
  },
  {
   "cell_type": "markdown",
   "metadata": {
    "collapsed": true
   },
   "source": [
    "## Exercises\n",
    "\n",
    "Rerun the analysis, changing some aspects of the analysis as you like:\n",
    "\n",
    "* only use one or two observations\n",
    "* a different spectral model\n",
    "* different config options for the spectral analysis\n",
    "* different energy binning for the spectral point computation\n",
    "\n",
    "Observe how the measured spectrum changes."
   ]
  }
 ],
 "metadata": {
  "kernelspec": {
   "display_name": "Python 3",
   "language": "python",
   "name": "python3"
  },
  "language_info": {
   "codemirror_mode": {
    "name": "ipython",
    "version": 3
   },
   "file_extension": ".py",
   "mimetype": "text/x-python",
   "name": "python",
   "nbconvert_exporter": "python",
   "pygments_lexer": "ipython3",
   "version": "3.6.3"
  }
 },
 "nbformat": 4,
 "nbformat_minor": 2
}
