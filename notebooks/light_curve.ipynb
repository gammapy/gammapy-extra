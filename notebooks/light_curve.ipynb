{
 "cells": [
  {
   "cell_type": "markdown",
   "metadata": {},
   "source": [
    "# Example of light curve\n",
    "\n",
    "## Introduction\n",
    "This notebook explain how light curves can be computed with Gammapy. The method implemented follows http://adsabs.harvard.edu/abs/2010A%26A...520A..83H method's. We'll use fake data from the Crab Nebula.\n",
    "\n",
    "## Setup\n",
    "As usual, we'll start with some setup..."
   ]
  },
  {
   "cell_type": "code",
   "execution_count": 1,
   "metadata": {
    "collapsed": false
   },
   "outputs": [],
   "source": [
    "%matplotlib inline\n",
    "import astropy.units as u\n",
    "from astropy.units import Quantity\n",
    "from astropy.coordinates import SkyCoord, Angle\n",
    "\n",
    "from regions import CircleSkyRegion\n",
    "\n",
    "from gammapy.utils.energy import EnergyBounds\n",
    "from gammapy.data import Target, DataStore\n",
    "from gammapy.spectrum import SpectrumExtraction\n",
    "from gammapy.spectrum.models import PowerLaw\n",
    "from gammapy.background import ReflectedRegionsBackgroundEstimator\n",
    "from gammapy.image import SkyImage\n",
    "from gammapy.time import LightCurve, LightCurveEstimator"
   ]
  },
  {
   "cell_type": "markdown",
   "metadata": {},
   "source": [
    "## Extract spectral data\n",
    "First, we will extract the spectral data needed to build the light curve."
   ]
  },
  {
   "cell_type": "code",
   "execution_count": 2,
   "metadata": {
    "collapsed": false
   },
   "outputs": [
    {
     "name": "stderr",
     "output_type": "stream",
     "text": [
      "/Users/julien/anaconda2/lib/python2.7/site-packages/astropy/units/quantity.py:951: RuntimeWarning: invalid value encountered in true_divide\n",
      "  return super(Quantity, self).__truediv__(other)\n"
     ]
    }
   ],
   "source": [
    "# Prepare the data\n",
    "data_store = DataStore.from_dir('$GAMMAPY_EXTRA/datasets/hess-crab4-hd-hap-prod2/')\n",
    "obs_ids = [23523, 23526]\n",
    "obs_list = data_store.obs_list(obs_ids)\n",
    "\n",
    "# Target definition\n",
    "target_position = SkyCoord(ra=83.63308, dec=22.01450, unit='deg')\n",
    "on_region_radius = Angle('0.11 deg')\n",
    "on_region = CircleSkyRegion(center=target_position, radius=on_region_radius)\n",
    "target = Target(on_region=on_region, name='Crab', tag='ana_crab')\n",
    "\n",
    "# Exclusion regions\n",
    "exclusion_file = '$GAMMAPY_EXTRA/datasets/exclusion_masks/tevcat_exclusion.fits'\n",
    "allsky_mask = SkyImage.read(exclusion_file)\n",
    "exclusion_mask = allsky_mask.cutout(\n",
    "    position=target.on_region.center,\n",
    "    size=Angle('6 deg'),\n",
    ")\n",
    "\n",
    "# Estimation of the background\n",
    "bkg_estimator = ReflectedRegionsBackgroundEstimator(on_region=on_region,\n",
    "                                                    obs_list=obs_list,\n",
    "                                                    exclusion_mask=exclusion_mask)\n",
    "bkg_estimator.run()\n",
    "\n",
    "# Extract the spectral data\n",
    "e_reco = EnergyBounds.equal_log_spacing(0.2, 100, 50, unit='TeV')  # fine binning\n",
    "e_true = EnergyBounds.equal_log_spacing(0.05, 100, 200, unit='TeV')\n",
    "extraction = SpectrumExtraction(obs_list=obs_list,\n",
    "                                bkg_estimate=bkg_estimator.result,\n",
    "                                containment_correction=False,\n",
    "                                e_reco=e_reco,\n",
    "                                e_true=e_true)\n",
    "extraction.run()\n",
    "extraction.compute_energy_threshold(method_lo='area_max', area_percent_lo=10.0)"
   ]
  },
  {
   "cell_type": "markdown",
   "metadata": {},
   "source": [
    "## Light curve estimation"
   ]
  },
  {
   "cell_type": "code",
   "execution_count": 3,
   "metadata": {
    "collapsed": false
   },
   "outputs": [],
   "source": [
    "lc_estimator = LightCurveEstimator(extraction)\n",
    "\n",
    "# Define the time intervals. Here, we only select intervals corresponding to an observation\n",
    "intervals = []\n",
    "for obs in extraction.obs_list:\n",
    "    intervals.append([obs.events.time[0], obs.events.time[-1]])\n",
    "\n",
    "# Model to compute the expected counts (generally, parameters come from the fit)\n",
    "model = PowerLaw(\n",
    "    index=2.3 * u.Unit(''),\n",
    "    amplitude=3.4e-11 * u.Unit('1 / (cm2 s TeV)'),\n",
    "    reference=1 * u.TeV,\n",
    ")\n",
    "\n",
    "# Estimation of the light curve\n",
    "lc = lc_estimator.light_curve(\n",
    "    time_intervals=intervals,\n",
    "    spectral_model=model,\n",
    "    energy_range=[0.5, 100] * u.TeV,\n",
    ")\n"
   ]
  },
  {
   "cell_type": "markdown",
   "metadata": {
    "collapsed": true
   },
   "source": [
    "##### Results\n",
    "The resulting objects is table. Attributs can be accessed as follow (something's not good with measured/expected excess):"
   ]
  },
  {
   "cell_type": "code",
   "execution_count": 6,
   "metadata": {
    "collapsed": false
   },
   "outputs": [
    {
     "name": "stdout",
     "output_type": "stream",
     "text": [
      "['TIME_MIN', 'TIME_MAX', 'FLUX', 'FLUX_ERR', 'LIVETIME', 'N_ON', 'N_OFF', 'ALPHA', 'MEASURED_EXCESS', 'EXPECTED_EXCESS']\n"
     ]
    },
    {
     "data": {
      "text/html": [
       "&lt;LightCurve length=2&gt;\n",
       "<table id=\"table4653586576\" class=\"table-striped table-bordered table-condensed\">\n",
       "<thead><tr><th>TIME_MIN</th><th>TIME_MAX</th><th>FLUX</th><th>FLUX_ERR</th><th>MEASURED_EXCESS</th><th>EXPECTED_EXCESS</th></tr></thead>\n",
       "<thead><tr><th></th><th></th><th>1 / (cm2 s)</th><th>1 / (cm2 s)</th><th></th><th></th></tr></thead>\n",
       "<thead><tr><th>object</th><th>object</th><th>float64</th><th>float64</th><th>float64</th><th>float64</th></tr></thead>\n",
       "<tr><td>53343.9210069</td><td>53343.9405019</td><td>2.85172438778e-11</td><td>5.43450927144e-12</td><td>144.181818182</td><td>325.262681954</td></tr>\n",
       "<tr><td>53343.9530032</td><td>53343.9724047</td><td>2.86260636957e-11</td><td>5.28811312271e-12</td><td>153.636363636</td><td>345.273841461</td></tr>\n",
       "</table>"
      ],
      "text/plain": [
       "<LightCurve length=2>\n",
       "   TIME_MIN      TIME_MAX   ... MEASURED_EXCESS EXPECTED_EXCESS\n",
       "                            ...                                \n",
       "    object        object    ...     float64         float64    \n",
       "------------- ------------- ... --------------- ---------------\n",
       "53343.9210069 53343.9405019 ...   144.181818182   325.262681954\n",
       "53343.9530032 53343.9724047 ...   153.636363636   345.273841461"
      ]
     },
     "execution_count": 6,
     "metadata": {},
     "output_type": "execute_result"
    }
   ],
   "source": [
    "print(lc.colnames)\n",
    "lc['TIME_MIN', 'TIME_MAX', 'FLUX', 'FLUX_ERR', 'MEASURED_EXCESS', 'EXPECTED_EXCESS']"
   ]
  },
  {
   "cell_type": "markdown",
   "metadata": {},
   "source": [
    "Data can be plot with the buit-in `plot` function"
   ]
  },
  {
   "cell_type": "code",
   "execution_count": 5,
   "metadata": {
    "collapsed": false
   },
   "outputs": [
    {
     "data": {
      "text/plain": [
       "<matplotlib.axes._subplots.AxesSubplot at 0x115d5f350>"
      ]
     },
     "execution_count": 5,
     "metadata": {},
     "output_type": "execute_result"
    },
    {
     "data": {
      "image/png": "[encoded data removed]",
      "text/plain": [
       "<matplotlib.figure.Figure at 0x112402210>"
      ]
     },
     "metadata": {},
     "output_type": "display_data"
    }
   ],
   "source": [
    "lc.plot()"
   ]
  }
 ],
 "metadata": {
  "kernelspec": {
   "display_name": "Python 2",
   "language": "python",
   "name": "python2"
  },
  "language_info": {
   "codemirror_mode": {
    "name": "ipython",
    "version": 2
   },
   "file_extension": ".py",
   "mimetype": "text/x-python",
   "name": "python",
   "nbconvert_exporter": "python",
   "pygments_lexer": "ipython2",
   "version": "2.7.12"
  }
 },
 "nbformat": 4,
 "nbformat_minor": 2
}
