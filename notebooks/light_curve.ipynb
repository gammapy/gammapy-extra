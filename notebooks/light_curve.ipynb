{
 "cells": [
  {
   "cell_type": "markdown",
   "metadata": {},
   "source": [
    "# Example of light curve\n",
    "\n",
    "## Introduction\n",
    "This notebook explain how light curves can be computed with Gammapy. The method implemented follows http://adsabs.harvard.edu/abs/2010A%26A...520A..83H method's. We'll use fake data from the Crab Nebula.\n",
    "\n",
    "TODO: Check the light curve estimator with good IRFs and real data\n",
    "\n",
    "## Setup\n",
    "As usual, we'll start with some setup..."
   ]
  },
  {
   "cell_type": "code",
   "execution_count": null,
   "metadata": {
    "collapsed": false
   },
   "outputs": [],
   "source": [
    "%matplotlib inline\n",
    "import astropy.units as u\n",
    "from astropy.units import Quantity\n",
    "from astropy.coordinates import SkyCoord, Angle\n",
    "\n",
    "from regions import CircleSkyRegion\n",
    "\n",
    "from gammapy.utils.energy import EnergyBounds\n",
    "from gammapy.data import Target, DataStore\n",
    "from gammapy.spectrum import SpectrumExtraction\n",
    "from gammapy.spectrum.models import PowerLaw\n",
    "from gammapy.background import ReflectedRegionsBackgroundEstimator\n",
    "from gammapy.image import SkyImage\n",
    "from gammapy.time import LightCurve, LightCurveEstimator"
   ]
  },
  {
   "cell_type": "markdown",
   "metadata": {},
   "source": [
    "## Extract spectral data\n",
    "First, we will extract the spectral data needed to build the light curve."
   ]
  },
  {
   "cell_type": "code",
   "execution_count": null,
   "metadata": {
    "collapsed": false
   },
   "outputs": [],
   "source": [
    "# Prepare the data\n",
    "data_store = DataStore.from_dir('$GAMMAPY_EXTRA/datasets/hess-crab4-hd-hap-prod2/')\n",
    "obs_ids = [23523, 23526]\n",
    "obs_list = data_store.obs_list(obs_ids)\n",
    "\n",
    "# Target definition\n",
    "target_position = SkyCoord(ra=83.63308, dec=22.01450, unit='deg')\n",
    "on_region_radius = Angle('0.2 deg')\n",
    "on_region = CircleSkyRegion(center=target_position, radius=on_region_radius)\n",
    "target = Target(on_region=on_region, name='Crab', tag='ana_crab')\n",
    "\n",
    "# Exclusion regions\n",
    "exclusion_file = '$GAMMAPY_EXTRA/datasets/exclusion_masks/tevcat_exclusion.fits'\n",
    "allsky_mask = SkyImage.read(exclusion_file)\n",
    "exclusion_mask = allsky_mask.cutout(\n",
    "    position=target.on_region.center,\n",
    "    size=Angle('6 deg'),\n",
    ")\n",
    "\n",
    "# Estimation of the background\n",
    "bkg_estimator = ReflectedRegionsBackgroundEstimator(on_region=on_region,\n",
    "                                                    obs_list=obs_list,\n",
    "                                                    exclusion_mask=exclusion_mask)\n",
    "bkg_estimator.run()\n",
    "\n",
    "# Extract the spectral data\n",
    "e_reco = EnergyBounds.equal_log_spacing(0.7, 100, 50, unit='TeV')  # fine binning\n",
    "e_true = EnergyBounds.equal_log_spacing(0.05, 100, 200, unit='TeV')\n",
    "extraction = SpectrumExtraction(obs_list=obs_list,\n",
    "                                bkg_estimate=bkg_estimator.result,\n",
    "                                containment_correction=False,\n",
    "                                e_reco=e_reco,\n",
    "                                e_true=e_true)\n",
    "extraction.run()\n",
    "extraction.compute_energy_threshold(method_lo='area_max', area_percent_lo=10.0)"
   ]
  },
  {
   "cell_type": "markdown",
   "metadata": {},
   "source": [
    "## Light curve estimation"
   ]
  },
  {
   "cell_type": "code",
   "execution_count": null,
   "metadata": {
    "collapsed": false
   },
   "outputs": [],
   "source": [
    "lc_estimator = LightCurveEstimator(extraction)\n",
    "\n",
    "# Define the time intervals. Here, we only select intervals corresponding to an observation\n",
    "intervals = []\n",
    "for obs in extraction.obs_list:\n",
    "    intervals.append([obs.events.time[0], obs.events.time[-1]])\n",
    "\n",
    "# Model to compute the expected counts (generally, parameters come from the fit)\n",
    "model = PowerLaw(\n",
    "    index=2. * u.Unit(''),\n",
    "    amplitude=2.e-11 * u.Unit('1 / (cm2 s TeV)'),\n",
    "    reference=1 * u.TeV,\n",
    ")\n",
    "\n",
    "# Estimation of the light curve\n",
    "lc = lc_estimator.light_curve(\n",
    "    time_intervals=intervals,\n",
    "    spectral_model=model,\n",
    "    energy_range=[0.7, 100] * u.TeV,\n",
    ")\n"
   ]
  },
  {
   "cell_type": "markdown",
   "metadata": {
    "collapsed": true
   },
   "source": [
    "## Results\n",
    "The resulting objects is a table. Attributs can be accessed as follow:"
   ]
  },
  {
   "cell_type": "code",
   "execution_count": null,
   "metadata": {
    "collapsed": false
   },
   "outputs": [],
   "source": [
    "print(lc.colnames)\n",
    "lc['TIME_MIN', 'TIME_MAX', 'FLUX', 'FLUX_ERR', 'MEASURED_EXCESS', 'EXPECTED_EXCESS']"
   ]
  },
  {
   "cell_type": "markdown",
   "metadata": {},
   "source": [
    "Data can be plot with the buit-in `plot` function"
   ]
  },
  {
   "cell_type": "code",
   "execution_count": null,
   "metadata": {
    "collapsed": false
   },
   "outputs": [],
   "source": [
    "lc.plot()"
   ]
  },
  {
   "cell_type": "code",
   "execution_count": null,
   "metadata": {
    "collapsed": true
   },
   "outputs": [],
   "source": []
  }
 ],
 "metadata": {
  "kernelspec": {
   "display_name": "Python 2",
   "language": "python",
   "name": "python2"
  },
  "language_info": {
   "codemirror_mode": {
    "name": "ipython",
    "version": 2
   },
   "file_extension": ".py",
   "mimetype": "text/x-python",
   "name": "python",
   "nbconvert_exporter": "python",
   "pygments_lexer": "ipython2",
   "version": "2.7.12"
  }
 },
 "nbformat": 4,
 "nbformat_minor": 2
}
