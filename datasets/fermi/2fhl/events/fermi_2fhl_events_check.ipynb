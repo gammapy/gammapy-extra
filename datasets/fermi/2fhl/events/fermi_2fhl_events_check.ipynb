{
 "cells": [
  {
   "cell_type": "code",
   "execution_count": 1,
   "metadata": {
    "collapsed": false
   },
   "outputs": [],
   "source": [
    "%matplotlib inline\n",
    "import numpy as np\n",
    "import matplotlib.pyplot as plt\n",
    "plt.style.use('ggplot')"
   ]
  },
  {
   "cell_type": "code",
   "execution_count": 2,
   "metadata": {
    "collapsed": true
   },
   "outputs": [],
   "source": [
    "from gammapy.data import EventList"
   ]
  },
  {
   "cell_type": "code",
   "execution_count": 3,
   "metadata": {
    "collapsed": false
   },
   "outputs": [],
   "source": [
    "events_ref = EventList.read('fermi_2fhl_events_reference.fits.gz')"
   ]
  },
  {
   "cell_type": "code",
   "execution_count": 4,
   "metadata": {
    "collapsed": true
   },
   "outputs": [],
   "source": [
    "events = EventList.read('fermi_2fhl_events.fits.gz')"
   ]
  },
  {
   "cell_type": "code",
   "execution_count": 5,
   "metadata": {
    "collapsed": false
   },
   "outputs": [
    {
     "name": "stdout",
     "output_type": "stream",
     "text": [
      "Number of events in reference: 60978\n",
      "Number of events in: 60275\n"
     ]
    }
   ],
   "source": [
    "print('Number of events in reference: {}'.format(len(events_ref)))\n",
    "print('Number of events in: {}'.format(len(events)))"
   ]
  },
  {
   "cell_type": "markdown",
   "metadata": {},
   "source": [
    "# Check min. and max. values"
   ]
  },
  {
   "cell_type": "code",
   "execution_count": 6,
   "metadata": {
    "collapsed": false
   },
   "outputs": [
    {
     "name": "stdout",
     "output_type": "stream",
     "text": [
      "Checking minimum for ENERGY             : OK!\n",
      "Checking minimum for RA                 : OK!\n",
      "Checking minimum for DEC                : OK!\n",
      "Checking minimum for L                  : OK!\n",
      "Checking minimum for B                  : OK!\n",
      "Checking minimum for THETA              : OK!\n",
      "Checking minimum for PHI                : OK!\n",
      "Checking minimum for ZENITH_ANGLE       : OK!\n",
      "Checking minimum for EARTH_AZIMUTH_ANGLE: OK!\n",
      "Checking minimum for TIME               : OK!\n",
      "Checking minimum for EVENT_ID           : OK!\n",
      "Checking minimum for RUN_ID             : OK!\n",
      "Checking minimum for RECON_VERSION      : OK!\n",
      "Checking minimum for CALIB_VERSION      : OK!\n",
      "Checking minimum for EVENT_CLASS        : OK!\n",
      "Checking minimum for EVENT_TYPE         : OK!\n",
      "Checking minimum for CONVERSION_TYPE    : OK!\n",
      "Checking minimum for LIVETIME           : OK!\n",
      "Checking minimum for DIFRSP0            : OK!\n",
      "Checking minimum for DIFRSP1            : Not OK!\n",
      "Checking minimum for DIFRSP2            : OK!\n",
      "Checking minimum for DIFRSP3            : OK!\n",
      "Checking minimum for DIFRSP4            : OK!\n"
     ]
    }
   ],
   "source": [
    "for column in events.colnames:\n",
    "    check = np.allclose(events[column].min(), events_ref[column].min())\n",
    "    label = 'OK!' if check else 'Not OK!'\n",
    "    print(\"Checking minimum for {0:19s}: {1}\".format(column, label))"
   ]
  },
  {
   "cell_type": "code",
   "execution_count": 7,
   "metadata": {
    "collapsed": false
   },
   "outputs": [
    {
     "name": "stdout",
     "output_type": "stream",
     "text": [
      "Checking maximum for ENERGY             : OK!\n",
      "Checking maximum for RA                 : OK!\n",
      "Checking maximum for DEC                : OK!\n",
      "Checking maximum for L                  : OK!\n",
      "Checking maximum for B                  : OK!\n",
      "Checking maximum for THETA              : OK!\n",
      "Checking maximum for PHI                : OK!\n",
      "Checking maximum for ZENITH_ANGLE       : OK!\n",
      "Checking maximum for EARTH_AZIMUTH_ANGLE: OK!\n",
      "Checking maximum for TIME               : OK!\n",
      "Checking maximum for EVENT_ID           : OK!\n",
      "Checking maximum for RUN_ID             : OK!\n",
      "Checking maximum for RECON_VERSION      : OK!\n",
      "Checking maximum for CALIB_VERSION      : OK!\n",
      "Checking maximum for EVENT_CLASS        : OK!\n",
      "Checking maximum for EVENT_TYPE         : OK!\n",
      "Checking maximum for CONVERSION_TYPE    : OK!\n",
      "Checking maximum for LIVETIME           : OK!\n",
      "Checking maximum for DIFRSP0            : Not OK!\n",
      "Checking maximum for DIFRSP1            : Not OK!\n",
      "Checking maximum for DIFRSP2            : OK!\n",
      "Checking maximum for DIFRSP3            : OK!\n",
      "Checking maximum for DIFRSP4            : OK!\n"
     ]
    }
   ],
   "source": [
    "for column in events.colnames:\n",
    "    check = np.allclose(events[column].max(), events_ref[column].max())\n",
    "    label = 'OK!' if check else 'Not OK!'\n",
    "    print(\"Checking maximum for {0:19s}: {1}\".format(column, label))"
   ]
  },
  {
   "cell_type": "markdown",
   "metadata": {},
   "source": [
    "# Time distribution\n",
    "Checking the distribution of event times, quickly shows, that the difference is limited to a certain period in time:"
   ]
  },
  {
   "cell_type": "code",
   "execution_count": 8,
   "metadata": {
    "collapsed": false
   },
   "outputs": [
    {
     "data": {
      "text/plain": [
       "<matplotlib.text.Text at 0x7f6dfb59dac8>"
      ]
     },
     "execution_count": 8,
     "metadata": {},
     "output_type": "execute_result"
    },
    {
     "data": {
      "image/png": "[encoded data removed]",
      "text/plain": [
       "<matplotlib.figure.Figure at 0x7f6dfb587860>"
      ]
     },
     "metadata": {},
     "output_type": "display_data"
    }
   ],
   "source": [
    "name = 'TIME'\n",
    "data_ref, bins, _ = plt.hist(events_ref[name], bins=80)\n",
    "data, bins, _ = plt.hist(events[name], bins=80)\n",
    "plt.ylabel('Counts')"
   ]
  }
 ],
 "metadata": {
  "kernelspec": {
   "display_name": "Python 3",
   "language": "python",
   "name": "python3"
  },
  "language_info": {
   "codemirror_mode": {
    "name": "ipython",
    "version": 3
   },
   "file_extension": ".py",
   "mimetype": "text/x-python",
   "name": "python",
   "nbconvert_exporter": "python",
   "pygments_lexer": "ipython3",
   "version": "3.5.2"
  }
 },
 "nbformat": 4,
 "nbformat_minor": 0
}
